{
  "nbformat": 4,
  "nbformat_minor": 0,
  "metadata": {
    "colab": {
      "provenance": [],
      "authorship_tag": "ABX9TyOIyipJOOMdt0bjiWbn+M77",
      "include_colab_link": true
    },
    "kernelspec": {
      "name": "python3",
      "display_name": "Python 3"
    },
    "language_info": {
      "name": "python"
    }
  },
  "cells": [
    {
      "cell_type": "markdown",
      "metadata": {
        "id": "view-in-github",
        "colab_type": "text"
      },
      "source": [
        "<a href=\"https://colab.research.google.com/github/AmanpreetKaur-123/TR-103-batch-2022-2026-/blob/main/Practicse_questions(mini_project).ipynb\" target=\"_parent\"><img src=\"https://colab.research.google.com/assets/colab-badge.svg\" alt=\"Open In Colab\"/></a>"
      ]
    },
    {
      "cell_type": "markdown",
      "source": [
        "DATE 14.7.2025"
      ],
      "metadata": {
        "id": "qJfik5SlrzrC"
      }
    },
    {
      "cell_type": "markdown",
      "source": [
        "#Password Strength Checker\n",
        "**Problem:**\n",
        "Ask the user to enter a password and check if it is strong. A strong password must:\n",
        "\n",
        "* Have at least 8 characters\n",
        "\n",
        "* Include a number\n",
        "\n",
        "* Include a capital letter\n",
        "\n",
        "* Include a symbol like @, #, etc."
      ],
      "metadata": {
        "id": "y0ocV5hysGHi"
      }
    },
    {
      "cell_type": "code",
      "execution_count": 1,
      "metadata": {
        "colab": {
          "base_uri": "https://localhost:8080/"
        },
        "id": "EyV09r7RryiH",
        "outputId": "a78eb532-300a-4dcb-d5dd-61e1c5d69281"
      },
      "outputs": [
        {
          "output_type": "stream",
          "name": "stdout",
          "text": [
            "Enter your password: Aman@123\n",
            "Your password is strong.\n"
          ]
        }
      ],
      "source": [
        "import string\n",
        "\n",
        "def is_strong_password(password):\n",
        "    if len(password) < 8:\n",
        "        return False\n",
        "    has_number = any(char.isdigit() for char in password)\n",
        "    has_upper = any(char.isupper() for char in password)\n",
        "    has_symbol = any(char in string.punctuation for char in password)\n",
        "\n",
        "    return has_number and has_upper and has_symbol\n",
        "\n",
        "# Ask user for input\n",
        "password = input(\"Enter your password: \")\n",
        "\n",
        "# Check and display result\n",
        "if is_strong_password(password):\n",
        "    print(\"Your password is strong.\")\n",
        "else:\n",
        "    print(\"Weak password! Make sure it has at least 8 characters, one number, one uppercase letter, and one symbol.\")\n"
      ]
    },
    {
      "cell_type": "markdown",
      "source": [
        "#Library Book Tracker\n",
        "Create a mini program to track issued books in a library. The user can:\n",
        "\n",
        "* View all available books\n",
        "\n",
        "* Issue a book (it gets removed from the list)\n",
        "\n",
        "* Return a book (it gets added back)\n"
      ],
      "metadata": {
        "id": "TvTXdDQqsVKW"
      }
    },
    {
      "cell_type": "code",
      "source": [
        "# Initial list of available books\n",
        "available_books = [\"The Alchemist\", \"Python Programming\", \"Data Structures\", \"Machine Learning\", \"Harry Potter\"]\n",
        "\n",
        "def display_books():\n",
        "    if available_books:\n",
        "        print(\"\\nAvailable Books:\")\n",
        "        for i, book in enumerate(available_books, 1):\n",
        "            print(f\"{i}. {book}\")\n",
        "    else:\n",
        "        print(\"\\nNo books available currently.\")\n",
        "\n",
        "def issue_book():\n",
        "    display_books()\n",
        "    book_name = input(\"\\nEnter the name of the book you want to issue: \")\n",
        "    if book_name in available_books:\n",
        "        available_books.remove(book_name)\n",
        "        print(f\"'{book_name}' has been issued.\")\n",
        "    else:\n",
        "        print(f\"Sorry, '{book_name}' is not available.\")\n",
        "\n",
        "def return_book():\n",
        "    book_name = input(\"\\nEnter the name of the book you want to return: \")\n",
        "    if book_name in available_books:\n",
        "        print(f\"'{book_name}' is already in the library.\")\n",
        "    else:\n",
        "        available_books.append(book_name)\n",
        "        print(f\"'{book_name}' has been returned. Thank you!\")\n",
        "\n",
        "# Main loop\n",
        "while True:\n",
        "    print(\"\\n--- Library Menu ---\")\n",
        "    print(\"1. View available books\")\n",
        "    print(\"2. Issue a book\")\n",
        "    print(\"3. Return a book\")\n",
        "    print(\"4. Exit\")\n",
        "\n",
        "    choice = input(\"Enter your choice (1-4): \")\n",
        "\n",
        "    if choice == '1':\n",
        "        display_books()\n",
        "    elif choice == '2':\n",
        "        issue_book()\n",
        "    elif choice == '3':\n",
        "        return_book()\n",
        "    elif choice == '4':\n",
        "        print(\"Thank you for using the Library Book Tracker.\")\n",
        "        break\n",
        "    else:\n",
        "        print(\"Invalid choice. Please try again.\")\n"
      ],
      "metadata": {
        "colab": {
          "base_uri": "https://localhost:8080/"
        },
        "id": "zxGlIv5Ksj-p",
        "outputId": "ec8f89b5-7074-4ac3-ff3b-e1213c2b328e"
      },
      "execution_count": 3,
      "outputs": [
        {
          "output_type": "stream",
          "name": "stdout",
          "text": [
            "\n",
            "--- Library Menu ---\n",
            "1. View available books\n",
            "2. Issue a book\n",
            "3. Return a book\n",
            "4. Exit\n",
            "Enter your choice (1-4): 2\n",
            "\n",
            "Available Books:\n",
            "1. The Alchemist\n",
            "2. Python Programming\n",
            "3. Data Structures\n",
            "4. Machine Learning\n",
            "5. Harry Potter\n",
            "\n",
            "Enter the name of the book you want to issue: Data Structures\n",
            "'Data Structures' has been issued.\n",
            "\n",
            "--- Library Menu ---\n",
            "1. View available books\n",
            "2. Issue a book\n",
            "3. Return a book\n",
            "4. Exit\n",
            "Enter your choice (1-4): 2\n",
            "\n",
            "Available Books:\n",
            "1. The Alchemist\n",
            "2. Python Programming\n",
            "3. Machine Learning\n",
            "4. Harry Potter\n",
            "\n",
            "Enter the name of the book you want to issue: Python Programming\n",
            "'Python Programming' has been issued.\n",
            "\n",
            "--- Library Menu ---\n",
            "1. View available books\n",
            "2. Issue a book\n",
            "3. Return a book\n",
            "4. Exit\n",
            "Enter your choice (1-4): 3\n",
            "\n",
            "Enter the name of the book you want to return: Python Programming\n",
            "'Python Programming' has been returned. Thank you!\n",
            "\n",
            "--- Library Menu ---\n",
            "1. View available books\n",
            "2. Issue a book\n",
            "3. Return a book\n",
            "4. Exit\n",
            "Enter your choice (1-4): 1\n",
            "\n",
            "Available Books:\n",
            "1. The Alchemist\n",
            "2. Machine Learning\n",
            "3. Harry Potter\n",
            "4. Python Programming\n",
            "\n",
            "--- Library Menu ---\n",
            "1. View available books\n",
            "2. Issue a book\n",
            "3. Return a book\n",
            "4. Exit\n",
            "Enter your choice (1-4): 4\n",
            "Thank you for using the Library Book Tracker.\n"
          ]
        }
      ]
    },
    {
      "cell_type": "markdown",
      "source": [
        "#Voting Eligibility Checker\n",
        "**Problem:**\n",
        "Ask for the user's age and check if they are eligible to vote (age ≥ 18). If not, show how many years are left."
      ],
      "metadata": {
        "id": "B1b6Aue3tSG6"
      }
    },
    {
      "cell_type": "code",
      "source": [
        "age = int(input(\"Enter your age: \"))\n",
        "\n",
        "if age >= 18:\n",
        "    print(\"You are eligible to vote.\")\n",
        "else:\n",
        "    years_left = 18 - age\n",
        "    print(f\"You are not eligible to vote yet. You need to wait {years_left} more year(s).\")\n"
      ],
      "metadata": {
        "colab": {
          "base_uri": "https://localhost:8080/"
        },
        "id": "lNYDYyQgtZpL",
        "outputId": "945f75f7-987a-4c5b-8006-a3fb89053641"
      },
      "execution_count": 4,
      "outputs": [
        {
          "output_type": "stream",
          "name": "stdout",
          "text": [
            "Enter your age: 13\n",
            "You are not eligible to vote yet. You need to wait 5 more year(s).\n"
          ]
        }
      ]
    },
    {
      "cell_type": "markdown",
      "source": [
        "#Student Report Card System\n",
        "\n",
        "**Problem:**\n",
        "Create a class Student with attributes: name, roll, marks (list). Calculate:\n",
        "\n",
        "* Total marks\n",
        "\n",
        "* Percentage\n",
        "\n",
        "* Grade (A/B/C...)"
      ],
      "metadata": {
        "id": "mGWb0vjLtj8M"
      }
    },
    {
      "cell_type": "code",
      "source": [
        "class Student:\n",
        "    def __init__(self, name, roll, marks):\n",
        "        self.name = name\n",
        "        self.roll = roll\n",
        "        self.marks = marks\n",
        "\n",
        "    def total_marks(self):\n",
        "        return sum(self.marks)\n",
        "\n",
        "    def percentage(self):\n",
        "        return self.total_marks() / len(self.marks)\n",
        "\n",
        "    def grade(self):\n",
        "        percent = self.percentage()\n",
        "        if percent >= 90:\n",
        "            return 'A+'\n",
        "        elif percent >= 80:\n",
        "            return 'A'\n",
        "        elif percent >= 70:\n",
        "            return 'B'\n",
        "        elif percent >= 60:\n",
        "            return 'C'\n",
        "        elif percent >= 50:\n",
        "            return 'D'\n",
        "        else:\n",
        "            return 'F'\n",
        "\n",
        "    def display_report(self):\n",
        "        print(\"\\n--- Student Report Card ---\")\n",
        "        print(f\"Name: {self.name}\")\n",
        "        print(f\"Roll No: {self.roll}\")\n",
        "        print(f\"Marks: {self.marks}\")\n",
        "        print(f\"Total Marks: {self.total_marks()}\")\n",
        "        print(f\"Percentage: {self.percentage():.2f}%\")\n",
        "        print(f\"Grade: {self.grade()}\")\n",
        "\n",
        "\n",
        "name = input(\"Enter student name: \")\n",
        "roll = input(\"Enter roll number: \")\n",
        "num_subjects = int(input(\"Enter number of subjects: \"))\n",
        "\n",
        "marks = []\n",
        "for i in range(num_subjects):\n",
        "    mark = float(input(f\"Enter marks for subject {i+1}: \"))\n",
        "    marks.append(mark)\n",
        "\n",
        "student = Student(name, roll, marks)\n",
        "student.display_report()\n"
      ],
      "metadata": {
        "colab": {
          "base_uri": "https://localhost:8080/"
        },
        "id": "XRObBSERtggJ",
        "outputId": "ed773ba1-9e5c-448b-9170-e34158b35812"
      },
      "execution_count": 8,
      "outputs": [
        {
          "output_type": "stream",
          "name": "stdout",
          "text": [
            "Enter student name: Amanpreet kaur\n",
            "Enter roll number: 2215011\n",
            "Enter number of subjects: 4\n",
            "Enter marks for subject 1: 90\n",
            "Enter marks for subject 2: 92\n",
            "Enter marks for subject 3: 94\n",
            "Enter marks for subject 4: 89\n",
            "\n",
            "--- Student Report Card ---\n",
            "Name: Amanpreet kaur\n",
            "Roll No: 2215011\n",
            "Marks: [90.0, 92.0, 94.0, 89.0]\n",
            "Total Marks: 365.0\n",
            "Percentage: 91.25%\n",
            "Grade: A+\n"
          ]
        }
      ]
    }
  ]
}