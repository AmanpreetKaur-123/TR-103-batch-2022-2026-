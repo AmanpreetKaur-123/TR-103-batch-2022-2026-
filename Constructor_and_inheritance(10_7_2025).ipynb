{
  "cells": [
    {
      "cell_type": "markdown",
      "metadata": {
        "id": "view-in-github",
        "colab_type": "text"
      },
      "source": [
        "<a href=\"https://colab.research.google.com/github/AmanpreetKaur-123/TR-103-batch-2022-2026-/blob/main/Constructor_and_inheritance(10_7_2025).ipynb\" target=\"_parent\"><img src=\"https://colab.research.google.com/assets/colab-badge.svg\" alt=\"Open In Colab\"/></a>"
      ]
    },
    {
      "cell_type": "markdown",
      "metadata": {
        "id": "9d8sXAPW3jPr"
      },
      "source": [
        "#OOP in Python"
      ]
    },
    {
      "cell_type": "markdown",
      "metadata": {
        "id": "rQrA2MKg2-jF"
      },
      "source": [
        "\n",
        "## 🔸 1. Class and Object\n",
        "\n",
        "### ✅ A **class** is a blueprint for creating objects.\n",
        "\n",
        "### ✅ An **object** is an instance of a class.\n",
        "\n",
        "```python\n",
        "class Person:\n",
        "    def __init__(self, name, age):\n",
        "        self.name = name\n",
        "        self.age = age\n",
        "\n",
        "# Creating an object\n",
        "p1 = Person(\"Alice\", 25)\n",
        "\n",
        "print(p1.name)  # Output: Alice\n",
        "print(p1.age)   # Output: 25\n",
        "```\n",
        "\n",
        "---\n",
        "\n",
        "## 🔸 2. The `__init__` Constructor Method\n",
        "- Special method used for initializing objects.\n",
        "- Automatically called when object is created.\n",
        "\n",
        "```python\n",
        "class Car:\n",
        "    def __init__(self, brand):\n",
        "        self.brand = brand\n",
        "\n",
        "car1 = Car(\"Toyota\")\n",
        "print(car1.brand)  # Output: Toyota\n",
        "```\n",
        "\n",
        "---\n",
        "\n",
        "## 🔸 3. The `self` Keyword\n",
        "- Refers to the current instance of the class.\n",
        "- Used to access instance variables and methods.\n",
        "\n",
        "```python\n",
        "class Animal:\n",
        "    def speak(self):\n",
        "        print(\"Animal speaks\")\n",
        "\n",
        "a = Animal()\n",
        "a.speak()  # Output: Animal speaks\n",
        "```\n",
        "\n",
        "---\n",
        "\n",
        "## 🔸 4. Instance vs Class Variables\n",
        "\n",
        "```python\n",
        "class Dog:\n",
        "    species = \"Canine\"  # Class variable\n",
        "\n",
        "    def __init__(self, name):\n",
        "        self.name = name  # Instance variable\n",
        "\n",
        "d1 = Dog(\"Buddy\")\n",
        "print(d1.name)     # Output: Buddy\n",
        "print(d1.species)  # Output: Canine\n",
        "```\n",
        "\n",
        "---\n",
        "\n",
        "## 🔸 5. Encapsulation\n",
        "- Hiding internal state and requiring all interaction to be performed through methods.\n",
        "\n",
        "```python\n",
        "class BankAccount:\n",
        "    def __init__(self):\n",
        "        self.__balance = 0  # Private variable\n",
        "\n",
        "    def deposit(self, amount):\n",
        "        self.__balance += amount\n",
        "\n",
        "    def get_balance(self):\n",
        "        return self.__balance\n",
        "\n",
        "account = BankAccount()\n",
        "account.deposit(100)\n",
        "print(account.get_balance())  # Output: 100\n",
        "```\n",
        "\n",
        "> Note: `__balance` is not accessible directly outside the class.\n",
        "\n",
        "---\n",
        "\n",
        "## 🔸 6. Inheritance\n",
        "- One class can inherit attributes and methods from another class.\n",
        "\n",
        "```python\n",
        "class Animal:\n",
        "    def speak(self):\n",
        "        print(\"Animal speaks\")\n",
        "\n",
        "class Dog(Animal):\n",
        "    def bark(self):\n",
        "        print(\"Dog barks\")\n",
        "\n",
        "d = Dog()\n",
        "d.speak()  # Inherited method\n",
        "d.bark()   # Own method\n",
        "```\n",
        "\n",
        "---\n",
        "\n",
        "## 🔸 7. Method Overriding\n",
        "- Redefining a parent class method in a child class.\n",
        "\n",
        "```python\n",
        "class Animal:\n",
        "    def speak(self):\n",
        "        print(\"Animal speaks\")\n",
        "\n",
        "class Cat(Animal):\n",
        "    def speak(self):\n",
        "        print(\"Meow\")\n",
        "\n",
        "c = Cat()\n",
        "c.speak()  # Output: Meow\n",
        "```\n",
        "\n",
        "---\n",
        "\n",
        "## 🔸 8. Polymorphism\n",
        "- Different classes can have methods with the same name but different behavior.\n",
        "\n",
        "```python\n",
        "class Bird:\n",
        "    def sound(self):\n",
        "        print(\"Tweet\")\n",
        "\n",
        "class Lion:\n",
        "    def sound(self):\n",
        "        print(\"Roar\")\n",
        "\n",
        "for animal in (Bird(), Lion()):\n",
        "    animal.sound()\n",
        "```\n",
        "\n",
        "---\n",
        "\n",
        "## 🔸 9. Abstraction\n",
        "- Hiding complex implementation and showing only the necessary details.\n",
        "- Achieved using `abc` module and `@abstractmethod`.\n",
        "\n",
        "```python\n",
        "from abc import ABC, abstractmethod\n",
        "\n",
        "class Shape(ABC):\n",
        "    @abstractmethod\n",
        "    def area(self):\n",
        "        pass\n",
        "\n",
        "class Circle(Shape):\n",
        "    def __init__(self, radius):\n",
        "        self.radius = radius\n",
        "\n",
        "    def area(self):\n",
        "        return 3.14 * self.radius * self.radius\n",
        "\n",
        "c = Circle(5)\n",
        "print(c.area())  # Output: 78.5\n",
        "```\n",
        "\n",
        "---\n",
        "\n",
        "## ✅ Summary Table\n",
        "\n",
        "| Concept         | Description                                         |\n",
        "|----------------|-----------------------------------------------------|\n",
        "| Class           | Blueprint for objects                              |\n",
        "| Object          | Instance of a class                                |\n",
        "| `__init__`      | Constructor method                                  |\n",
        "| `self`          | Refers to current object                           |\n",
        "| Encapsulation   | Hiding internal data                               |\n",
        "| Inheritance     | Acquiring properties from parent class             |\n",
        "| Polymorphism    | Same method, different classes                     |\n",
        "| Abstraction     | Hiding unnecessary details                         |\n",
        "\n",
        "---\n",
        "\n"
      ]
    },
    {
      "cell_type": "code",
      "execution_count": null,
      "metadata": {
        "colab": {
          "base_uri": "https://localhost:8080/"
        },
        "id": "t_1PgIoU7_Rq",
        "outputId": "4fb86837-7b9f-44a8-cd3d-df49a21d48e4"
      },
      "outputs": [
        {
          "name": "stdout",
          "output_type": "stream",
          "text": [
            "9\n",
            "-5\n",
            "14\n",
            "0.2857142857142857\n"
          ]
        }
      ],
      "source": [
        "# Example 1 with constructor\n",
        "class Calculator:\n",
        "  def __init__(self, a, b):\n",
        "    self.a = a\n",
        "    self.b = b\n",
        "\n",
        "  def add(self):\n",
        "    print(self.a + self.b)\n",
        "\n",
        "  def sub(self):\n",
        "    print(self.a - self.b)\n",
        "\n",
        "  def multiply(self):\n",
        "    print(self.a * self.b)\n",
        "\n",
        "  def divide(self):\n",
        "    print(self.a / self.b)\n",
        "\n",
        "\n",
        "\n",
        "p = Calculator(2, 7)\n",
        "p.add()\n",
        "p.sub()\n",
        "p.multiply()\n",
        "p.divide()\n",
        "\n"
      ]
    },
    {
      "cell_type": "code",
      "execution_count": null,
      "metadata": {
        "colab": {
          "base_uri": "https://localhost:8080/"
        },
        "id": "FqZB-aZDH9th",
        "outputId": "7084b17e-c59b-41eb-d2ea-ca6230b40240"
      },
      "outputs": [
        {
          "name": "stdout",
          "output_type": "stream",
          "text": [
            "Alice 25 90\n"
          ]
        }
      ],
      "source": [
        "# Example 2\n",
        "class Person:\n",
        "  # Constructor\n",
        "  def __init__(self, name, age, marks):\n",
        "    self.name = name\n",
        "    self.age = age\n",
        "    self.marks = marks\n",
        "\n",
        "\n",
        "\n",
        "  def display(self):\n",
        "    print(self.name, self.age, self.marks)\n",
        "\n",
        "\n",
        "\n",
        "# Creating an object\n",
        "p1 = Person(\"Alice\", 25, 90)\n",
        "\n",
        "p1.display()"
      ]
    },
    {
      "cell_type": "code",
      "execution_count": null,
      "metadata": {
        "id": "ObRR1kGvbBvx"
      },
      "outputs": [],
      "source": [
        "# Example 1 with constructor\n",
        "class Calculator:\n",
        "  def add(self, a, b):\n",
        "    self.a = a\n",
        "    self.b = b\n",
        "    print(self.a + self.b)\n",
        "\n",
        "  def sub(self, a, b):\n",
        "    self.a = a\n",
        "    self.b = b\n",
        "    print(self.a - self.b)\n",
        "\n",
        "  def multiply(self, a, b):\n",
        "    self.a = a\n",
        "    self.b = b\n",
        "    print(self.a * self.b)\n",
        "\n",
        "  def multiply(self, a, b):\n",
        "    self.a = a\n",
        "    self.b = b\n",
        "    print(self.a / self.b)\n",
        "\n",
        "\n",
        "\n",
        "p = Calculator()\n",
        "p.add(3, 7)\n",
        "p.sub(9, 4)\n",
        "p.multiply(3, 9)\n",
        "p.divide(9, 3)\n",
        "\n"
      ]
    },
    {
      "cell_type": "code",
      "execution_count": null,
      "metadata": {
        "colab": {
          "base_uri": "https://localhost:8080/"
        },
        "id": "EotyjZ9029tL",
        "outputId": "0960b5e3-9a00-4490-9b14-f15d298f3415"
      },
      "outputs": [
        {
          "name": "stdout",
          "output_type": "stream",
          "text": [
            "Alice 25 90\n"
          ]
        }
      ],
      "source": [
        "class Person:\n",
        "\n",
        "  def name(self, name):\n",
        "    self.name = name\n",
        "\n",
        "\n",
        "  def age(self, age):\n",
        "    self.age = age\n",
        "\n",
        "\n",
        "  def marks(self, marks):\n",
        "    self.marks = marks\n",
        "\n",
        "\n",
        "  def display(self):\n",
        "    print(self.name, self.age, self.marks)\n",
        "\n",
        "\n",
        "\n",
        "# Creating an object\n",
        "p1 = Person()\n",
        "\n",
        "p1.name(\"Alice\")\n",
        "p1.age(25)\n",
        "p1.marks(90)\n",
        "\n",
        "p1.display()"
      ]
    },
    {
      "cell_type": "code",
      "execution_count": null,
      "metadata": {
        "colab": {
          "base_uri": "https://localhost:8080/"
        },
        "id": "Isc9PsvQ5FIA",
        "outputId": "e0181b1c-c173-49d4-fa80-b2df510a5548"
      },
      "outputs": [
        {
          "name": "stdout",
          "output_type": "stream",
          "text": [
            "Alice 25 90\n"
          ]
        }
      ],
      "source": [
        "class Person:\n",
        "  # Constructor\n",
        "  def __init__(self, name, age, marks):\n",
        "    self.name = name\n",
        "    self.age = age\n",
        "    self.marks = marks\n",
        "\n",
        "\n",
        "\n",
        "  def display(self):\n",
        "    print(self.name, self.age, self.marks)\n",
        "\n",
        "\n",
        "\n",
        "# Creating an object\n",
        "p1 = Person(\"Alice\", 25, 90)\n",
        "\n",
        "p1.display()"
      ]
    },
    {
      "cell_type": "code",
      "execution_count": null,
      "metadata": {
        "colab": {
          "base_uri": "https://localhost:8080/"
        },
        "id": "5yOY71fJ54-y",
        "outputId": "f02748fb-ad0b-490d-e593-25dc5b816180"
      },
      "outputs": [
        {
          "name": "stdout",
          "output_type": "stream",
          "text": [
            "Ford\n",
            "Mustang\n"
          ]
        }
      ],
      "source": [
        "class car:\n",
        "  company = 'Ford'\n",
        "\n",
        "  def car_name(self, name):\n",
        "    self.name = name\n",
        "\n",
        "\n",
        "c1 = car()\n",
        "\n",
        "c1.car_name(\"Mustang\")\n",
        "\n",
        "print(c1.company)\n",
        "print(c1.name)"
      ]
    },
    {
      "cell_type": "code",
      "execution_count": null,
      "metadata": {
        "colab": {
          "base_uri": "https://localhost:8080/"
        },
        "id": "ga-HhhFU7ql7",
        "outputId": "ae328b96-3206-406a-8f17-845905a831c6"
      },
      "outputs": [
        {
          "name": "stdout",
          "output_type": "stream",
          "text": [
            "700\n",
            "1500\n"
          ]
        }
      ],
      "source": [
        "class Bank:\n",
        "  def __init__(self):\n",
        "    self.balance = 0\n",
        "\n",
        "  def deposit(self, amount):\n",
        "    self.balance = self.balance + amount\n",
        "\n",
        "\n",
        "  def withdraw(self, amount):\n",
        "    self.balance = self.balance - amount\n",
        "\n",
        "\n",
        "  def check_balance(self):\n",
        "    return self.balance\n",
        "\n",
        "\n",
        "\n",
        "p1 = Bank()\n",
        "p1.deposit(1000)\n",
        "p1.withdraw(300)\n",
        "print(p1.check_balance())\n",
        "\n",
        "\n",
        "\n",
        "p2 = Bank()\n",
        "p2.deposit(2000)\n",
        "p2.withdraw(500)\n",
        "print(p2.check_balance())"
      ]
    },
    {
      "cell_type": "code",
      "execution_count": null,
      "metadata": {
        "colab": {
          "base_uri": "https://localhost:8080/"
        },
        "id": "ly-WLy4ZqUhL",
        "outputId": "9813495e-e844-4f88-a25d-2ad865a77d88"
      },
      "outputs": [
        {
          "name": "stdout",
          "output_type": "stream",
          "text": [
            "15\n",
            "5\n",
            "50\n",
            "2.0\n"
          ]
        }
      ],
      "source": [
        "class calculator:\n",
        "  def __init__(self, a, b):\n",
        "    self.a = a\n",
        "    self.b = b\n",
        "\n",
        "  def add(self):\n",
        "    return self.a + self.b\n",
        "\n",
        "  def sub(self):\n",
        "    return self.a - self.b\n",
        "\n",
        "  def mul(self):\n",
        "    return self.a * self.b\n",
        "\n",
        "  def div(self):\n",
        "    return self.a / self.b\n",
        "\n",
        "\n",
        "c1 = calculator(10, 5)\n",
        "\n",
        "print(c1.add())\n",
        "print(c1.sub())\n",
        "print(c1.mul())\n",
        "print(c1.div())"
      ]
    },
    {
      "cell_type": "code",
      "execution_count": null,
      "metadata": {
        "colab": {
          "base_uri": "https://localhost:8080/"
        },
        "id": "hIZvlIGAuQMH",
        "outputId": "1c5470ea-618b-496f-e33e-334127ed9c26"
      },
      "outputs": [
        {
          "name": "stdout",
          "output_type": "stream",
          "text": [
            "Name =  Aksh\n",
            "Age =  20\n",
            "Marks =  90\n",
            "Name =  John\n",
            "Age =  25\n",
            "Marks =  80\n"
          ]
        }
      ],
      "source": [
        "\n",
        "class Person:\n",
        "  def name(self, n):\n",
        "    self.name = n\n",
        "\n",
        "  def age(self, a):\n",
        "    self.age = a\n",
        "\n",
        "  def marks(self, m):\n",
        "    self.marks = m\n",
        "\n",
        "  def display(self):\n",
        "    print('Name = ', self.name)\n",
        "    print('Age = ', self.age)\n",
        "    print('Marks = ', self.marks)\n",
        "\n",
        "\n",
        "\n",
        "o1 = Person()\n",
        "o1.name('Aksh')\n",
        "o1.age(20)\n",
        "o1.marks(90)\n",
        "o1.display()\n",
        "\n",
        "\n",
        "\n",
        "o2 = Person()\n",
        "o2.name('John')\n",
        "o2.age(25)\n",
        "o2.marks(80)\n",
        "o2.display()\n",
        "\n"
      ]
    },
    {
      "cell_type": "code",
      "execution_count": null,
      "metadata": {
        "colab": {
          "base_uri": "https://localhost:8080/"
        },
        "id": "noZWtDUXB3oX",
        "outputId": "27c59f5e-72cc-41e4-a5b4-d58edeec76cf"
      },
      "outputs": [
        {
          "name": "stdout",
          "output_type": "stream",
          "text": [
            "Name =  Aksh\n",
            "Age =  20\n",
            "Marks =  90\n"
          ]
        }
      ],
      "source": [
        "class Person:\n",
        "  def __init__(self, n, a, m):\n",
        "    self.name = n\n",
        "    self.age = a\n",
        "    self.marks = m\n",
        "\n",
        "\n",
        "  def display(self):\n",
        "    print('Name = ', self.name)\n",
        "    print('Age = ', self.age)\n",
        "    print('Marks = ', self.marks)\n",
        "\n",
        "\n",
        "\n",
        "p1 = Person('Aksh', 20, 90)\n",
        "p1.display()"
      ]
    },
    {
      "cell_type": "code",
      "execution_count": null,
      "metadata": {
        "colab": {
          "base_uri": "https://localhost:8080/"
        },
        "id": "uxl5InJZCrUg",
        "outputId": "55b5a023-9d8c-47c8-da23-828091dfeb22"
      },
      "outputs": [
        {
          "name": "stdout",
          "output_type": "stream",
          "text": [
            "600\n"
          ]
        }
      ],
      "source": [
        "\n",
        "class Bank:\n",
        "  def __init__(self):\n",
        "    self.balance = 0\n",
        "\n",
        "  def deposit(self, amount):\n",
        "    self.balance = self.balance + amount\n",
        "\n",
        "\n",
        "  def withdraw(self, amount):\n",
        "    self.balance = self.balance - amount\n",
        "\n",
        "\n",
        "  def check_balance(self):\n",
        "    return self.balance\n",
        "\n",
        "\n",
        "\n",
        "# p1 = Bank()\n",
        "# p1.deposit(1000)\n",
        "# p1.withdraw(300)\n",
        "# print(p1.check_balance())\n",
        "\n",
        "\n",
        "\n",
        "# p2 = Bank()\n",
        "# p2.deposit(2000)\n",
        "# p2.withdraw(500)\n",
        "# print(p2.check_balance())\n",
        "\n",
        "\n",
        "\n",
        "p = Bank()\n",
        "\n",
        "p.deposit(1000)\n",
        "p.withdraw(400)\n",
        "\n",
        "print(p.check_balance())\n",
        "\n",
        "\n",
        "\n"
      ]
    },
    {
      "cell_type": "code",
      "execution_count": null,
      "metadata": {
        "colab": {
          "base_uri": "https://localhost:8080/"
        },
        "id": "tLf0OgGlD7xx",
        "outputId": "25520c70-e6a0-4ec0-9771-960a090a5620"
      },
      "outputs": [
        {
          "name": "stdout",
          "output_type": "stream",
          "text": [
            "Name =  abc\n",
            "Age =  30\n",
            "Name =  xyz\n",
            "Age =  45\n"
          ]
        }
      ],
      "source": [
        "class Person:\n",
        "  name = 'abc'\n",
        "\n",
        "  def age(self, a):\n",
        "    self.age = a\n",
        "\n",
        "  def display(self):\n",
        "    print('Name = ', self.name)\n",
        "    print('Age = ', self.age)\n",
        "\n",
        "\n",
        "p = Person()\n",
        "p.age(30)\n",
        "p.display()\n",
        "\n",
        "\n",
        "\n",
        "p2 = Person()\n",
        "p2.age(45)\n",
        "p2.name = 'xyz'\n",
        "p2.display()\n",
        "\n",
        "\n",
        "\n",
        "\n",
        "\n"
      ]
    },
    {
      "cell_type": "code",
      "execution_count": null,
      "metadata": {
        "colab": {
          "base_uri": "https://localhost:8080/"
        },
        "id": "oBQO5OoT_82q",
        "outputId": "11f3670b-2327-459a-edde-7490b84b8b77"
      },
      "outputs": [
        {
          "name": "stdout",
          "output_type": "stream",
          "text": [
            "My name is abc my age is 24\n",
            "My name is abc my age is 24\n"
          ]
        }
      ],
      "source": [
        "# F strings\n",
        "\n",
        "age = 24\n",
        "name = 'abc'\n",
        "\n",
        "print(\"My name is\", name, \"my age is\", age)\n",
        "\n",
        "\n",
        "# F strings\n",
        "print(f\"My name is {name} my age is {age}\")\n",
        "\n",
        "\n",
        "\n",
        "\n"
      ]
    },
    {
      "cell_type": "markdown",
      "metadata": {
        "id": "VYMvpBYiA-Ty"
      },
      "source": [
        "# Inheritance in python"
      ]
    },
    {
      "cell_type": "markdown",
      "metadata": {
        "id": "UtvNwUDRBChy"
      },
      "source": [
        "**Notes on Inheritance in Python**,\n",
        "\n",
        "---\n",
        "\n",
        "## 📘 Inheritance in Python – Complete Notes\n",
        "\n",
        "---\n",
        "\n",
        "## 🔹 What is Inheritance?\n",
        "\n",
        "**Inheritance** is a fundamental concept of Object-Oriented Programming (OOP) that allows a class (child/derived class) to **inherit** properties and behaviors (attributes and methods) from another class (parent/base class).\n",
        "\n",
        "> It promotes **code reuse**, **modularity**, and **extensibility**.\n",
        "\n",
        "---\n",
        "\n",
        "## 🔹 Why Use Inheritance?\n",
        "\n",
        "- To avoid code duplication\n",
        "- To enhance code reusability\n",
        "- To model hierarchical relationships (e.g., `Animal` → `Dog`, `Cat`)\n",
        "- To extend or modify existing functionality\n",
        "\n",
        "---\n",
        "\n",
        "## 🔹 Syntax\n",
        "\n",
        "```python\n",
        "class Parent:\n",
        "    # code\n",
        "\n",
        "class Child(Parent):\n",
        "    # inherits from Parent\n",
        "```\n",
        "\n",
        "---\n",
        "\n",
        "## 🔸 Example 1: Simple Inheritance\n",
        "\n",
        "```python\n",
        "class Animal:\n",
        "    def speak(self):\n",
        "        print(\"Animal speaks\")\n",
        "\n",
        "class Dog(Animal):\n",
        "    def bark(self):\n",
        "        print(\"Dog barks\")\n",
        "\n",
        "d = Dog()\n",
        "d.speak()  # Output: Animal speaks\n",
        "d.bark()   # Output: Dog barks\n",
        "```\n",
        "\n",
        "---\n",
        "\n",
        "## 🔹 Types of Inheritance in Python\n",
        "\n",
        "1. **Single Inheritance**\n",
        "2. **Multiple Inheritance**\n",
        "3. **Multilevel Inheritance**\n",
        "4. **Hierarchical Inheritance**\n",
        "5. **Hybrid Inheritance**\n",
        "\n",
        "---\n",
        "\n",
        "### 🔸 1. Single Inheritance\n",
        "One child class inherits from one parent class.\n",
        "\n",
        "```python\n",
        "class Parent:\n",
        "    def show(self):\n",
        "        print(\"Parent class\")\n",
        "\n",
        "class Child(Parent):\n",
        "    def display(self):\n",
        "        print(\"Child class\")\n",
        "\n",
        "c = Child()\n",
        "c.show()     # Parent class\n",
        "c.display()  # Child class\n",
        "```\n",
        "\n",
        "---\n",
        "\n",
        "### 🔸 2. Multiple Inheritance\n",
        "One child class inherits from **more than one** parent class.\n",
        "\n",
        "```python\n",
        "class Father:\n",
        "    def gardening(self):\n",
        "        print(\"I enjoy gardening\")\n",
        "\n",
        "class Mother:\n",
        "    def cooking(self):\n",
        "        print(\"I love cooking\")\n",
        "\n",
        "class Child(Father, Mother):\n",
        "    def sports(self):\n",
        "        print(\"I play football\")\n",
        "\n",
        "c = Child()\n",
        "c.gardening()\n",
        "c.cooking()\n",
        "c.sports()\n",
        "```\n",
        "\n",
        "🧠 **Note**: Python uses the **Method Resolution Order (MRO)** to determine which method to call when multiple parents have the same method.\n",
        "\n",
        "---\n",
        "\n",
        "### 🔸 3. Multilevel Inheritance\n",
        "Child class inherits from a parent class, and another class inherits from that child.\n",
        "\n",
        "```python\n",
        "class Grandparent:\n",
        "    def house(self):\n",
        "        print(\"House from grandparent\")\n",
        "\n",
        "class Parent(Grandparent):\n",
        "    def car(self):\n",
        "        print(\"Car from parent\")\n",
        "\n",
        "class Child(Parent):\n",
        "    def bike(self):\n",
        "        print(\"Bike from child\")\n",
        "\n",
        "c = Child()\n",
        "c.house()\n",
        "c.car()\n",
        "c.bike()\n",
        "```\n",
        "\n",
        "---\n",
        "\n",
        "### 🔸 4. Hierarchical Inheritance\n",
        "Multiple child classes inherit from a single parent class.\n",
        "\n",
        "```python\n",
        "class Parent:\n",
        "    def work(self):\n",
        "        print(\"Working...\")\n",
        "\n",
        "class Son(Parent):\n",
        "    def play(self):\n",
        "        print(\"Playing...\")\n",
        "\n",
        "class Daughter(Parent):\n",
        "    def sing(self):\n",
        "        print(\"Singing...\")\n",
        "\n",
        "s = Son()\n",
        "d = Daughter()\n",
        "\n",
        "s.work()\n",
        "s.play()\n",
        "\n",
        "d.work()\n",
        "d.sing()\n",
        "```\n",
        "\n",
        "---\n",
        "\n",
        "### 🔸 5. Hybrid Inheritance\n",
        "Combination of two or more types of inheritance.\n",
        "\n",
        "```python\n",
        "class A:\n",
        "    def msgA(self):\n",
        "        print(\"Message from A\")\n",
        "\n",
        "class B(A):\n",
        "    def msgB(self):\n",
        "        print(\"Message from B\")\n",
        "\n",
        "class C:\n",
        "    def msgC(self):\n",
        "        print(\"Message from C\")\n",
        "\n",
        "class D(B, C):  # Hybrid: A -> B, B+C -> D\n",
        "    def msgD(self):\n",
        "        print(\"Message from D\")\n",
        "\n",
        "d = D()\n",
        "d.msgA()\n",
        "d.msgB()\n",
        "d.msgC()\n",
        "d.msgD()\n",
        "```\n",
        "\n",
        "---\n",
        "\n",
        "<img src=\"https://img.brainkart.com/imagebk37/yhYyQsQ.jpg\" width=500px>\n",
        "\n",
        "---\n",
        "\n",
        "## 🔹 Method Overriding\n",
        "Child class can override (redefine) a method of the parent class.\n",
        "\n",
        "```python\n",
        "class Animal:\n",
        "    def speak(self):\n",
        "        print(\"Animal speaks\")\n",
        "\n",
        "class Dog(Animal):\n",
        "    def speak(self):  # Overriding\n",
        "        print(\"Dog barks\")\n",
        "\n",
        "d = Dog()\n",
        "d.speak()  # Output: Dog barks\n",
        "```\n",
        "\n",
        "---\n",
        "\n",
        "## 🔹 `super()` Function\n",
        "Used to call the methods of the **parent class** from the **child class**.\n",
        "\n",
        "```python\n",
        "class Parent:\n",
        "    def greet(self):\n",
        "        print(\"Hello from Parent\")\n",
        "\n",
        "class Child(Parent):\n",
        "    def greet(self):\n",
        "        super().greet()\n",
        "        print(\"Hello from Child\")\n",
        "\n",
        "c = Child()\n",
        "c.greet()\n",
        "```\n",
        "\n",
        "---\n",
        "\n",
        "## 🔹 Method Resolution Order (MRO)\n",
        "- Python follows a specific order to resolve method names using **C3 linearization**.\n",
        "- Use `ClassName.__mro__` or `help(ClassName)` to see the MRO.\n",
        "\n",
        "```python\n",
        "class A:\n",
        "    def show(self):\n",
        "        print(\"A\")\n",
        "\n",
        "class B(A):\n",
        "    def show(self):\n",
        "        print(\"B\")\n",
        "\n",
        "class C(A):\n",
        "    pass\n",
        "\n",
        "class D(B, C):\n",
        "    pass\n",
        "\n",
        "print(D.__mro__)\n",
        "```\n",
        "\n",
        "---\n",
        "\n",
        "## ✅ Best Practices\n",
        "\n",
        "- Use inheritance when there is a **clear is-a relationship**.\n",
        "- Avoid deep inheritance chains.\n",
        "- Prefer **composition** over inheritance in complex scenarios.\n",
        "- Use `super()` for method extension, not replacement.\n",
        "\n",
        "---\n",
        "\n",
        "## 🧠 Summary Table\n",
        "\n",
        "| Concept              | Description                                             |\n",
        "|----------------------|---------------------------------------------------------|\n",
        "| Inheritance          | Acquiring properties/methods from parent class          |\n",
        "| Single Inheritance   | One child, one parent                                   |\n",
        "| Multiple Inheritance | One child, multiple parents                             |\n",
        "| Multilevel Inheritance | Inheriting from an inherited class                    |\n",
        "| Hierarchical         | Multiple children from one parent                       |\n",
        "| Hybrid               | Combination of inheritance types                        |\n",
        "| Method Overriding    | Redefining parent method in child class                 |\n",
        "| `super()`            | Calls parent class’s method                             |\n",
        "| MRO                  | Order in which Python resolves method calls             |\n",
        "\n",
        "---\n",
        "\n",
        "Let me know if you'd like **diagrams**, **quizzes**, or **exercises** to reinforce the concepts!"
      ]
    },
    {
      "cell_type": "code",
      "execution_count": null,
      "metadata": {
        "colab": {
          "base_uri": "https://localhost:8080/"
        },
        "id": "zxghmn3REpJ-",
        "outputId": "4f2dd5ec-3810-4444-b97a-76899e2d3b8b"
      },
      "outputs": [
        {
          "name": "stdout",
          "output_type": "stream",
          "text": [
            "This is parent class\n",
            "This is child class\n"
          ]
        }
      ],
      "source": [
        "class parent:\n",
        "  def showP(self):\n",
        "    print(\"This is parent class\")\n",
        "\n",
        "\n",
        "class child(parent):\n",
        "  def showC(self):\n",
        "    print('This is child class')\n",
        "\n",
        "\n",
        "\n",
        "c = child()\n",
        "c.showP()\n",
        "c.showC()\n"
      ]
    },
    {
      "cell_type": "code",
      "execution_count": null,
      "metadata": {
        "colab": {
          "base_uri": "https://localhost:8080/"
        },
        "id": "sayAH4GDBy1y",
        "outputId": "257a5243-a095-42a0-d365-583cbe94212f"
      },
      "outputs": [
        {
          "name": "stdout",
          "output_type": "stream",
          "text": [
            "This is child class\n"
          ]
        }
      ],
      "source": [
        "# Method Overriding\n",
        "class parent:\n",
        "  def show(self):\n",
        "    print(\"This is parent class\")\n",
        "\n",
        "\n",
        "class child(parent):\n",
        "  def show(self):\n",
        "    # super().show()\n",
        "    print('This is child class')\n",
        "\n",
        "\n",
        "\n",
        "c = child()\n",
        "c.show()\n"
      ]
    },
    {
      "cell_type": "code",
      "execution_count": null,
      "metadata": {
        "colab": {
          "base_uri": "https://localhost:8080/"
        },
        "id": "hdiT5h3TF66Q",
        "outputId": "f35798b5-5c4f-4821-c767-4ded41765eb7"
      },
      "outputs": [
        {
          "name": "stdout",
          "output_type": "stream",
          "text": [
            "This is derived class and the variables are 10 and 12\n",
            "This is base class and the variable is 10\n"
          ]
        }
      ],
      "source": [
        "class base:\n",
        "  def __init__(self, a):\n",
        "    self.a = a\n",
        "\n",
        "  def show(self):\n",
        "    print('This is base class and the variable is', self.a)\n",
        "\n",
        "\n",
        "\n",
        "class derived(base):\n",
        "  def __init__(self, a, b):\n",
        "    super().__init__(a)\n",
        "    self.b = b\n",
        "\n",
        "  def show(self):\n",
        "    print('This is derived class and the variables are', self.a, \"and\", self.b)\n",
        "\n",
        "\n",
        "b = derived(10, 12)\n",
        "b.show()\n",
        "\n",
        "\n",
        "a = base(10)\n",
        "a.show()\n"
      ]
    },
    {
      "cell_type": "code",
      "execution_count": null,
      "metadata": {
        "colab": {
          "base_uri": "https://localhost:8080/"
        },
        "id": "CaaLxwwgCOeM",
        "outputId": "a49c96f3-07c8-4f88-94e4-b58c3006b875"
      },
      "outputs": [
        {
          "name": "stdout",
          "output_type": "stream",
          "text": [
            "C class with name = abc, age = 20 and marks 90\n",
            "B class with name = xyz and age = 30\n",
            "A class with name pqr\n"
          ]
        }
      ],
      "source": [
        "class A:\n",
        "  def __init__(self, name):\n",
        "    self.name = name\n",
        "\n",
        "  def show(self):\n",
        "    print(f'A class with name {self.name}')\n",
        "\n",
        "\n",
        "class B(A):\n",
        "  def __init__(self, name, age):\n",
        "    super().__init__(name)\n",
        "    self.age = age\n",
        "\n",
        "  def show(self):\n",
        "    print(f'B class with name = {self.name} and age = {self.age}')\n",
        "\n",
        "\n",
        "\n",
        "class C(B):\n",
        "  def __init__(self, name, age, marks):\n",
        "    super().__init__(name, age)\n",
        "    self.marks = marks\n",
        "\n",
        "  def show(self):\n",
        "    print(f'C class with name = {self.name}, age = {self.age} and marks {self.marks}')\n",
        "\n",
        "\n",
        "\n",
        "c = C('abc', 20, 90)\n",
        "c.show()\n",
        "\n",
        "\n",
        "o = B('xyz', 30)\n",
        "o.show()\n",
        "\n",
        "o2 = A('pqr')\n",
        "o2.show()"
      ]
    },
    {
      "cell_type": "code",
      "execution_count": null,
      "metadata": {
        "colab": {
          "base_uri": "https://localhost:8080/"
        },
        "id": "K_G1LcYBEszO",
        "outputId": "243e64e1-cc38-4fee-d168-4689cbba89e7"
      },
      "outputs": [
        {
          "name": "stdout",
          "output_type": "stream",
          "text": [
            "This is base class\n",
            "This is derived 2 class\n"
          ]
        }
      ],
      "source": [
        "# Ambiguity in Python\n",
        "class base:\n",
        "  def show_base(self):\n",
        "    print('This is base class')\n",
        "\n",
        "\n",
        "\n",
        "class derived1(base):\n",
        "  def show_derived(self):\n",
        "    print('This is derived 1 class')\n",
        "\n",
        "\n",
        "class derived2(base):\n",
        "  def show_derived(self):\n",
        "    print('This is derived 2 class')\n",
        "\n",
        "\n",
        "class derived(derived2, derived1):\n",
        "  def show(self):\n",
        "    print('This is last derived class')\n",
        "\n",
        "\n",
        "d1 = derived()\n",
        "d1.show_base()\n",
        "d1.show_derived()\n",
        "\n",
        "\n",
        "\n"
      ]
    },
    {
      "cell_type": "code",
      "execution_count": null,
      "metadata": {
        "id": "Kg5CUc570Pml"
      },
      "outputs": [],
      "source": [
        "# (Base)\n",
        "# Class A\n",
        "#  properties 1\n",
        "\n",
        "\n",
        "\n",
        "# (Derived Class)\n",
        "# Class B(A)\n",
        "#\n",
        "#   properties 2\n",
        "\n",
        "\n",
        "\n",
        "\n",
        "\n",
        "\n"
      ]
    },
    {
      "cell_type": "code",
      "execution_count": null,
      "metadata": {
        "colab": {
          "base_uri": "https://localhost:8080/"
        },
        "id": "44AuQ05BBl6W",
        "outputId": "5773aaf0-9908-4744-d87d-591a6201c526"
      },
      "outputs": [
        {
          "name": "stdout",
          "output_type": "stream",
          "text": [
            "This is parent class\n",
            "This is child class\n"
          ]
        }
      ],
      "source": [
        "class Parent:\n",
        "  def show_parent(self):\n",
        "    print('This is parent class')\n",
        "\n",
        "\n",
        "\n",
        "\n",
        "class Child(Parent):\n",
        "  pass\n",
        "\n",
        "\n",
        "\n",
        "\n",
        "\n"
      ]
    },
    {
      "cell_type": "code",
      "execution_count": null,
      "metadata": {
        "colab": {
          "base_uri": "https://localhost:8080/"
        },
        "id": "OtV1EIoZCg68",
        "outputId": "df73c9a6-1e7a-4674-9fe7-081968a3abb1"
      },
      "outputs": [
        {
          "name": "stdout",
          "output_type": "stream",
          "text": [
            "This is parent class\n"
          ]
        }
      ],
      "source": [
        "c1 = Child()\n",
        "c1.show_parent()\n"
      ]
    },
    {
      "cell_type": "code",
      "execution_count": null,
      "metadata": {
        "colab": {
          "base_uri": "https://localhost:8080/"
        },
        "id": "OvXJGTjgDROk",
        "outputId": "599c90f2-ea1c-4775-fd82-eba3db2f4800"
      },
      "outputs": [
        {
          "name": "stdout",
          "output_type": "stream",
          "text": [
            "This is parent class\n",
            "This is child class\n"
          ]
        }
      ],
      "source": [
        "class Parent:\n",
        "  def display(self):\n",
        "    print('This is parent class')\n",
        "\n",
        "\n",
        "\n",
        "\n",
        "class Child(Parent):\n",
        "  def display(self):\n",
        "    print('This is child class')\n",
        "\n",
        "\n",
        "\n",
        "\n",
        "\n",
        "\n",
        "Obj1 = Parent()\n",
        "Obj = Child()\n",
        "\n",
        "\n",
        "Obj1.display()\n",
        "Obj.display()\n"
      ]
    },
    {
      "cell_type": "code",
      "execution_count": null,
      "metadata": {
        "colab": {
          "base_uri": "https://localhost:8080/"
        },
        "id": "3agXemU9ERjJ",
        "outputId": "40064f0f-2489-4ae1-85fc-76a7470eb8c4"
      },
      "outputs": [
        {
          "name": "stdout",
          "output_type": "stream",
          "text": [
            "Values are  10 34\n",
            "Value is  45\n"
          ]
        }
      ],
      "source": [
        "class Base:\n",
        "  def __init__(self, a):\n",
        "    self.a = a\n",
        "\n",
        "  def display(self):\n",
        "    print('Value is ', self.a)\n",
        "\n",
        "\n",
        "class Derived(Base):\n",
        "  def __init__(self, a, b):\n",
        "    super().__init__(a)\n",
        "    self.b = b\n",
        "\n",
        "\n",
        "  def display(self):\n",
        "    print('Values are ', self.a, self.b)\n",
        "\n",
        "\n",
        "\n",
        "obj = Derived(10, 34)\n",
        "obj.display()\n",
        "\n",
        "\n",
        "obj1 = Base(45)\n",
        "obj1.display()\n",
        "\n",
        "\n",
        "\n",
        "\n",
        "\n",
        "\n"
      ]
    },
    {
      "cell_type": "code",
      "execution_count": null,
      "metadata": {
        "colab": {
          "base_uri": "https://localhost:8080/"
        },
        "id": "TAJ1KMzTFgJX",
        "outputId": "1266dbdb-00a6-4681-cbca-95df20dd2758"
      },
      "outputs": [
        {
          "name": "stdout",
          "output_type": "stream",
          "text": [
            "C class with name = abc, age = 20 and marks 90\n",
            "B class with name = xyz and age = 30\n",
            "A class with name pqr\n"
          ]
        }
      ],
      "source": [
        "class A:\n",
        "  def __init__(self, name):\n",
        "    self.name = name\n",
        "\n",
        "  def show(self):\n",
        "    print(f'A class with name {self.name}')\n",
        "\n",
        "\n",
        "\n",
        "\n",
        "class B(A):\n",
        "  def __init__(self, name, age):\n",
        "    super().__init__(name)\n",
        "    self.age = age\n",
        "\n",
        "\n",
        "  def show(self):\n",
        "    print(f'B class with name = {self.name} and age = {self.age}')\n",
        "\n",
        "\n",
        "\n",
        "class C(B):\n",
        "  def __init__(self, name, age, marks):\n",
        "    super().__init__(name, age)\n",
        "    self.marks = marks\n",
        "\n",
        "  def show(self):\n",
        "    print(f'C class with name = {self.name}, age = {self.age} and marks {self.marks}')\n",
        "\n",
        "\n",
        "\n",
        "\n",
        "\n",
        "c = C('abc', 20, 90)\n",
        "c.show()\n",
        "\n",
        "\n",
        "o = B('xyz', 30)\n",
        "o.show()\n",
        "\n",
        "o2 = A('pqr')\n",
        "o2.show()"
      ]
    },
    {
      "cell_type": "code",
      "execution_count": null,
      "metadata": {
        "id": "bkz7AJG7He07"
      },
      "outputs": [],
      "source": [
        "# Ambiguity in Python\n",
        "class base:\n",
        "  def show_base(self):\n",
        "    print('This is base class')\n",
        "\n",
        "\n",
        "\n",
        "class derived1(base):\n",
        "  def show_derived(self):\n",
        "    print('This is derived 1 class')\n",
        "\n",
        "\n",
        "class derived2(base):\n",
        "  def show_derived(self):\n",
        "    print('This is derived 2 class')\n",
        "\n",
        "\n",
        "class derived(derived2, derived1):\n",
        "  def show(self):\n",
        "    print('This is last derived class')\n",
        "\n",
        "\n",
        "d1 = derived()\n",
        "d1.show_base()\n",
        "d1.show_derived()\n",
        "\n",
        "\n",
        "\n"
      ]
    },
    {
      "cell_type": "code",
      "execution_count": null,
      "metadata": {
        "colab": {
          "base_uri": "https://localhost:8080/"
        },
        "id": "UrbW75E4Iycf",
        "outputId": "e55d73cc-34a6-4b2a-a1b1-9302b51a0719"
      },
      "outputs": [
        {
          "name": "stdout",
          "output_type": "stream",
          "text": [
            "This is derived 2 class\n"
          ]
        }
      ],
      "source": [
        "# Hybrid Inheritance\n",
        "# Ambiguity\n",
        "class Base:\n",
        "  def show_base(self):\n",
        "    print(\"This is base class\")\n",
        "\n",
        "\n",
        "class Derived1(Base):\n",
        "  def show_derived(self):\n",
        "    print(\"This is derived 1 class\")\n",
        "\n",
        "\n",
        "class Derived2(Base):\n",
        "  def show_derived(self):\n",
        "    print(\"This is derived 2 class\")\n",
        "\n",
        "\n",
        "\n",
        "class child(Derived2, Derived1):\n",
        "  def show(self):\n",
        "    print(\"This is child class\")\n",
        "\n",
        "\n",
        "c = child()\n",
        "\n",
        "c.show_derived()"
      ]
    },
    {
      "cell_type": "code",
      "execution_count": null,
      "metadata": {
        "id": "h9H_U2upj_b4"
      },
      "outputs": [],
      "source": []
    }
  ],
  "metadata": {
    "colab": {
      "collapsed_sections": [
        "z2LTw_GlCZQE",
        "5cSsriLgj9Nb",
        "r4EFIy923vEt",
        "PQFc6HqTQSyj",
        "QGZNInu9UeGN",
        "Msa1uS3alJfb",
        "9d8sXAPW3jPr",
        "VYMvpBYiA-Ty",
        "dXQMqToB_3xm",
        "w9iHIGby85Gw",
        "fcNslErRaUlN",
        "FtxPmkzVgcpb",
        "VVO6XNqJfln1",
        "MQr2ptivpdwl",
        "xCivnVCyyGMc",
        "5W6Vah8u69Ad",
        "3p217ot7GOPE",
        "q3p7OZ5xGXIU",
        "9KQW0gdI-SfA",
        "MhN8H5O0_qtf",
        "sZWszaRsuaU9",
        "7m_KwJWMqgcU",
        "pSVUna54_yz4",
        "l1GDwTuB_3Ky",
        "wqUK1x38GnaH",
        "wrDfTwXgDvV-",
        "qq08vZHvE0dt",
        "8gmIjiMv6dkb",
        "A_J4pPXdNiKl",
        "ZFaXGpoPawW1",
        "JDCt8yzaWH6X",
        "m6GB3VlHbmwX",
        "gMAH-RDtbzxZ",
        "VuRr1rKNUmbA",
        "RNROPfIJKVS2",
        "cs_MNju02C2-",
        "Gs18FGUeMo6A",
        "gTyuuj5JvIEq",
        "ZMC04O3se9_q",
        "IWfetVnDXAdL"
      ],
      "provenance": [],
      "include_colab_link": true
    },
    "kernelspec": {
      "display_name": "Python 3",
      "name": "python3"
    },
    "language_info": {
      "name": "python"
    }
  },
  "nbformat": 4,
  "nbformat_minor": 0
}