{
  "nbformat": 4,
  "nbformat_minor": 0,
  "metadata": {
    "colab": {
      "provenance": [],
      "authorship_tag": "ABX9TyNixuPfe2SYn43X4zgbyHKM",
      "include_colab_link": true
    },
    "kernelspec": {
      "name": "python3",
      "display_name": "Python 3"
    },
    "language_info": {
      "name": "python"
    }
  },
  "cells": [
    {
      "cell_type": "markdown",
      "metadata": {
        "id": "view-in-github",
        "colab_type": "text"
      },
      "source": [
        "<a href=\"https://colab.research.google.com/github/AmanpreetKaur-123/TR-103-batch-2022-2026-/blob/main/Strings(2_7_2025).ipynb\" target=\"_parent\"><img src=\"https://colab.research.google.com/assets/colab-badge.svg\" alt=\"Open In Colab\"/></a>"
      ]
    },
    {
      "cell_type": "markdown",
      "source": [
        "**Date 2.7.2025**"
      ],
      "metadata": {
        "id": "WqSwkIUynvqP"
      }
    },
    {
      "cell_type": "markdown",
      "source": [
        "STRINGS: string slices, immutability, string functions and methods, string module"
      ],
      "metadata": {
        "id": "z6dLieMtn0P2"
      }
    },
    {
      "cell_type": "markdown",
      "source": [
        "# STRINGS"
      ],
      "metadata": {
        "id": "OfhVep8Un2oa"
      }
    },
    {
      "cell_type": "markdown",
      "source": [
        "1. String is a sequence of characters.\n",
        "2. String may contain alphabets, numbers and special characters.\n",
        "3. Usually strings are enclosed within a single quotes and double quotes.\n",
        "4. Strings is immutable in nature.\n",
        "**Example:** a='hello world' b=\"Python\""
      ],
      "metadata": {
        "id": "fRZGPWsYn4vf"
      }
    },
    {
      "cell_type": "code",
      "source": [
        "a='hello world'\n",
        "b=\"Python\""
      ],
      "metadata": {
        "id": "bDFX3ZIvoE5f"
      },
      "execution_count": 1,
      "outputs": []
    },
    {
      "cell_type": "markdown",
      "source": [
        "# **Inbuilt String functions**\n",
        "\n",
        "1. Python mainly contains 3 inbuilt string functions.\n",
        "2. They are\n",
        "* len()\n",
        "* max()\n",
        "* min()\n",
        "3. len()- Find out the length of characters in string\n",
        "4. min()- Smallest value in a string based on ASCII values\n",
        "5. max()- Largest value in a string based on ASCII values"
      ],
      "metadata": {
        "id": "5--dBGS3oDHO"
      }
    },
    {
      "cell_type": "markdown",
      "source": [
        "Example for Inbuilt string functions"
      ],
      "metadata": {
        "id": "LZUgS3Kmoaqk"
      }
    },
    {
      "cell_type": "code",
      "source": [
        "name=input(\"Enter Your name:\")\n",
        "print(\"Welcome\",name)\n",
        "print(\"Length of your name:\",len(name))\n",
        "print(\"Maximum value of chararacter in your name\",\n",
        "max(name))\n",
        "print(\"Minimum value of character in your name\",min(name))"
      ],
      "metadata": {
        "colab": {
          "base_uri": "https://localhost:8080/"
        },
        "id": "TFDGTMfmobMW",
        "outputId": "90d558e1-4183-4301-a6e4-f9fa71d7ad70"
      },
      "execution_count": 2,
      "outputs": [
        {
          "output_type": "stream",
          "name": "stdout",
          "text": [
            "Enter Your name:AMANPREET KAUR\n",
            "Welcome AMANPREET KAUR\n",
            "Length of your name: 14\n",
            "Maximum value of chararacter in your name U\n",
            "Minimum value of character in your name  \n"
          ]
        }
      ]
    },
    {
      "cell_type": "markdown",
      "source": [
        "Strings Concatenation"
      ],
      "metadata": {
        "id": "_iTPBX8doj7E"
      }
    },
    {
      "cell_type": "code",
      "source": [
        "a=\"Hai\"\n",
        "b=\"how are you\"\n",
        "c=a+b\n",
        "print(c)"
      ],
      "metadata": {
        "colab": {
          "base_uri": "https://localhost:8080/"
        },
        "id": "YJGL7C5_ok1A",
        "outputId": "f5760554-39c2-4a7d-ae7a-db589be92c51"
      },
      "execution_count": 3,
      "outputs": [
        {
          "output_type": "stream",
          "name": "stdout",
          "text": [
            "Haihow are you\n"
          ]
        }
      ]
    },
    {
      "cell_type": "markdown",
      "source": [
        "**Operators on String**\n",
        "\n",
        "1. The Concatenate strings with the \"*\" operator can create multiple concatenated copies.\n",
        "* Example: print(\"Python\"10)   \n",
        "`PythonPythonPythonPythonPythonPython PythonPythonPythonPython `"
      ],
      "metadata": {
        "id": "ClLFe-brooIg"
      }
    },
    {
      "cell_type": "code",
      "source": [
        "print(\"Python\"*10)"
      ],
      "metadata": {
        "colab": {
          "base_uri": "https://localhost:8080/"
        },
        "id": "Vm5DuwvAo-S8",
        "outputId": "ce450db2-942d-401c-9d58-06a0a7dd27b1"
      },
      "execution_count": 4,
      "outputs": [
        {
          "output_type": "stream",
          "name": "stdout",
          "text": [
            "PythonPythonPythonPythonPythonPythonPythonPythonPythonPython\n"
          ]
        }
      ]
    },
    {
      "cell_type": "markdown",
      "source": [
        "# String Slicing"
      ],
      "metadata": {
        "id": "Pvjqjy5yo90y"
      }
    },
    {
      "cell_type": "markdown",
      "source": [
        "1. Slicing operation is used to return/select/slicE the particular substring based on user requirements. • A segment of string is called slice. • Syntax: string_variablename [ start:end]"
      ],
      "metadata": {
        "id": "PD7NpXXFpFwN"
      }
    },
    {
      "cell_type": "markdown",
      "source": [
        "String Slice example"
      ],
      "metadata": {
        "id": "o7n5E6BQpJ8u"
      }
    },
    {
      "cell_type": "code",
      "source": [
        "s=\"hello\"\n",
        "s[1:4]"
      ],
      "metadata": {
        "colab": {
          "base_uri": "https://localhost:8080/",
          "height": 35
        },
        "id": "wp2yJ0-3pLDU",
        "outputId": "34e62e21-5b5b-484f-bda5-71aeebb07a2a"
      },
      "execution_count": 5,
      "outputs": [
        {
          "output_type": "execute_result",
          "data": {
            "text/plain": [
              "'ell'"
            ],
            "application/vnd.google.colaboratory.intrinsic+json": {
              "type": "string"
            }
          },
          "metadata": {},
          "execution_count": 5
        }
      ]
    },
    {
      "cell_type": "code",
      "source": [
        "s[1:]"
      ],
      "metadata": {
        "colab": {
          "base_uri": "https://localhost:8080/",
          "height": 35
        },
        "id": "dkNmQ59XpOOI",
        "outputId": "e46bf59d-d356-4ea0-ebb0-9487df6fe344"
      },
      "execution_count": 6,
      "outputs": [
        {
          "output_type": "execute_result",
          "data": {
            "text/plain": [
              "'ello'"
            ],
            "application/vnd.google.colaboratory.intrinsic+json": {
              "type": "string"
            }
          },
          "metadata": {},
          "execution_count": 6
        }
      ]
    },
    {
      "cell_type": "code",
      "source": [
        "s[:]"
      ],
      "metadata": {
        "colab": {
          "base_uri": "https://localhost:8080/",
          "height": 35
        },
        "id": "J6pJXoYlpP_H",
        "outputId": "cf5678e0-bfc5-47ec-bd10-11c5dacb5f1f"
      },
      "execution_count": 7,
      "outputs": [
        {
          "output_type": "execute_result",
          "data": {
            "text/plain": [
              "'hello'"
            ],
            "application/vnd.google.colaboratory.intrinsic+json": {
              "type": "string"
            }
          },
          "metadata": {},
          "execution_count": 7
        }
      ]
    },
    {
      "cell_type": "code",
      "source": [
        "s[::]"
      ],
      "metadata": {
        "colab": {
          "base_uri": "https://localhost:8080/",
          "height": 35
        },
        "id": "k1_bSXPOpSPs",
        "outputId": "c8385082-3f34-4d7c-9567-9a528b33e433"
      },
      "execution_count": 8,
      "outputs": [
        {
          "output_type": "execute_result",
          "data": {
            "text/plain": [
              "'hello'"
            ],
            "application/vnd.google.colaboratory.intrinsic+json": {
              "type": "string"
            }
          },
          "metadata": {},
          "execution_count": 8
        }
      ]
    },
    {
      "cell_type": "code",
      "source": [
        "s[:-3]"
      ],
      "metadata": {
        "colab": {
          "base_uri": "https://localhost:8080/",
          "height": 35
        },
        "id": "sJI9s1FgpUzE",
        "outputId": "a97e3acc-7e7b-4cbf-a40e-96242eb74d9c"
      },
      "execution_count": 9,
      "outputs": [
        {
          "output_type": "execute_result",
          "data": {
            "text/plain": [
              "'he'"
            ],
            "application/vnd.google.colaboratory.intrinsic+json": {
              "type": "string"
            }
          },
          "metadata": {},
          "execution_count": 9
        }
      ]
    },
    {
      "cell_type": "code",
      "source": [
        "s[1:100]"
      ],
      "metadata": {
        "colab": {
          "base_uri": "https://localhost:8080/",
          "height": 35
        },
        "id": "zjRxuydtpZkC",
        "outputId": "a50fbf9f-3bd3-4273-8f1c-967194568c9e"
      },
      "execution_count": 10,
      "outputs": [
        {
          "output_type": "execute_result",
          "data": {
            "text/plain": [
              "'ello'"
            ],
            "application/vnd.google.colaboratory.intrinsic+json": {
              "type": "string"
            }
          },
          "metadata": {},
          "execution_count": 10
        }
      ]
    },
    {
      "cell_type": "code",
      "source": [
        "s[-1]"
      ],
      "metadata": {
        "colab": {
          "base_uri": "https://localhost:8080/",
          "height": 35
        },
        "id": "N2ZiSbAIpcZk",
        "outputId": "000a7396-9a05-419c-8f65-732f8c80840b"
      },
      "execution_count": 11,
      "outputs": [
        {
          "output_type": "execute_result",
          "data": {
            "text/plain": [
              "'o'"
            ],
            "application/vnd.google.colaboratory.intrinsic+json": {
              "type": "string"
            }
          },
          "metadata": {},
          "execution_count": 11
        }
      ]
    },
    {
      "cell_type": "markdown",
      "source": [
        "**Strings are immutable**\n",
        "\n",
        "1. Strings are immutable character sets.\n",
        "2. Once a string is generated, you cannot change any character within the string."
      ],
      "metadata": {
        "id": "_-SbHHFwpiMC"
      }
    },
    {
      "cell_type": "code",
      "source": [
        "a=\"python program\"\n",
        "a[0]\n"
      ],
      "metadata": {
        "colab": {
          "base_uri": "https://localhost:8080/",
          "height": 35
        },
        "id": "tGahbU_wppJP",
        "outputId": "26f3a5e2-6fea-4216-bd07-2d00f70bcc5e"
      },
      "execution_count": 12,
      "outputs": [
        {
          "output_type": "execute_result",
          "data": {
            "text/plain": [
              "'p'"
            ],
            "application/vnd.google.colaboratory.intrinsic+json": {
              "type": "string"
            }
          },
          "metadata": {},
          "execution_count": 12
        }
      ]
    },
    {
      "cell_type": "code",
      "source": [
        "a[0]=\"b\""
      ],
      "metadata": {
        "colab": {
          "base_uri": "https://localhost:8080/",
          "height": 141
        },
        "id": "_r6yjuUzpsS6",
        "outputId": "38ea55c5-2c9f-4699-f127-6a5dcd06f185"
      },
      "execution_count": 14,
      "outputs": [
        {
          "output_type": "error",
          "ename": "TypeError",
          "evalue": "'str' object does not support item assignment",
          "traceback": [
            "\u001b[0;31m---------------------------------------------------------------------------\u001b[0m",
            "\u001b[0;31mTypeError\u001b[0m                                 Traceback (most recent call last)",
            "\u001b[0;32m/tmp/ipython-input-14-2158630024.py\u001b[0m in \u001b[0;36m<cell line: 0>\u001b[0;34m()\u001b[0m\n\u001b[0;32m----> 1\u001b[0;31m \u001b[0ma\u001b[0m\u001b[0;34m[\u001b[0m\u001b[0;36m0\u001b[0m\u001b[0;34m]\u001b[0m\u001b[0;34m=\u001b[0m\u001b[0;34m\"b\"\u001b[0m\u001b[0;34m\u001b[0m\u001b[0;34m\u001b[0m\u001b[0m\n\u001b[0m",
            "\u001b[0;31mTypeError\u001b[0m: 'str' object does not support item assignment"
          ]
        }
      ]
    },
    {
      "cell_type": "code",
      "source": [
        "a[0]"
      ],
      "metadata": {
        "colab": {
          "base_uri": "https://localhost:8080/",
          "height": 35
        },
        "id": "Gmu8rDRQp007",
        "outputId": "c9ddaf93-24ee-4f80-b33a-2aa47b6ca3a2"
      },
      "execution_count": 15,
      "outputs": [
        {
          "output_type": "execute_result",
          "data": {
            "text/plain": [
              "'p'"
            ],
            "application/vnd.google.colaboratory.intrinsic+json": {
              "type": "string"
            }
          },
          "metadata": {},
          "execution_count": 15
        }
      ]
    },
    {
      "cell_type": "markdown",
      "source": [
        "**String Comparision**\n",
        "\n",
        "1. We can compare two strings using comparision operators such as ==, !=, <,<=,>,\n",
        "2. Python compares strings based on their corresponding ASCII values."
      ],
      "metadata": {
        "id": "KITuJ57Ppoh6"
      }
    },
    {
      "cell_type": "markdown",
      "source": [
        "**Example of string comparision**"
      ],
      "metadata": {
        "id": "0XDwvvwoqGA1"
      }
    },
    {
      "cell_type": "code",
      "source": [
        "str1=\"green\"\n",
        "str2=\"black\"\n",
        "print(\"Is both Equal:\", str1==str2)\n",
        "print(\"Is str1> str2:\", str1>str2)\n",
        "print(\"Is str1< str2:\", str1<str2)"
      ],
      "metadata": {
        "colab": {
          "base_uri": "https://localhost:8080/"
        },
        "id": "y-MucxbgqFUq",
        "outputId": "64de455b-7090-4cca-d27c-ebbfb4f4febb"
      },
      "execution_count": 16,
      "outputs": [
        {
          "output_type": "stream",
          "name": "stdout",
          "text": [
            "Is both Equal: False\n",
            "Is str1> str2: True\n",
            "Is str1< str2: False\n"
          ]
        }
      ]
    },
    {
      "cell_type": "markdown",
      "source": [
        "**String formatting operator: **String formatting operator % is unique to strings."
      ],
      "metadata": {
        "id": "4vWsRI4mqQLW"
      }
    },
    {
      "cell_type": "markdown",
      "source": [
        "**Example**"
      ],
      "metadata": {
        "id": "pL6NG8xbqRGm"
      }
    },
    {
      "cell_type": "code",
      "source": [
        "print(\"My name is %s and i secured %d marks in python\" % (\"Arbaz\",92))"
      ],
      "metadata": {
        "colab": {
          "base_uri": "https://localhost:8080/"
        },
        "id": "3BGSH4b1qC78",
        "outputId": "ac0c7df3-ad73-4942-d691-6f1811b09961"
      },
      "execution_count": 17,
      "outputs": [
        {
          "output_type": "stream",
          "name": "stdout",
          "text": [
            "My name is Arbaz and i secured 92 marks in python\n"
          ]
        }
      ]
    },
    {
      "cell_type": "markdown",
      "source": [
        "# String functions and methods"
      ],
      "metadata": {
        "id": "x9URHMUtqcBT"
      }
    },
    {
      "cell_type": "markdown",
      "source": [
        "**Converting string functions:**\n",
        "\n",
        "1. captitalize) Only First character capitalized\n",
        "2. lower() All character converted to lowercase\n",
        "3. upper() All character converted to uppercase\n",
        "4. title() First character capitalized in each word\n",
        "5. swapcase() Lower case letters are converted to Uppercase and Uppercase letters are converted to Lowercase\n",
        "6. replace(old,new) Replaces old string with nre string"
      ],
      "metadata": {
        "id": "rxWWwW5GqeMQ"
      }
    },
    {
      "cell_type": "markdown",
      "source": [
        "**Example**"
      ],
      "metadata": {
        "id": "R70ZKfFQqpG3"
      }
    },
    {
      "cell_type": "code",
      "source": [
        "str=input(\"Enter any string:\")\n",
        "print(\"String Capitalized:\", str.capitalize())\n",
        "print(\"String lower case:\", str.lower())\n",
        "print(\"String upper case:\", str.upper())\n",
        "print(\"String title case:\", str.title())\n",
        "print(\"String swap case:\", str.swapcase())\n",
        "print(\"String replace case:\",str.replace(\"python\",\"python programming\"))"
      ],
      "metadata": {
        "colab": {
          "base_uri": "https://localhost:8080/"
        },
        "id": "ddpxTepuqx4b",
        "outputId": "e4baa6b2-da77-46c7-bf45-d40af44cdc42"
      },
      "execution_count": 18,
      "outputs": [
        {
          "output_type": "stream",
          "name": "stdout",
          "text": [
            "Enter any string:WELCOME\n",
            "String Capitalized: Welcome\n",
            "String lower case: welcome\n",
            "String upper case: WELCOME\n",
            "String title case: Welcome\n",
            "String swap case: welcome\n",
            "String replace case: WELCOME\n"
          ]
        }
      ]
    },
    {
      "cell_type": "markdown",
      "source": [
        "**Formatting String functions:**\n",
        "\n",
        "1. center(width) Returns a string centered in a field of given width\n",
        "2. ljust(width) Returns a string left justified in a field of given width\n",
        "3. rjust(width) Returns a string rightjustified in a field of given width\n",
        "4. format(items) Formats a string"
      ],
      "metadata": {
        "id": "C3x4wz0Mq36v"
      }
    },
    {
      "cell_type": "markdown",
      "source": [
        "**Example**"
      ],
      "metadata": {
        "id": "tGS3rrdfrBEE"
      }
    },
    {
      "cell_type": "code",
      "source": [
        "a=input(\"Enter any string:\")\n",
        "print(\"Center alignment:\", a.center(20))\n",
        "print(\"Left alignment:\", a.ljust(20))\n",
        "print(\"Right alignment:\", a.rjust(20))"
      ],
      "metadata": {
        "colab": {
          "base_uri": "https://localhost:8080/"
        },
        "id": "XNqU9SuKrCfU",
        "outputId": "23bd396f-1c45-4b06-9f5c-056f1d86f7f3"
      },
      "execution_count": 19,
      "outputs": [
        {
          "output_type": "stream",
          "name": "stdout",
          "text": [
            "Enter any string:WELCOME TO MY WORLD!\n",
            "Center alignment: WELCOME TO MY WORLD!\n",
            "Left alignment: WELCOME TO MY WORLD!\n",
            "Right alignment: WELCOME TO MY WORLD!\n"
          ]
        }
      ]
    },
    {
      "cell_type": "markdown",
      "source": [
        "**Removing whitespace characters:**\n",
        "\n",
        "1. Istrip() Returns a string with leading whitespace characters removed require 'something'\n",
        "2. rstrip() Returns a string with trailing whitespace characters removed\n",
        "3. strip( ) Returns a string with leading and trailing whitespace characters removed"
      ],
      "metadata": {
        "id": "S142aPKDrKYU"
      }
    },
    {
      "cell_type": "markdown",
      "source": [
        "**Example**"
      ],
      "metadata": {
        "id": "Oh4CNhIsrVrE"
      }
    },
    {
      "cell_type": "code",
      "source": [
        "a=input(\"Enter any string:\")\n",
        "print(\"Left space trim:\",a.lstrip())\n",
        "print(\"Right space trim:\",a.rstrip())\n",
        "print(\"Left and right trim:\",a.strip())"
      ],
      "metadata": {
        "colab": {
          "base_uri": "https://localhost:8080/"
        },
        "id": "_ZYoKnNRrQiv",
        "outputId": "8aacf3f1-c876-45ac-9fbd-32f4e3cbcd70"
      },
      "execution_count": 20,
      "outputs": [
        {
          "output_type": "stream",
          "name": "stdout",
          "text": [
            "Enter any string:WELCOME\n",
            "Left space trim: WELCOME\n",
            "Right space trim: WELCOME\n",
            "Left and right trim: WELCOME\n"
          ]
        }
      ]
    },
    {
      "cell_type": "markdown",
      "source": [
        "**Testing String/Character**\n",
        "\n",
        "1. isalnum() Returns true if all characters in string are alphanumeric and there is atleast one character\n",
        "2. isalpha() Returns true if all characters in string are alphabetic\n",
        "3. isdigit() Returns true if string contains only number character\n",
        "4. islower() Returns true if all characters in string are lowercase letters\n",
        "5. isupper() Returns true if all characters in string are uppercase letters\n",
        "6. isspace() Returns true if string contains only whitespace characters."
      ],
      "metadata": {
        "id": "HuBjaSGUrZnE"
      }
    },
    {
      "cell_type": "markdown",
      "source": [
        "**Example**"
      ],
      "metadata": {
        "id": "HGIUCyw0rjuY"
      }
    },
    {
      "cell_type": "code",
      "source": [
        "a=input(\"Enter any string:\")\n",
        "print(\"Alphanumeric:\",a.isalnum())\n",
        "print(\"Alphabetic:\",a.isalpha())\n",
        "print(\"Digits:\",a.isdigit())\n",
        "print(\"Lowecase:\",a.islower())\n",
        "print(\"Upper:\",a.isupper())"
      ],
      "metadata": {
        "colab": {
          "base_uri": "https://localhost:8080/"
        },
        "id": "74QamwYormOR",
        "outputId": "ec566c47-589d-4b26-afeb-382505ecdb0d"
      },
      "execution_count": 21,
      "outputs": [
        {
          "output_type": "stream",
          "name": "stdout",
          "text": [
            "Enter any string:welcome\n",
            "Alphanumeric: True\n",
            "Alphabetic: True\n",
            "Digits: False\n",
            "Lowecase: True\n",
            "Upper: False\n"
          ]
        }
      ]
    },
    {
      "cell_type": "markdown",
      "source": [
        "**Searching for substring:**\n",
        "\n",
        "1. Endswith() Returns true if the strings ends with the substring\n",
        "2. Startswith() Returns true if the strings starts with the substring\n",
        "3. Find() Returns the lowest index or -1 if substring not found\n",
        "4. Count(O) Returns the number of occurrences of substring"
      ],
      "metadata": {
        "id": "YataSxhDrzMW"
      }
    },
    {
      "cell_type": "markdown",
      "source": [
        "**Example**"
      ],
      "metadata": {
        "id": "1jjkpC5yr-Gz"
      }
    },
    {
      "cell_type": "code",
      "source": [
        "a=input(\"Enter any string:\")\n",
        "print(\"Is string ends with thon:\", a.endswith(\"thon\"))\n",
        "print(\"Is string starts with good:\", a.startswith(\"good\"))\n",
        "print(\"Find:\", a.find(\"ython\"))\n",
        "print(\"Coumu\", a.count(\"o\"))"
      ],
      "metadata": {
        "colab": {
          "base_uri": "https://localhost:8080/"
        },
        "id": "-O2EuUhVsBo_",
        "outputId": "5d2c09b4-7cfc-42e0-f482-2e5e7c71e2ac"
      },
      "execution_count": 22,
      "outputs": [
        {
          "output_type": "stream",
          "name": "stdout",
          "text": [
            "Enter any string:welcome\n",
            "Is string ends with thon: False\n",
            "Is string starts with good: False\n",
            "Find: -1\n",
            "Coumu 1\n"
          ]
        }
      ]
    },
    {
      "cell_type": "markdown",
      "source": [
        "**String Modules**\n",
        "\n",
        "1. String module contains a number of functions to process standard Python strings\n",
        "2. Mostly used string modules:\n",
        "* string.upper()\n",
        "* string.upper()\n",
        "* string.split()\n",
        "* string.join()\n",
        "* string.replace()\n",
        "* string.findO\n",
        "* string.count()"
      ],
      "metadata": {
        "id": "lYY1yfsJsA_x"
      }
    },
    {
      "cell_type": "markdown",
      "source": [
        "**Example**"
      ],
      "metadata": {
        "id": "gvrtw7XtsWfN"
      }
    },
    {
      "cell_type": "code",
      "source": [
        "text = \"Monty Python Flying Circus\"\n",
        "\n",
        "print(\"Upper:\", text.upper())               # Converts all characters to uppercase\n",
        "print(\"Lower:\", text.lower())               # Converts all characters to lowercase\n",
        "print(\"Split:\", text.split())               # Splits string into words\n",
        "print(\"Join:\", \"+\".join(text.split()))      # Joins words with '+'\n",
        "print(\"Replace:\", text.replace(\"Python\", \"Java\"))  # Replaces 'Python' with 'Java'\n",
        "print(\"Find:\", text.find(\"Python\"))         # Returns index of first occurrence of 'Python'\n",
        "print(\"Count:\", text.count(\"n\"))            # Counts number of 'n'"
      ],
      "metadata": {
        "colab": {
          "base_uri": "https://localhost:8080/"
        },
        "id": "rOAljXEPsazp",
        "outputId": "148a1db6-afa3-42d7-cc90-d42bc76b9dca"
      },
      "execution_count": 23,
      "outputs": [
        {
          "output_type": "stream",
          "name": "stdout",
          "text": [
            "Upper: MONTY PYTHON FLYING CIRCUS\n",
            "Lower: monty python flying circus\n",
            "Split: ['Monty', 'Python', 'Flying', 'Circus']\n",
            "Join: Monty+Python+Flying+Circus\n",
            "Replace: Monty Java Flying Circus\n",
            "Find: 6\n",
            "Count: 3\n"
          ]
        }
      ]
    }
  ]
}