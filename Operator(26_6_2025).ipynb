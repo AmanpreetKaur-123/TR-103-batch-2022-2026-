{
  "nbformat": 4,
  "nbformat_minor": 0,
  "metadata": {
    "colab": {
      "provenance": [],
      "authorship_tag": "ABX9TyMQz9WfWmmdugwHUOJjfkmm",
      "include_colab_link": true
    },
    "kernelspec": {
      "name": "python3",
      "display_name": "Python 3"
    },
    "language_info": {
      "name": "python"
    }
  },
  "cells": [
    {
      "cell_type": "markdown",
      "metadata": {
        "id": "view-in-github",
        "colab_type": "text"
      },
      "source": [
        "<a href=\"https://colab.research.google.com/github/AmanpreetKaur-123/TR-103-batch-2022-2026-/blob/main/Operator(26_6_2025).ipynb\" target=\"_parent\"><img src=\"https://colab.research.google.com/assets/colab-badge.svg\" alt=\"Open In Colab\"/></a>"
      ]
    },
    {
      "cell_type": "markdown",
      "source": [
        "**DATE : 26.6.2025**"
      ],
      "metadata": {
        "id": "ko6x2jFfC_5E"
      }
    },
    {
      "cell_type": "markdown",
      "source": [
        "# **PYTHON**"
      ],
      "metadata": {
        "id": "S3tvbp2cDJw6"
      }
    },
    {
      "cell_type": "markdown",
      "source": [
        "Python is one of the most popular programming languages. It’s simple to use, packed with features and supported by a wide range of libraries and frameworks. Its clean syntax makes it beginner-friendly. It's\n",
        "\n",
        "* A high-level language, used in web development, data science, automation, AI and more.\n",
        "* Known for its readability, which means code is easier to write, understand and maintain.\n",
        "* Backed by library support, so we don’t have to build everything from scratch, there’s probably a library that already does what we need."
      ],
      "metadata": {
        "id": "DTPWYs_uDM5A"
      }
    },
    {
      "cell_type": "markdown",
      "source": [
        "# **OPERATOR IN PYTHON**"
      ],
      "metadata": {
        "id": "lbAuJnDmDbWH"
      }
    },
    {
      "cell_type": "code",
      "execution_count": null,
      "metadata": {
        "colab": {
          "base_uri": "https://localhost:8080/"
        },
        "id": "wwJurUx16J79",
        "outputId": "d75ba570-5c45-4b59-b238-a8af470eef92"
      },
      "outputs": [
        {
          "output_type": "stream",
          "name": "stdout",
          "text": [
            "Arithmetic operator\n",
            "ADDITION 25\n",
            "SUB 5\n",
            "MUL 150\n",
            "DIV 1.5\n",
            "FLOOR DIV 1\n",
            "MODULUS 5\n",
            "EXP 576650390625\n"
          ]
        }
      ],
      "source": [
        "print(\"Arithmetic operator\")\n",
        "a=15\n",
        "b=10\n",
        "print(\"ADDITION\",a+b)\n",
        "print(\"SUB\",a-b)\n",
        "print(\"MUL\",a*b)\n",
        "print(\"DIV\",a/b)\n",
        "print(\"FLOOR DIV\",a//b)\n",
        "print(\"MODULUS\",a%b)\n",
        "print(\"EXP\",a**b)"
      ]
    },
    {
      "cell_type": "code",
      "source": [
        "print(\"Relational operator\")\n",
        "a=15\n",
        "b=10\n",
        "print(a>b)\n",
        "print(a<b)\n",
        "print(a==b)\n",
        "print(a!=b)\n",
        "print(a>=b)\n",
        "print(a<=b)\n"
      ],
      "metadata": {
        "colab": {
          "base_uri": "https://localhost:8080/"
        },
        "id": "P_K4jjEl7nVb",
        "outputId": "86abe869-d7fb-4347-bc3c-42cc21515098"
      },
      "execution_count": null,
      "outputs": [
        {
          "output_type": "stream",
          "name": "stdout",
          "text": [
            "Relational operator\n",
            "True\n",
            "False\n",
            "False\n",
            "True\n",
            "True\n",
            "False\n"
          ]
        }
      ]
    },
    {
      "cell_type": "code",
      "source": [
        "print(\"Logical operator\")\n",
        "\n",
        "print(10<5 and 10<20)\n",
        "print(10<5 or 10<20)\n",
        "print(not(10<20))\n"
      ],
      "metadata": {
        "colab": {
          "base_uri": "https://localhost:8080/"
        },
        "id": "rGHvrgBz8GqO",
        "outputId": "19f02834-107b-4af8-83a1-c981d7b529c5"
      },
      "execution_count": null,
      "outputs": [
        {
          "output_type": "stream",
          "name": "stdout",
          "text": [
            "Logical operator\n",
            "False\n",
            "True\n",
            "False\n"
          ]
        }
      ]
    },
    {
      "cell_type": "code",
      "source": [
        "print(\"Bitwise operator\")\n",
        "a=15\n",
        "b=10\n",
        "print(a & b)\n",
        "print(a | b)\n",
        "print(~b)\n",
        "print(a ^ b)\n",
        "print(a>>b)\n",
        "print(a<<b)"
      ],
      "metadata": {
        "colab": {
          "base_uri": "https://localhost:8080/"
        },
        "id": "bxHUXQ8F8gzX",
        "outputId": "5721bba3-2572-4290-d828-e0d0943d881d"
      },
      "execution_count": null,
      "outputs": [
        {
          "output_type": "stream",
          "name": "stdout",
          "text": [
            "Bitwise operator\n",
            "10\n",
            "15\n",
            "-11\n",
            "5\n",
            "0\n",
            "15360\n"
          ]
        }
      ]
    },
    {
      "cell_type": "code",
      "source": [
        "print(\"Assignment operator\")\n",
        "a=15\n",
        "print(a)\n",
        "a+=1\n",
        "print(a)\n",
        "a-=1\n",
        "print(a)\n",
        "a*=5\n",
        "print(a)\n",
        "a/=5\n",
        "print(a)\n",
        "a//=5\n",
        "print(a)\n",
        "a%=5\n",
        "print(a)\n",
        "a**=5\n",
        "print(a)\n"
      ],
      "metadata": {
        "colab": {
          "base_uri": "https://localhost:8080/"
        },
        "id": "_7fIWQW99HEr",
        "outputId": "7fe677a4-36b4-44cb-a61b-4043850b9217"
      },
      "execution_count": null,
      "outputs": [
        {
          "output_type": "stream",
          "name": "stdout",
          "text": [
            "Assignment operator\n",
            "15\n",
            "16\n",
            "15\n",
            "75\n",
            "15.0\n",
            "3.0\n",
            "3.0\n",
            "243.0\n"
          ]
        }
      ]
    },
    {
      "cell_type": "code",
      "source": [
        "print(\"Special operator\")\n",
        "a1=5\n",
        "b1=5\n",
        "a2=\"Hello\"\n",
        "b2=\"Hello\"\n",
        "a3=[1,2,3]\n",
        "b3=[1,2,3]\n",
        "print(a1 is not b1)\n",
        "print(a2 is b2)\n",
        "print(a2 is b3)"
      ],
      "metadata": {
        "colab": {
          "base_uri": "https://localhost:8080/"
        },
        "id": "rOLwJo2E-ROK",
        "outputId": "92f0fdd7-3217-4fd7-d442-2a8eb19925a9"
      },
      "execution_count": null,
      "outputs": [
        {
          "output_type": "stream",
          "name": "stdout",
          "text": [
            "Special operator\n",
            "False\n",
            "True\n",
            "False\n"
          ]
        }
      ]
    },
    {
      "cell_type": "code",
      "source": [
        "print(\"Membership operator\")\n",
        "a=\"HELLO WORLD!\"\n",
        "b={1,\"a\",\"b\",2}\n",
        "print(\"H\" in a)\n",
        "print(\"hello\" in a)\n",
        "print(1 in b)\n",
        "print(\"b\" in b)\n",
        "print(\"c\" not in b)"
      ],
      "metadata": {
        "colab": {
          "base_uri": "https://localhost:8080/"
        },
        "id": "gYJ7WFnGAQJt",
        "outputId": "c8101698-a85c-46e2-c223-beb081362411"
      },
      "execution_count": null,
      "outputs": [
        {
          "output_type": "stream",
          "name": "stdout",
          "text": [
            "Membership operator\n",
            "True\n",
            "False\n",
            "True\n",
            "True\n",
            "True\n"
          ]
        }
      ]
    },
    {
      "cell_type": "markdown",
      "source": [
        "# **PRACTICE QUESTIONS:**"
      ],
      "metadata": {
        "id": "AsoJ9FnLDxDK"
      }
    },
    {
      "cell_type": "code",
      "source": [
        "print(\"1.Manage a ZOO's Animal Population\")\n",
        "lion_population=10\n",
        "lion_population += 5\n",
        "print(\"Total lion population:\", lion_population)\n"
      ],
      "metadata": {
        "colab": {
          "base_uri": "https://localhost:8080/"
        },
        "id": "soGkZNU_BBxk",
        "outputId": "62417f2d-24f5-4985-d73d-76dad5c021af"
      },
      "execution_count": null,
      "outputs": [
        {
          "output_type": "stream",
          "name": "stdout",
          "text": [
            "1.Manage a ZOO's Animal Population\n",
            "Total lion population: 15\n"
          ]
        }
      ]
    },
    {
      "cell_type": "code",
      "source": [
        "print(\"2. Weather Monitoring System\")\n",
        "temperature = 25.5\n",
        "temperature += 8\n",
        "print(\"New temperature:\", temperature, \"°C\")\n"
      ],
      "metadata": {
        "colab": {
          "base_uri": "https://localhost:8080/"
        },
        "id": "hVt623cQCFBQ",
        "outputId": "093de2a5-37b3-4b2d-de29-6f8dd4cdb71c"
      },
      "execution_count": null,
      "outputs": [
        {
          "output_type": "stream",
          "name": "stdout",
          "text": [
            "2. Weather Monitoring System\n",
            "New temperature: 33.5 °C\n"
          ]
        }
      ]
    },
    {
      "cell_type": "code",
      "source": [
        "print(\"3. Plant Growth Tracking\")\n",
        "plant_height = 15\n",
        "daily_growth = 2.5\n",
        "days = 7\n",
        "plant_height += daily_growth * days\n",
        "print(\"Final plant height after a week:\", plant_height, \"cm\")\n"
      ],
      "metadata": {
        "colab": {
          "base_uri": "https://localhost:8080/"
        },
        "id": "gDwJDe1ACLb8",
        "outputId": "e210dd84-ecb6-4e1d-e1a3-fdb0a6377846"
      },
      "execution_count": null,
      "outputs": [
        {
          "output_type": "stream",
          "name": "stdout",
          "text": [
            "3. Plant Growth Tracking\n",
            "Final plant height after a week: 32.5 cm\n"
          ]
        }
      ]
    },
    {
      "cell_type": "code",
      "source": [
        "print(\"4. Space Mission Trajectory\")\n",
        "initial_velocity = 3000\n",
        "acceleration = 500\n",
        "time = 10\n",
        "final_velocity = initial_velocity + acceleration * time\n",
        "print(\"Final velocity after 10 seconds:\", final_velocity, \"m/s\")\n"
      ],
      "metadata": {
        "colab": {
          "base_uri": "https://localhost:8080/"
        },
        "id": "856e63mnCgQ6",
        "outputId": "4b1a5ef8-0d5b-4d65-fc06-9134497de498"
      },
      "execution_count": null,
      "outputs": [
        {
          "output_type": "stream",
          "name": "stdout",
          "text": [
            "4. Space Mission Trajectory\n",
            "Final velocity after 10 seconds: 8000 m/s\n"
          ]
        }
      ]
    },
    {
      "cell_type": "code",
      "source": [
        "print(\"5. Pizza Sharing\")\n",
        "pizza_slices = 8\n",
        "friends = 5\n",
        "slices_per_friend = pizza_slices // friends\n",
        "print(\"Maximum slices each friend can have:\", slices_per_friend)\n"
      ],
      "metadata": {
        "colab": {
          "base_uri": "https://localhost:8080/"
        },
        "id": "sdwCxpNsCx9l",
        "outputId": "097cdf46-4c6d-4dd7-fce5-5c71d8305367"
      },
      "execution_count": null,
      "outputs": [
        {
          "output_type": "stream",
          "name": "stdout",
          "text": [
            "5. Pizza Sharing\n",
            "Maximum slices each friend can have: 1\n"
          ]
        }
      ]
    },
    {
      "cell_type": "code",
      "source": [
        "import math\n",
        "print(\"6. Pendulum Oscillation Period\")\n",
        "pendulum_length = 1.2  # meters\n",
        "g = 9.81               # m/s²\n",
        "T = 2 * math.pi * (pendulum_length / g) ** 0.5\n",
        "print(\"Period of oscillation:\", T, \"seconds\")"
      ],
      "metadata": {
        "colab": {
          "base_uri": "https://localhost:8080/"
        },
        "id": "RRBonnd0sy8b",
        "outputId": "9603462b-8c69-4ef8-ec4b-c95282432fea"
      },
      "execution_count": null,
      "outputs": [
        {
          "output_type": "stream",
          "name": "stdout",
          "text": [
            "6. Pendulum Oscillation Period\n",
            "Period of oscillation: 2.1975359457694705 seconds\n"
          ]
        }
      ]
    },
    {
      "cell_type": "code",
      "source": [
        "print(\"7. Bug Tracking\")\n",
        "bug_count = 100\n",
        "bug_count -= 35\n",
        "print(\"Remaining bugs:\", bug_count)\n"
      ],
      "metadata": {
        "id": "19geNi1TDEOp",
        "colab": {
          "base_uri": "https://localhost:8080/"
        },
        "outputId": "b1bd89a9-7dbb-4f1f-cf04-b43a2ec74667"
      },
      "execution_count": null,
      "outputs": [
        {
          "output_type": "stream",
          "name": "stdout",
          "text": [
            "7. Bug Tracking\n",
            "Remaining bugs: 65\n"
          ]
        }
      ]
    },
    {
      "cell_type": "code",
      "source": [
        "print(\"8. Gem Collection in Game\")\n",
        "gem_count = 50\n",
        "gem_count += 5\n",
        "print(\"Updated gem count:\", gem_count)\n"
      ],
      "metadata": {
        "id": "_PJPuvq2DLIU",
        "colab": {
          "base_uri": "https://localhost:8080/"
        },
        "outputId": "9a50f619-3943-44ce-f9c9-e1024de0b955"
      },
      "execution_count": null,
      "outputs": [
        {
          "output_type": "stream",
          "name": "stdout",
          "text": [
            "8. Gem Collection in Game\n",
            "Updated gem count: 55\n"
          ]
        }
      ]
    },
    {
      "cell_type": "code",
      "source": [
        "print(\"9. HRV Monitoring\")\n",
        "hrv_index = 80\n",
        "hrv_index += 10\n",
        "print(\"New HRV Index:\", hrv_index)\n"
      ],
      "metadata": {
        "id": "dZMS_GWoDSKG",
        "colab": {
          "base_uri": "https://localhost:8080/"
        },
        "outputId": "0e17750a-9542-466c-e3e8-2b0184b843c1"
      },
      "execution_count": null,
      "outputs": [
        {
          "output_type": "stream",
          "name": "stdout",
          "text": [
            "9. HRV Monitoring\n",
            "New HRV Index: 90\n"
          ]
        }
      ]
    },
    {
      "cell_type": "code",
      "source": [
        "print(\"10. Bacterial Colony Growth\")\n",
        "bacteria_count = 5000\n",
        "doublings_per_day = 24 // 4\n",
        "bacteria_count *= 2 ** doublings_per_day\n",
        "print(\"Bacteria count after one day:\", bacteria_count)\n"
      ],
      "metadata": {
        "id": "4QFDaCHNDaAO",
        "colab": {
          "base_uri": "https://localhost:8080/"
        },
        "outputId": "55eaf156-75ac-48fc-838b-df3311c8e0c9"
      },
      "execution_count": null,
      "outputs": [
        {
          "output_type": "stream",
          "name": "stdout",
          "text": [
            "10. Bacterial Colony Growth\n",
            "Bacteria count after one day: 320000\n"
          ]
        }
      ]
    }
  ]
}