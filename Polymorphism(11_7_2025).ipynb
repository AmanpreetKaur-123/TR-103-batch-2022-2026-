{
  "cells": [
    {
      "cell_type": "markdown",
      "metadata": {
        "id": "view-in-github",
        "colab_type": "text"
      },
      "source": [
        "<a href=\"https://colab.research.google.com/github/AmanpreetKaur-123/TR-103-batch-2022-2026-/blob/main/Polymorphism(11_7_2025).ipynb\" target=\"_parent\"><img src=\"https://colab.research.google.com/assets/colab-badge.svg\" alt=\"Open In Colab\"/></a>"
      ]
    },
    {
      "cell_type": "markdown",
      "metadata": {
        "id": "dXQMqToB_3xm"
      },
      "source": [
        "# Polymorphism"
      ]
    },
    {
      "cell_type": "markdown",
      "metadata": {
        "id": "Z4HmtKp5AqzA"
      },
      "source": [
        "### Polymorphism\n",
        "The word \"polymorphism\" means \"many forms\", and in programming it refers to methods/functions/operators with the same name that can be executed on many objects or classes.\n",
        "\n",
        "---\n",
        "\n",
        "1. Function Polymorphism\n",
        "\n",
        "**Example 1**\n",
        "```python\n",
        "\n",
        "# len() function\n",
        "\n",
        "lst = [3, 56, 6.78, 'Hello', True]\n",
        "print(len(lst))\n",
        "\n",
        "\n",
        "tup = (3, 7, 34, 9)\n",
        "print(len(tup))\n",
        "\n",
        "\n",
        "dct = {'Name': \"Alice\", \"ID\": 89327, \"City\": \"New York\"}\n",
        "print(len(dct))\n",
        "\n",
        "\n",
        "st = \"Hello World\"\n",
        "print(len(st))\n",
        "```\n",
        "\n",
        "**Example 2**\n",
        "```python\n",
        "# Using Functions\n",
        "\n",
        "def add(a, b):\n",
        "  print(a + b)\n",
        "\n",
        "add(3, 4)\n",
        "\n",
        "add([3, 8], [8, 10])\n",
        "\n",
        "add(\"Hello\", \"World\")\n",
        "\n",
        "```\n",
        "\n",
        "\n",
        "2. Class Polymorphism\n",
        "\n",
        "```python\n",
        "class Car:\n",
        "  def __init__(self, brand, model):\n",
        "    self.brand = brand\n",
        "    self.model = model\n",
        "\n",
        "  def move(self):\n",
        "    print(\"Drive!\")\n",
        "\n",
        "\n",
        "class Boat:\n",
        "  def __init__(self, brand, model):\n",
        "    self.brand = brand\n",
        "    self.model = model\n",
        "\n",
        "  def move(self):\n",
        "    print(\"Sail!\")\n",
        "\n",
        "class Plane:\n",
        "  def __init__(self, brand, model):\n",
        "    self.brand = brand\n",
        "    self.model = model\n",
        "\n",
        "  def move(self):\n",
        "    print(\"Fly!\")\n",
        "\n",
        "car1 = Car(\"Ford\", \"Mustang\")       \n",
        "boat1 = Boat(\"Ibiza\", \"Touring 20\")\n",
        "plane1 = Plane(\"Boeing\", \"747\")     \n",
        "\n",
        "for x in (car1, boat1, plane1):\n",
        "  x.move()\n",
        "\n",
        "\n",
        "```\n",
        "\n"
      ]
    },
    {
      "cell_type": "code",
      "execution_count": null,
      "metadata": {
        "colab": {
          "base_uri": "https://localhost:8080/"
        },
        "id": "dQslHYQnAp6f",
        "outputId": "46105f3c-af05-43ae-82fa-c7f90e50d631"
      },
      "outputs": [
        {
          "name": "stdout",
          "output_type": "stream",
          "text": [
            "4\n",
            "11\n",
            "3\n"
          ]
        }
      ],
      "source": [
        "lst = [34, 67, 'hello', 67.78 ]\n",
        "\n",
        "print(len(lst))\n",
        "\n",
        "\n",
        "\n",
        "\n",
        "string = \"Hello World\"\n",
        "\n",
        "print(len(string))\n",
        "\n",
        "\n",
        "\n",
        "\n",
        "dct = {'Name': \"Alice\", \"ID\": 89327, \"City\": \"New York\"}\n",
        "print(len(dct))\n",
        "\n",
        "\n",
        "\n",
        "\n",
        "\n"
      ]
    },
    {
      "cell_type": "code",
      "execution_count": null,
      "metadata": {
        "colab": {
          "base_uri": "https://localhost:8080/"
        },
        "id": "kRP-0m3FUtvA",
        "outputId": "19e32c5b-e638-4276-b593-c31f2428a4ca"
      },
      "outputs": [
        {
          "name": "stdout",
          "output_type": "stream",
          "text": [
            "7\n",
            "Helloworld\n",
            "[34, 56, 67, 44.5, 7]\n"
          ]
        }
      ],
      "source": [
        "def add(a, b):\n",
        "  print(a + b)\n",
        "\n",
        "add(3, 4)\n",
        "\n",
        "\n",
        "add(\"Hello\", \"world\")\n",
        "\n",
        "\n",
        "add([34, 56, 67], [44.5, 7])\n"
      ]
    },
    {
      "cell_type": "code",
      "execution_count": null,
      "metadata": {
        "id": "7yOOpEUg_3Gi"
      },
      "outputs": [],
      "source": [
        "class Car:\n",
        "  def __init__(self, name):\n",
        "    self.name = name\n",
        "\n",
        "  def drive(self):\n",
        "    print(\"Drive on Road\")\n",
        "\n",
        "\n",
        "class Ship:\n",
        "  def __init__(self, name):\n",
        "    self.name = name\n",
        "\n",
        "  def drive(self):\n",
        "    print(\"Sail on Water\")\n",
        "\n",
        "\n",
        "class Plane:\n",
        "  def __init__(self, name):\n",
        "    self.name = name\n",
        "\n",
        "  def drive(self):\n",
        "    print('Fly in sky')\n",
        "\n",
        "\n",
        "\n"
      ]
    },
    {
      "cell_type": "code",
      "execution_count": null,
      "metadata": {
        "colab": {
          "base_uri": "https://localhost:8080/"
        },
        "id": "W4ww2a6fVLma",
        "outputId": "57e1339e-d9f6-4898-863d-f28c5662ede0"
      },
      "outputs": [
        {
          "name": "stdout",
          "output_type": "stream",
          "text": [
            "Drive on road\n",
            "sail on water\n",
            "Fly in sky\n"
          ]
        }
      ],
      "source": [
        "class car:\n",
        "  def __init__(self, brand):\n",
        "    self.brand = brand\n",
        "\n",
        "  def move(self):\n",
        "    print('Drive on road')\n",
        "\n",
        "\n",
        "class ship:\n",
        "  def __init__(self, brand):\n",
        "    self.brand = brand\n",
        "\n",
        "  def move(self):\n",
        "    print(\"sail on water\")\n",
        "\n",
        "\n",
        "class Plane:\n",
        "  def __init__(self, brand):\n",
        "    self.brand = brand\n",
        "\n",
        "  def move(self):\n",
        "    print('Fly in sky')\n",
        "\n",
        "\n",
        "\n",
        "c = car('Audi')\n",
        "s = ship(\"Titanic\")\n",
        "p = Plane(\"Air Canada\")\n",
        "\n",
        "c.move()\n",
        "s.move()\n",
        "p.move()\n"
      ]
    },
    {
      "cell_type": "markdown",
      "source": [
        "#PRACTICE QUESTIONS:"
      ],
      "metadata": {
        "id": "jqqHMd3d7NJd"
      }
    },
    {
      "cell_type": "markdown",
      "source": [
        "1. Create a base class Shape with a method area(). Override it in Circle and Rectangle.\n"
      ],
      "metadata": {
        "id": "JK8Fuijc7EMz"
      }
    },
    {
      "cell_type": "code",
      "source": [
        "import math\n",
        "\n",
        "\n",
        "class Shape:\n",
        "    def area(self):\n",
        "        return 0\n",
        "\n",
        "class Circle(Shape):\n",
        "    def __init__(self, radius):\n",
        "        self.radius = radius\n",
        "\n",
        "    def area(self):\n",
        "        return math.pi * self.radius * self.radius\n",
        "\n",
        "class Rectangle(Shape):\n",
        "    def __init__(self, length, width):\n",
        "        self.length = length\n",
        "        self.width = width\n",
        "\n",
        "    def area(self):\n",
        "        return self.length * self.width\n",
        "\n",
        "circle = Circle(5)\n",
        "rectangle = Rectangle(4, 6)\n",
        "print(\"Circle Area:\", circle.area())\n",
        "print(\"Rectangle Area:\", rectangle.area())\n"
      ],
      "metadata": {
        "id": "v337G3t67Rv0",
        "colab": {
          "base_uri": "https://localhost:8080/"
        },
        "outputId": "d3633d1e-3550-4a53-cb98-bb71a2fd3641"
      },
      "execution_count": 1,
      "outputs": [
        {
          "output_type": "stream",
          "name": "stdout",
          "text": [
            "Circle Area: 78.53981633974483\n",
            "Rectangle Area: 24\n"
          ]
        }
      ]
    },
    {
      "cell_type": "markdown",
      "source": [
        "2. Create a class Animal with a method speak(). Override it in Dog, Cat, Cow.\n"
      ],
      "metadata": {
        "id": "pMS4G5aP7IOT"
      }
    },
    {
      "cell_type": "code",
      "source": [
        "class Animal:\n",
        "    def speak(self):\n",
        "        print(\"Animal makes a sound\")\n",
        "\n",
        "class Dog(Animal):\n",
        "    def speak(self):\n",
        "        print(\"Dog says: Woof!\")\n",
        "\n",
        "class Cat(Animal):\n",
        "    def speak(self):\n",
        "        print(\"Cat says: Meow!\")\n",
        "\n",
        "class Cow(Animal):\n",
        "    def speak(self):\n",
        "        print(\"Cow says: Moo!\")\n",
        "\n",
        "dog = Dog()\n",
        "cat = Cat()\n",
        "cow = Cow()\n",
        "\n",
        "dog.speak()\n",
        "cat.speak()\n",
        "cow.speak()"
      ],
      "metadata": {
        "colab": {
          "base_uri": "https://localhost:8080/"
        },
        "id": "id-zw92N7uP8",
        "outputId": "1f4d0524-ad09-4c2f-9632-ec10efdd7331"
      },
      "execution_count": 2,
      "outputs": [
        {
          "output_type": "stream",
          "name": "stdout",
          "text": [
            "Dog says: Woof!\n",
            "Cat says: Meow!\n",
            "Cow says: Moo!\n"
          ]
        }
      ]
    },
    {
      "cell_type": "markdown",
      "source": [
        "3. Create a function play_sound(obj) that accepts any object with a sound() method.\n"
      ],
      "metadata": {
        "id": "38QJLmoz7KUY"
      }
    },
    {
      "cell_type": "code",
      "source": [
        "def play_sound(obj):\n",
        "    if hasattr(obj, 'sound') and callable(getattr(obj, 'sound')):\n",
        "        obj.sound()\n",
        "    else:\n",
        "        print(\"This object has no sound method.\")\n",
        "def play_sound(obj):\n",
        "    if hasattr(obj, 'sound') and callable(getattr(obj, 'sound')):\n",
        "        obj.sound()\n",
        "    else:\n",
        "        print(\"This object has no sound method.\")\n",
        "\n",
        "class Bell:\n",
        "    def sound(self):\n",
        "        print(\"Bell rings: Ding Dong!\")\n",
        "\n",
        "\n",
        "bell = Bell()\n",
        "play_sound(bell)\n",
        "play_sound(cat)"
      ],
      "metadata": {
        "colab": {
          "base_uri": "https://localhost:8080/"
        },
        "id": "cLJzewIp7zLr",
        "outputId": "5a50f75d-2016-4235-94f3-66937ed5149d"
      },
      "execution_count": 3,
      "outputs": [
        {
          "output_type": "stream",
          "name": "stdout",
          "text": [
            "Bell rings: Ding Dong!\n",
            "This object has no sound method.\n"
          ]
        }
      ]
    },
    {
      "cell_type": "markdown",
      "source": [
        "4. Create a class Student and override the _str_ method to display details"
      ],
      "metadata": {
        "id": "iQIHXGs_7MKZ"
      }
    },
    {
      "cell_type": "code",
      "source": [
        "class Student:\n",
        "    def __init__(self, name, roll_no, branch):\n",
        "        self.name = name\n",
        "        self.roll_no = roll_no\n",
        "        self.branch = branch\n",
        "\n",
        "    def __str__(self):\n",
        "        return f\"Name: {self.name}, Roll No: {self.roll_no}, Branch: {self.branch}\"\n",
        "student1 = Student(\"Aman\", 2215011, \"CSE\")\n",
        "print(student1)"
      ],
      "metadata": {
        "id": "KDjAwDDM7Do1",
        "colab": {
          "base_uri": "https://localhost:8080/"
        },
        "outputId": "03841c47-47e6-425b-8a09-2288514d0630"
      },
      "execution_count": 4,
      "outputs": [
        {
          "output_type": "stream",
          "name": "stdout",
          "text": [
            "Name: Aman, Roll No: 2215011, Branch: CSE\n"
          ]
        }
      ]
    }
  ],
  "metadata": {
    "colab": {
      "collapsed_sections": [
        "z2LTw_GlCZQE",
        "5cSsriLgj9Nb",
        "r4EFIy923vEt",
        "PQFc6HqTQSyj",
        "QGZNInu9UeGN",
        "Msa1uS3alJfb",
        "9d8sXAPW3jPr",
        "VYMvpBYiA-Ty",
        "dXQMqToB_3xm",
        "w9iHIGby85Gw",
        "fcNslErRaUlN",
        "FtxPmkzVgcpb",
        "VVO6XNqJfln1",
        "MQr2ptivpdwl",
        "xCivnVCyyGMc",
        "5W6Vah8u69Ad",
        "3p217ot7GOPE",
        "q3p7OZ5xGXIU",
        "9KQW0gdI-SfA",
        "MhN8H5O0_qtf",
        "sZWszaRsuaU9",
        "7m_KwJWMqgcU",
        "pSVUna54_yz4",
        "l1GDwTuB_3Ky",
        "wqUK1x38GnaH",
        "wrDfTwXgDvV-",
        "qq08vZHvE0dt",
        "8gmIjiMv6dkb",
        "A_J4pPXdNiKl",
        "ZFaXGpoPawW1",
        "JDCt8yzaWH6X",
        "m6GB3VlHbmwX",
        "gMAH-RDtbzxZ",
        "VuRr1rKNUmbA",
        "RNROPfIJKVS2",
        "cs_MNju02C2-",
        "Gs18FGUeMo6A",
        "gTyuuj5JvIEq",
        "ZMC04O3se9_q",
        "IWfetVnDXAdL"
      ],
      "provenance": [],
      "include_colab_link": true
    },
    "kernelspec": {
      "display_name": "Python 3",
      "name": "python3"
    },
    "language_info": {
      "name": "python"
    }
  },
  "nbformat": 4,
  "nbformat_minor": 0
}