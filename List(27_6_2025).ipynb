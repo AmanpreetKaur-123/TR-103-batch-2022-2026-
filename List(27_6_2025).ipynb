{
  "nbformat": 4,
  "nbformat_minor": 0,
  "metadata": {
    "colab": {
      "provenance": [],
      "authorship_tag": "ABX9TyMfGDi1dvbf1S7gLS1WBSr0",
      "include_colab_link": true
    },
    "kernelspec": {
      "name": "python3",
      "display_name": "Python 3"
    },
    "language_info": {
      "name": "python"
    }
  },
  "cells": [
    {
      "cell_type": "markdown",
      "metadata": {
        "id": "view-in-github",
        "colab_type": "text"
      },
      "source": [
        "<a href=\"https://colab.research.google.com/github/AmanpreetKaur-123/TR-103-batch-2022-2026-/blob/main/List(27_6_2025).ipynb\" target=\"_parent\"><img src=\"https://colab.research.google.com/assets/colab-badge.svg\" alt=\"Open In Colab\"/></a>"
      ]
    },
    {
      "cell_type": "markdown",
      "source": [
        "**DATE : 27.6.2025**"
      ],
      "metadata": {
        "id": "rmKeEaSN9Df0"
      }
    },
    {
      "cell_type": "markdown",
      "source": [
        "# TOPIC : LIST"
      ],
      "metadata": {
        "id": "5AWKsUiu9MCr"
      }
    },
    {
      "cell_type": "markdown",
      "source": [
        "In Python, a list is a built-in dynamic sized array (automatically grows and shrinks). We can store all types of items (including another list) in a list. A list may contain mixed type of items, this is possible because a list mainly stores references at contiguous locations and actual items maybe stored at different locations.\n",
        "\n",
        "* List can contain duplicate items.\n",
        "* List in Python are Mutable. Hence, we can modify, replace or delete the items.\n",
        "* List are ordered. It maintain the order of elements based on how they are added.\n",
        "* Accessing items in List can be done directly using their position (index), starting from 0."
      ],
      "metadata": {
        "id": "Py2NZvcv9wdE"
      }
    },
    {
      "cell_type": "code",
      "source": [
        "list=[1,2,3,4,5]\n",
        "# indexing[0,1,2,3,4] n-1"
      ],
      "metadata": {
        "id": "TvUZ0CuJ-QoL"
      },
      "execution_count": 2,
      "outputs": []
    },
    {
      "cell_type": "code",
      "source": [
        "a=[]\n",
        "print(a)"
      ],
      "metadata": {
        "colab": {
          "base_uri": "https://localhost:8080/"
        },
        "id": "zuDSVD6K-chz",
        "outputId": "ce54b0b0-345e-45b4-aa09-7323eb1e554b"
      },
      "execution_count": 3,
      "outputs": [
        {
          "output_type": "stream",
          "name": "stdout",
          "text": [
            "[]\n"
          ]
        }
      ]
    },
    {
      "cell_type": "code",
      "source": [
        "file1=[1,2,3,8,'Aman']\n",
        "print(file1)"
      ],
      "metadata": {
        "colab": {
          "base_uri": "https://localhost:8080/"
        },
        "id": "LC7RjRdX-gTa",
        "outputId": "7b615b12-a6ad-4884-88df-d0b550a59a23"
      },
      "execution_count": 4,
      "outputs": [
        {
          "output_type": "stream",
          "name": "stdout",
          "text": [
            "[1, 2, 3, 8, 'Aman']\n"
          ]
        }
      ]
    },
    {
      "cell_type": "markdown",
      "source": [
        "# **Creating a List**\n",
        "Here are some common methods to create a list:\n",
        "\n",
        "**Using Square Brackets**\n",
        "\n",
        "\n",
        "\n",
        "    a = [1, 2, 3, 4, 5]\n",
        "    b = ['apple', 'banana', 'cherry']\n",
        "    c = [1, 'hello', 3.14, True]   \n",
        "    print(a)\n",
        "    print(b)\n",
        "    print(c)\n",
        "\n",
        "    Output\n",
        "    [1, 2, 3, 4, 5]\n",
        "    ['apple', 'banana', 'cherry']\n",
        "    [1, 'hello', 3.14, True]\n",
        "**Using list() Constructor**\n",
        "\n",
        "We can also create a list by passing an iterable (like a string, tuple or another list) to list() function.\n",
        "\n",
        "    a = list((1, 2, 3, 'apple', 4.5))  \n",
        "    print(a)\n",
        "\n",
        "    Output\n",
        "    [1, 2, 3, 'apple', 4.5]\n",
        "\n",
        "\n",
        "**Creating List with Repeated Elements**\n",
        "\n",
        "We can create a list with repeated elements using the multiplication operator.\n",
        "\n",
        "         a = [2] * 5\n",
        "         b = [0] * 7\n",
        "         print(a)\n",
        "         print(b)\n",
        "\n",
        "         \n",
        "         Output\n",
        "        [2, 2, 2, 2, 2]\n",
        "        [0, 0, 0, 0, 0, 0, 0]"
      ],
      "metadata": {
        "id": "-gwSTIQT-wmH"
      }
    },
    {
      "cell_type": "markdown",
      "source": [
        "# **Accessing List Elements**\n",
        "Elements in a list can be accessed using indexing. Python indexes start at 0, so a[0] will access the first element, while negative indexing allows us to access elements from the end of the list. Like index -1 represents the last elements of list."
      ],
      "metadata": {
        "id": "Ox8kzfwe_wVN"
      }
    },
    {
      "cell_type": "code",
      "source": [
        "file1[4]\n",
        "file1[2]"
      ],
      "metadata": {
        "colab": {
          "base_uri": "https://localhost:8080/"
        },
        "id": "SThnLj0r_1ZA",
        "outputId": "65931737-8b02-4b06-8442-d943068fb42c"
      },
      "execution_count": 5,
      "outputs": [
        {
          "output_type": "execute_result",
          "data": {
            "text/plain": [
              "3"
            ]
          },
          "metadata": {},
          "execution_count": 5
        }
      ]
    },
    {
      "cell_type": "markdown",
      "source": [
        "If we want both value we will write like these"
      ],
      "metadata": {
        "id": "2eb-Ryea_8SU"
      }
    },
    {
      "cell_type": "code",
      "source": [
        "print(file1[4])\n",
        "print(file1[2])"
      ],
      "metadata": {
        "colab": {
          "base_uri": "https://localhost:8080/"
        },
        "id": "gL41lTDuAASE",
        "outputId": "4f4d2d2a-a6f1-4ba7-f91e-e25f176b9c7b"
      },
      "execution_count": 6,
      "outputs": [
        {
          "output_type": "stream",
          "name": "stdout",
          "text": [
            "Aman\n",
            "3\n"
          ]
        }
      ]
    },
    {
      "cell_type": "code",
      "source": [
        "file1='Aman'\n",
        "print(file1)"
      ],
      "metadata": {
        "colab": {
          "base_uri": "https://localhost:8080/"
        },
        "id": "brDREiZrAG1f",
        "outputId": "e7bda404-f70a-4b84-8bab-b61292d94180"
      },
      "execution_count": 8,
      "outputs": [
        {
          "output_type": "stream",
          "name": "stdout",
          "text": [
            "Aman\n"
          ]
        }
      ]
    },
    {
      "cell_type": "code",
      "source": [
        "FRUITS=[\"apple\",\"Mango\",\"cherry\",\"banana\",\"litchi\"]\n",
        "print(len(FRUITS))"
      ],
      "metadata": {
        "colab": {
          "base_uri": "https://localhost:8080/"
        },
        "id": "7LoZAJdnAGqQ",
        "outputId": "33da01a3-861f-4388-ce6e-208dc916ab3d"
      },
      "execution_count": 9,
      "outputs": [
        {
          "output_type": "stream",
          "name": "stdout",
          "text": [
            "5\n"
          ]
        }
      ]
    },
    {
      "cell_type": "code",
      "source": [
        "FRUITS.append(\"app\")\n",
        "print(FRUITS)"
      ],
      "metadata": {
        "colab": {
          "base_uri": "https://localhost:8080/"
        },
        "id": "4o15TTypAGh9",
        "outputId": "84d816d2-7477-4d3d-c607-333a1b539554"
      },
      "execution_count": 10,
      "outputs": [
        {
          "output_type": "stream",
          "name": "stdout",
          "text": [
            "['apple', 'Mango', 'cherry', 'banana', 'litchi', 'app']\n"
          ]
        }
      ]
    },
    {
      "cell_type": "code",
      "source": [
        "#clear method\n",
        "UNI=[\"CTU\",\"AUY\"]\n",
        "UNI.clear\n",
        "print(UNI)"
      ],
      "metadata": {
        "colab": {
          "base_uri": "https://localhost:8080/"
        },
        "id": "44hau9VNAGeY",
        "outputId": "c100c3ae-bb1d-4b9c-92ad-75253c3453ad"
      },
      "execution_count": 11,
      "outputs": [
        {
          "output_type": "stream",
          "name": "stdout",
          "text": [
            "['CTU', 'AUY']\n"
          ]
        }
      ]
    },
    {
      "cell_type": "code",
      "source": [
        "#COPY METHOD\n",
        "#count method\n",
        "#syntax method\n",
        "#print(FRUITS.copy())\n",
        "FRUITS.count(\"apple\")"
      ],
      "metadata": {
        "colab": {
          "base_uri": "https://localhost:8080/"
        },
        "id": "28PKo3rIAGQw",
        "outputId": "5c8779fe-fefa-4249-c4ad-4464ba6e8091"
      },
      "execution_count": 12,
      "outputs": [
        {
          "output_type": "execute_result",
          "data": {
            "text/plain": [
              "1"
            ]
          },
          "metadata": {},
          "execution_count": 12
        }
      ]
    },
    {
      "cell_type": "code",
      "source": [
        "#extend method\n",
        "UNI=[\"CTU\",\"KTU\",\"DTU\",\"CTU\"]\n",
        "UNI2=[\"CU\",\"PU\"]\n",
        "UNI2.extend(UNI)\n",
        "print(UNI2)"
      ],
      "metadata": {
        "colab": {
          "base_uri": "https://localhost:8080/"
        },
        "id": "vN5DXmYwAZMD",
        "outputId": "4155c476-882c-4aee-d488-d582846c1596"
      },
      "execution_count": 13,
      "outputs": [
        {
          "output_type": "stream",
          "name": "stdout",
          "text": [
            "['CU', 'PU', 'CTU', 'KTU', 'DTU', 'CTU']\n"
          ]
        }
      ]
    },
    {
      "cell_type": "code",
      "source": [
        "#INDEX METHOD\n",
        "UNI2.index(\"KTU\")"
      ],
      "metadata": {
        "colab": {
          "base_uri": "https://localhost:8080/"
        },
        "id": "ramzA9YUAZIg",
        "outputId": "987a048e-e7b4-4c69-8aeb-782fccedffd1"
      },
      "execution_count": 14,
      "outputs": [
        {
          "output_type": "execute_result",
          "data": {
            "text/plain": [
              "3"
            ]
          },
          "metadata": {},
          "execution_count": 14
        }
      ]
    },
    {
      "cell_type": "code",
      "source": [
        "#INSERT METHOD\n",
        "#syntax\n",
        "UNI2.insert(1,\"ptu\")\n",
        "UNI2"
      ],
      "metadata": {
        "colab": {
          "base_uri": "https://localhost:8080/"
        },
        "id": "-b6ZnHAGAZGS",
        "outputId": "9a8d5729-1453-4b98-a9d3-9f9b42a3a2db"
      },
      "execution_count": 15,
      "outputs": [
        {
          "output_type": "execute_result",
          "data": {
            "text/plain": [
              "['CU', 'ptu', 'PU', 'CTU', 'KTU', 'DTU', 'CTU']"
            ]
          },
          "metadata": {},
          "execution_count": 15
        }
      ]
    },
    {
      "cell_type": "code",
      "source": [
        "#POP METHOD\n",
        "fur=[\"TABLE\",\"CHAIR\",\"STOOL\",\"FAN\",\"BED\"]\n",
        "fur.pop()\n",
        "fur\n",
        "fur.pop(0)\n",
        "fur"
      ],
      "metadata": {
        "colab": {
          "base_uri": "https://localhost:8080/"
        },
        "id": "MomSd_-vAZDD",
        "outputId": "e6b95708-b46e-4780-b21c-9604483fa371"
      },
      "execution_count": 17,
      "outputs": [
        {
          "output_type": "execute_result",
          "data": {
            "text/plain": [
              "['CHAIR', 'STOOL', 'FAN']"
            ]
          },
          "metadata": {},
          "execution_count": 17
        }
      ]
    },
    {
      "cell_type": "code",
      "source": [
        "#remove() : It is also used to remove an element from an existing list like pop() method. But the difference is that it takes element itself as arguement.\n",
        "FUR = [\"TABLE\", \"CHAIR\", \"STOOL\", \"BED\"]\n",
        "FUR.remove(\"CHAIR\")\n",
        "FUR"
      ],
      "metadata": {
        "colab": {
          "base_uri": "https://localhost:8080/"
        },
        "id": "eyeYsBITAtNj",
        "outputId": "990162c0-ac6a-420f-aadd-a149797b62a1"
      },
      "execution_count": 18,
      "outputs": [
        {
          "output_type": "execute_result",
          "data": {
            "text/plain": [
              "['TABLE', 'STOOL', 'BED']"
            ]
          },
          "metadata": {},
          "execution_count": 18
        }
      ]
    },
    {
      "cell_type": "code",
      "source": [
        "#reverse method\n",
        "FUR = [\"TABLE\", \"CHAIR\", \"STOOL\", \"BED\"]\n",
        "FUR.reverse()\n",
        "FUR"
      ],
      "metadata": {
        "colab": {
          "base_uri": "https://localhost:8080/"
        },
        "id": "PM6_ITtFAtFT",
        "outputId": "5057cad9-4e49-4efe-9da5-cab63627214e"
      },
      "execution_count": 19,
      "outputs": [
        {
          "output_type": "execute_result",
          "data": {
            "text/plain": [
              "['BED', 'STOOL', 'CHAIR', 'TABLE']"
            ]
          },
          "metadata": {},
          "execution_count": 19
        }
      ]
    },
    {
      "cell_type": "code",
      "source": [
        "\n",
        "#sorting a list\n",
        "\n",
        "# by using sort() method\n",
        "FUR.sort()\n",
        "print(FUR)\n",
        "\n",
        "#by using sorted() function\n",
        "FUR = [\"TABLE\", \"CHAIR\", \"STOOL\", \"BED\"]\n",
        "print(sorted(FUR))"
      ],
      "metadata": {
        "colab": {
          "base_uri": "https://localhost:8080/"
        },
        "id": "hwPlB7dEA1oZ",
        "outputId": "8d4324d4-1575-48f6-b19e-5853d46f0563"
      },
      "execution_count": 20,
      "outputs": [
        {
          "output_type": "stream",
          "name": "stdout",
          "text": [
            "['BED', 'CHAIR', 'STOOL', 'TABLE']\n",
            "['BED', 'CHAIR', 'STOOL', 'TABLE']\n"
          ]
        }
      ]
    },
    {
      "cell_type": "code",
      "source": [
        "FUR[1]"
      ],
      "metadata": {
        "colab": {
          "base_uri": "https://localhost:8080/",
          "height": 35
        },
        "id": "BlcsSt4LA8xD",
        "outputId": "6ea5a470-0088-443f-831f-169619ad3549"
      },
      "execution_count": 21,
      "outputs": [
        {
          "output_type": "execute_result",
          "data": {
            "text/plain": [
              "'CHAIR'"
            ],
            "application/vnd.google.colaboratory.intrinsic+json": {
              "type": "string"
            }
          },
          "metadata": {},
          "execution_count": 21
        }
      ]
    },
    {
      "cell_type": "markdown",
      "source": [
        "# **LIST SLICING:**\n",
        "List slicing in Python allows you to extract a portion of a list by specifying a range of indices. The general syntax for list slicing is:\n",
        "\n",
        "list[start:stop:step]\n",
        "* start: The index where the slice begins (inclusive). If omitted, it defaults to the beginning of the list.\n",
        "\n",
        "* stop: The index where the slice ends (exclusive). If omitted, it defaults to the end of the list.\n",
        "\n",
        "* step: The step size, which determines how many items to skip between indices. If omitted, it defaults to 1."
      ],
      "metadata": {
        "id": "5ruXzW5zA9uT"
      }
    },
    {
      "cell_type": "code",
      "source": [
        "#example 1\n",
        "numbers = [1, 2, 3, 4, 5, 6, 7, 8, 9]\n",
        "\n",
        "# Extracting a slice from index 2 to 5 (exclusive)\n",
        "slice1 = numbers[2:6]\n",
        "print(slice1)"
      ],
      "metadata": {
        "colab": {
          "base_uri": "https://localhost:8080/"
        },
        "id": "nkyMNCswBOXB",
        "outputId": "aa1b38a4-e183-4925-ae94-83b3eb20b699"
      },
      "execution_count": 22,
      "outputs": [
        {
          "output_type": "stream",
          "name": "stdout",
          "text": [
            "[3, 4, 5, 6]\n"
          ]
        }
      ]
    },
    {
      "cell_type": "code",
      "source": [
        "#Example 2: Omitting start and stop\n",
        "# Omitting start, defaults to the beginning of the list\n",
        "slice2 = numbers[:4]\n",
        "print(slice2)\n",
        "\n",
        "# Omitting stop, defaults to the end of the list\n",
        "slice3 = numbers[5:]\n",
        "print(slice3)"
      ],
      "metadata": {
        "colab": {
          "base_uri": "https://localhost:8080/"
        },
        "id": "64aaw6zoBQ8K",
        "outputId": "9f101363-1b5e-4c25-d55d-aec2b4a61c72"
      },
      "execution_count": 23,
      "outputs": [
        {
          "output_type": "stream",
          "name": "stdout",
          "text": [
            "[1, 2, 3, 4]\n",
            "[6, 7, 8, 9]\n"
          ]
        }
      ]
    },
    {
      "cell_type": "code",
      "source": [
        "#Example 3: Using a Negative Index\n",
        "# Negative index, counts from the end of the list\n",
        "slice4 = numbers[-5:]\n",
        "print(slice4)\n",
        "\n",
        "slice5 = numbers[:-3]\n",
        "print(slice5)"
      ],
      "metadata": {
        "colab": {
          "base_uri": "https://localhost:8080/"
        },
        "id": "m2YJt2HNBQ4m",
        "outputId": "0b91490e-c5e9-4fbe-f5a2-08cff293e779"
      },
      "execution_count": 24,
      "outputs": [
        {
          "output_type": "stream",
          "name": "stdout",
          "text": [
            "[5, 6, 7, 8, 9]\n",
            "[1, 2, 3, 4, 5, 6]\n"
          ]
        }
      ]
    },
    {
      "cell_type": "code",
      "source": [
        "#Example 4: Step Parameter\n",
        "\n",
        "# Using step to get every second item\n",
        "slice6 = numbers[::2]\n",
        "print(slice6)\n",
        "# Using step to get every third item\n",
        "slice7 = numbers[1::3]\n",
        "print(slice7)"
      ],
      "metadata": {
        "colab": {
          "base_uri": "https://localhost:8080/"
        },
        "id": "xdnDuv_mBYJV",
        "outputId": "2b9185cd-0cda-4102-d302-2c5e483dbfe7"
      },
      "execution_count": 25,
      "outputs": [
        {
          "output_type": "stream",
          "name": "stdout",
          "text": [
            "[1, 3, 5, 7, 9]\n",
            "[2, 5, 8]\n"
          ]
        }
      ]
    },
    {
      "cell_type": "code",
      "source": [
        "#Example 5: Negative Step\n",
        "\n",
        "# Using negative step to reverse the list\n",
        "slice8 = numbers[::-1]\n",
        "print(slice8)\n",
        "\n",
        "# Using negative step to get every second item in reverse\n",
        "slice9 = numbers[8:2:-2]\n",
        "print(slice9)"
      ],
      "metadata": {
        "colab": {
          "base_uri": "https://localhost:8080/"
        },
        "id": "4E6Tr2wzBYGB",
        "outputId": "20ff8f58-d2a9-42c8-dc3d-336bb6a22b15"
      },
      "execution_count": 26,
      "outputs": [
        {
          "output_type": "stream",
          "name": "stdout",
          "text": [
            "[9, 8, 7, 6, 5, 4, 3, 2, 1]\n",
            "[9, 7, 5]\n"
          ]
        }
      ]
    },
    {
      "cell_type": "code",
      "source": [
        "#Example 6: Advanced Slicing\n",
        "# Extracting a middle portion with a step\n",
        "slice10 = numbers[2:8:2]\n",
        "print(slice10)\n"
      ],
      "metadata": {
        "colab": {
          "base_uri": "https://localhost:8080/"
        },
        "id": "SatIWwWjBfUo",
        "outputId": "0b2df7d6-b6de-44e4-809e-ec1b1e1a0b05"
      },
      "execution_count": 27,
      "outputs": [
        {
          "output_type": "stream",
          "name": "stdout",
          "text": [
            "[3, 5, 7]\n"
          ]
        }
      ]
    },
    {
      "cell_type": "code",
      "source": [
        "#Example 7: Slicing with an Empty Result\n",
        "# When the start index is greater than or equal to the stop index\n",
        "slice11 = numbers[5:2]\n",
        "print(slice11)\n",
        "\n",
        "# When the step is negative but start is less than stop\n",
        "slice12 = numbers[2:5:-1]\n",
        "print(slice12)"
      ],
      "metadata": {
        "colab": {
          "base_uri": "https://localhost:8080/"
        },
        "id": "hyftJ-CRBizh",
        "outputId": "a47f4142-ebd3-446e-ee6b-6724c92f407d"
      },
      "execution_count": 28,
      "outputs": [
        {
          "output_type": "stream",
          "name": "stdout",
          "text": [
            "[]\n",
            "[]\n"
          ]
        }
      ]
    },
    {
      "cell_type": "markdown",
      "source": [
        "# **PRACTICE QUESTIONS**"
      ],
      "metadata": {
        "id": "WQLCXtmpBK54"
      }
    },
    {
      "cell_type": "markdown",
      "source": [
        "1. colors = ['red', 'blue', 'green', 'yellow'] Using the colors list defined above, print the: First element, Second element, Last element, Second-to-last element, Second and third elements, Element at index 4."
      ],
      "metadata": {
        "id": "jHwHgQWvB1NH"
      }
    },
    {
      "cell_type": "code",
      "source": [
        "colors = ['red', 'blue', 'green', 'yellow']\n",
        "print(colors[0])\n",
        "print(colors[1])\n",
        "print(colors[-1])\n",
        "print(colors[-2])\n",
        "print(colors[1:3])\n",
        "try:\n",
        "    print(\"Element at index 4:\", colors[4])\n",
        "except IndexError:\n",
        "    print(\"Element at index 4: IndexError - Index out of range\")"
      ],
      "metadata": {
        "colab": {
          "base_uri": "https://localhost:8080/"
        },
        "id": "56bdwN2JBwCf",
        "outputId": "89c46aec-1779-4261-db18-37941112d527"
      },
      "execution_count": 29,
      "outputs": [
        {
          "output_type": "stream",
          "name": "stdout",
          "text": [
            "red\n",
            "blue\n",
            "yellow\n",
            "green\n",
            "['blue', 'green']\n",
            "Element at index 4: IndexError - Index out of range\n"
          ]
        }
      ]
    },
    {
      "cell_type": "markdown",
      "source": [
        "2. Below is a list with seven integer values representing the daily water level (in cm) in an imaginary lake. However, there is a mistake in the data. The third day’s water level should be 693. Correct the mistake and print the changed list.\n"
      ],
      "metadata": {
        "id": "lvNzjWEyCBfh"
      }
    },
    {
      "cell_type": "code",
      "source": [
        "water_level = [730, 709, 682, 712, 733, 751, 740]\n",
        "water_level[2] = 693\n",
        "print(water_level)"
      ],
      "metadata": {
        "colab": {
          "base_uri": "https://localhost:8080/"
        },
        "id": "rPjMNz38B3oM",
        "outputId": "0135fc6f-6937-4a98-fe46-1585f4ea0389"
      },
      "execution_count": 30,
      "outputs": [
        {
          "output_type": "stream",
          "name": "stdout",
          "text": [
            "[730, 709, 693, 712, 733, 751, 740]\n"
          ]
        }
      ]
    },
    {
      "cell_type": "markdown",
      "source": [
        "3. Add the data for the eighth day to the list from above. The water level was 772 cm on that day. Print the list contents afterwards.\n"
      ],
      "metadata": {
        "id": "oLhwlfmfCH9Y"
      }
    },
    {
      "cell_type": "code",
      "source": [
        "water_level = [730, 709, 693, 712, 733, 751, 740]\n",
        "water_level.append(772)\n",
        "print( water_level)"
      ],
      "metadata": {
        "colab": {
          "base_uri": "https://localhost:8080/"
        },
        "id": "5R_-GagECDSi",
        "outputId": "ba995666-0b01-41c6-eb69-a74039882daf"
      },
      "execution_count": 31,
      "outputs": [
        {
          "output_type": "stream",
          "name": "stdout",
          "text": [
            "[730, 709, 693, 712, 733, 751, 740, 772]\n"
          ]
        }
      ]
    },
    {
      "cell_type": "markdown",
      "source": [
        "4. Still using the same list, add three consecutive days using a single instruction. The water levels on the 9th through 11th days were 772 cm, 770 cm, and 745 cm. Add these values and then print the whole list.\n"
      ],
      "metadata": {
        "id": "Iq7odoqnCSDa"
      }
    },
    {
      "cell_type": "code",
      "source": [
        "water_level = [730, 709, 693, 712, 733, 751, 740, 772]\n",
        "water_level.extend([772, 770, 745])\n",
        "print( water_level)"
      ],
      "metadata": {
        "colab": {
          "base_uri": "https://localhost:8080/"
        },
        "id": "9oyB_AWQCKi0",
        "outputId": "6d63a84c-90d2-4d5d-fac8-1f75903a43d3"
      },
      "execution_count": 32,
      "outputs": [
        {
          "output_type": "stream",
          "name": "stdout",
          "text": [
            "[730, 709, 693, 712, 733, 751, 740, 772, 772, 770, 745]\n"
          ]
        }
      ]
    },
    {
      "cell_type": "markdown",
      "source": [
        "5. There are two ways to delete data from a list: by using the index or by using the value. Start with the original water_level list we defined in the second exercise and delete the first element using its index. Then define the list again and delete the first element using its value.\n",
        "\n",
        "* delete by index"
      ],
      "metadata": {
        "id": "m5c5-vPZCcez"
      }
    },
    {
      "cell_type": "code",
      "source": [
        "water_level = [730, 709, 693, 712, 733, 751, 740]\n",
        "del water_level[0]\n",
        "print(water_level)"
      ],
      "metadata": {
        "colab": {
          "base_uri": "https://localhost:8080/"
        },
        "id": "cUK21mInCXOY",
        "outputId": "decaef4c-52d7-4c2b-e955-00b7c08c378f"
      },
      "execution_count": 33,
      "outputs": [
        {
          "output_type": "stream",
          "name": "stdout",
          "text": [
            "[709, 693, 712, 733, 751, 740]\n"
          ]
        }
      ]
    },
    {
      "cell_type": "markdown",
      "source": [
        "* delete by value"
      ],
      "metadata": {
        "id": "SyKYycdRCjFf"
      }
    },
    {
      "cell_type": "code",
      "source": [
        "water_level = [730, 709, 693, 712, 733, 751, 740]\n",
        "water_level.remove(730)\n",
        "print(water_level)"
      ],
      "metadata": {
        "id": "3xjQWfMaCu67",
        "outputId": "a59458ba-b7d3-4b92-9046-da2c30af2b80",
        "colab": {
          "base_uri": "https://localhost:8080/"
        }
      },
      "execution_count": 34,
      "outputs": [
        {
          "output_type": "stream",
          "name": "stdout",
          "text": [
            "[709, 693, 712, 733, 751, 740]\n"
          ]
        }
      ]
    }
  ]
}