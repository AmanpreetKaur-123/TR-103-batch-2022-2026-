{
  "nbformat": 4,
  "nbformat_minor": 0,
  "metadata": {
    "colab": {
      "provenance": [],
      "authorship_tag": "ABX9TyMDuB6dn6FVe6k9iHFIBrsR",
      "include_colab_link": true
    },
    "kernelspec": {
      "name": "python3",
      "display_name": "Python 3"
    },
    "language_info": {
      "name": "python"
    }
  },
  "cells": [
    {
      "cell_type": "markdown",
      "metadata": {
        "id": "view-in-github",
        "colab_type": "text"
      },
      "source": [
        "<a href=\"https://colab.research.google.com/github/AmanpreetKaur-123/TR-103-batch-2022-2026-/blob/main/Sets(30_6_2025).ipynb\" target=\"_parent\"><img src=\"https://colab.research.google.com/assets/colab-badge.svg\" alt=\"Open In Colab\"/></a>"
      ]
    },
    {
      "cell_type": "markdown",
      "source": [
        "**DATE : 30.6.2025**"
      ],
      "metadata": {
        "id": "jxNYjGuayvkF"
      }
    },
    {
      "cell_type": "markdown",
      "source": [
        "# **TOPIC : SETS**"
      ],
      "metadata": {
        "id": "f0z7QwlKywzN"
      }
    },
    {
      "cell_type": "markdown",
      "source": [
        "A Set in Python is used to store a collection of items with the following properties.\n",
        "\n",
        "* No duplicate elements. If try to insert the same item again, it overwrites previous one.\n",
        "* An unordered collection. When we access all items, they are accessed without any specific order and we cannot access items using indexes as we do in lists.\n",
        "* Internally use hashing that makes set efficient for search, insert and delete operations. It gives a major advantage over a list for problems with these operations.\n",
        "* Mutable, meaning we can add or remove elements after their creation, the individual elements within the set cannot be changed directly."
      ],
      "metadata": {
        "id": "l-BbWcAIywDW"
      }
    },
    {
      "cell_type": "markdown",
      "source": [
        "***SETS CHARACTERISTICS*** sets are unordered sets are immutable"
      ],
      "metadata": {
        "id": "4YCoslHxzJ1I"
      }
    },
    {
      "cell_type": "markdown",
      "source": [
        "we can change the value in sets"
      ],
      "metadata": {
        "id": "aoqwNPe6zMpQ"
      }
    },
    {
      "cell_type": "code",
      "source": [
        "#Show we delcare a set:\n",
        "a={1,2,3,4,5,6}\n",
        "print(a)"
      ],
      "metadata": {
        "colab": {
          "base_uri": "https://localhost:8080/"
        },
        "id": "1ULLOL1OzdvG",
        "outputId": "31d165a3-92e8-46d2-91e3-26345d82da09"
      },
      "execution_count": 1,
      "outputs": [
        {
          "output_type": "stream",
          "name": "stdout",
          "text": [
            "{1, 2, 3, 4, 5, 6}\n"
          ]
        }
      ]
    },
    {
      "cell_type": "code",
      "source": [
        "#Operation in sets:\n",
        "a={1,2,3,4,5}\n",
        "b={10,20,30,40,50}\n",
        "print(a.union(b) ) #also use (a + b)"
      ],
      "metadata": {
        "colab": {
          "base_uri": "https://localhost:8080/"
        },
        "id": "uYvHGHOdzhbc",
        "outputId": "aa52f014-86fb-4d5a-a957-166514b1678c"
      },
      "execution_count": 2,
      "outputs": [
        {
          "output_type": "stream",
          "name": "stdout",
          "text": [
            "{1, 2, 3, 4, 5, 40, 10, 50, 20, 30}\n"
          ]
        }
      ]
    },
    {
      "cell_type": "code",
      "source": [
        "#Intersection : prints the commom values in both the sets\n",
        "a={1,2,3,4,5}\n",
        "b={10,20,1,4,50}\n",
        "print(a.intersection(b))"
      ],
      "metadata": {
        "colab": {
          "base_uri": "https://localhost:8080/"
        },
        "id": "Mb3ghofLzkjU",
        "outputId": "c27b16e0-a046-4b5f-cc76-77d301b434ae"
      },
      "execution_count": 3,
      "outputs": [
        {
          "output_type": "stream",
          "name": "stdout",
          "text": [
            "{1, 4}\n"
          ]
        }
      ]
    },
    {
      "cell_type": "code",
      "source": [
        "# Difference\n",
        "a={1,2,3,4,5}\n",
        "b={10,20,1,4,50}\n",
        "print(a.difference(b))\n",
        "print(b.difference(a))#(a-b)"
      ],
      "metadata": {
        "colab": {
          "base_uri": "https://localhost:8080/"
        },
        "id": "rd6AZ0oIznUp",
        "outputId": "69453791-c2e3-4747-928f-c2bbafb0f38e"
      },
      "execution_count": 4,
      "outputs": [
        {
          "output_type": "stream",
          "name": "stdout",
          "text": [
            "{2, 3, 5}\n",
            "{50, 10, 20}\n"
          ]
        }
      ]
    },
    {
      "cell_type": "code",
      "source": [
        "# Symmetric difference\n",
        "a={1,2,3,4,5}\n",
        "b={10,20,1,4,50}\n",
        "print(a.symmetric_difference(b))"
      ],
      "metadata": {
        "colab": {
          "base_uri": "https://localhost:8080/"
        },
        "id": "dQlgiAOpzqFY",
        "outputId": "07e3a53a-5b8e-426f-ff90-03449b1b5e9a"
      },
      "execution_count": 5,
      "outputs": [
        {
          "output_type": "stream",
          "name": "stdout",
          "text": [
            "{50, 2, 20, 3, 5, 10}\n"
          ]
        }
      ]
    },
    {
      "cell_type": "code",
      "source": [
        "# Comparsion\n",
        "a={1,2,3,10}\n",
        "b={20,23}\n",
        "print(a>b)\n",
        "print(a<b)\n",
        "print(a==b)\n",
        "a={1,2}\n",
        "b={1,2,3}\n",
        "print(a>b)\n",
        "print(a<b)\n",
        "print(a==b)\n",
        "{1,2}<={1,2,3}\n",
        "# how to create an empty set:\n",
        "a={}\n",
        "a=set()\n",
        "print(a)"
      ],
      "metadata": {
        "colab": {
          "base_uri": "https://localhost:8080/"
        },
        "id": "B3Edh2I1zvBU",
        "outputId": "033fa833-886e-4133-ece5-a7017018234b"
      },
      "execution_count": 6,
      "outputs": [
        {
          "output_type": "stream",
          "name": "stdout",
          "text": [
            "False\n",
            "False\n",
            "False\n",
            "False\n",
            "True\n",
            "False\n",
            "set()\n"
          ]
        }
      ]
    },
    {
      "cell_type": "code",
      "source": [
        "# In keyword or not in :\n",
        "set1 = {1,2,3,4,5}\n",
        "print(1 in set1)\n",
        "print( 1 not in set1)"
      ],
      "metadata": {
        "colab": {
          "base_uri": "https://localhost:8080/"
        },
        "id": "dyixnFB7zzGY",
        "outputId": "2ef9f524-a932-4d12-de95-e3553c727965"
      },
      "execution_count": 7,
      "outputs": [
        {
          "output_type": "stream",
          "name": "stdout",
          "text": [
            "True\n",
            "False\n"
          ]
        }
      ]
    },
    {
      "cell_type": "code",
      "source": [
        "#operation in sets:\n",
        "#add()\n",
        "s={1,2,3,4,5}\n",
        "s.add(6)\n",
        "s.add(\"hi\")\n",
        "print(s)"
      ],
      "metadata": {
        "colab": {
          "base_uri": "https://localhost:8080/"
        },
        "id": "vErJBQF2z1u8",
        "outputId": "adf116a9-9f94-4319-daff-abd1ca4945a3"
      },
      "execution_count": 8,
      "outputs": [
        {
          "output_type": "stream",
          "name": "stdout",
          "text": [
            "{1, 2, 3, 4, 5, 6, 'hi'}\n"
          ]
        }
      ]
    },
    {
      "cell_type": "code",
      "source": [
        "# removing an element from a set:\n",
        "s={1,2,3,4,5}\n",
        "s.remove(4)# for delete muliple value we can use 3,4,5\n",
        "print(s)"
      ],
      "metadata": {
        "colab": {
          "base_uri": "https://localhost:8080/"
        },
        "id": "zeBw7McOz50-",
        "outputId": "34d84811-ae85-46e6-ab82-7a79e5a43f0d"
      },
      "execution_count": 9,
      "outputs": [
        {
          "output_type": "stream",
          "name": "stdout",
          "text": [
            "{1, 2, 3, 5}\n"
          ]
        }
      ]
    },
    {
      "cell_type": "code",
      "source": [
        "# sets do not hold duplicate values\n",
        "s={1,2,3,4,5,1,2}\n",
        "print(s)\n",
        "\n",
        "# Example-2\n",
        "Names={\"aman\",\"aman\",\"deep\",\"jot\"}\n",
        "print(Names)"
      ],
      "metadata": {
        "colab": {
          "base_uri": "https://localhost:8080/"
        },
        "id": "KNh_zEV8z62c",
        "outputId": "cd8318fa-d046-4bfe-cb76-a3be7112fdde"
      },
      "execution_count": 10,
      "outputs": [
        {
          "output_type": "stream",
          "name": "stdout",
          "text": [
            "{1, 2, 3, 4, 5}\n",
            "{'aman', 'deep', 'jot'}\n"
          ]
        }
      ]
    },
    {
      "cell_type": "markdown",
      "source": [
        "# **Practice Question:**"
      ],
      "metadata": {
        "id": "7krmAsYlz_52"
      }
    },
    {
      "cell_type": "markdown",
      "source": [
        "1. Create a set with the first five prime numbers."
      ],
      "metadata": {
        "id": "58cMf8Ic0Bln"
      }
    },
    {
      "cell_type": "code",
      "source": [
        "prime_numbers = {2, 3, 5, 7, 11}\n",
        "print(prime_numbers)"
      ],
      "metadata": {
        "colab": {
          "base_uri": "https://localhost:8080/"
        },
        "id": "EaC6blNB0Ee4",
        "outputId": "6aed74be-7a12-42ec-dce5-db4cd4a4ae85"
      },
      "execution_count": 11,
      "outputs": [
        {
          "output_type": "stream",
          "name": "stdout",
          "text": [
            "{2, 3, 5, 7, 11}\n"
          ]
        }
      ]
    },
    {
      "cell_type": "markdown",
      "source": [
        "2. Add the number 7 to the set."
      ],
      "metadata": {
        "id": "Ohc5Qk7R0Hhz"
      }
    },
    {
      "cell_type": "code",
      "source": [
        "my_set = {1,2,3,4,5}\n",
        "my_set.add(7)\n",
        "print(my_set)"
      ],
      "metadata": {
        "colab": {
          "base_uri": "https://localhost:8080/"
        },
        "id": "xCAJbVLx0Kv5",
        "outputId": "0c3db2da-be39-49c2-82b2-d21c6b9ec87e"
      },
      "execution_count": 12,
      "outputs": [
        {
          "output_type": "stream",
          "name": "stdout",
          "text": [
            "{1, 2, 3, 4, 5, 7}\n"
          ]
        }
      ]
    },
    {
      "cell_type": "markdown",
      "source": [
        "3. Remove the number 3 from the set."
      ],
      "metadata": {
        "id": "6kL1mOtY0Qql"
      }
    },
    {
      "cell_type": "code",
      "source": [
        "my_set = {1,2,3,4,5}\n",
        "my_set.remove(3)\n",
        "print(my_set)"
      ],
      "metadata": {
        "colab": {
          "base_uri": "https://localhost:8080/"
        },
        "id": "XOIkLSTx0R4_",
        "outputId": "46242064-bbca-457f-836c-c61d9a95a6e4"
      },
      "execution_count": 13,
      "outputs": [
        {
          "output_type": "stream",
          "name": "stdout",
          "text": [
            "{1, 2, 4, 5}\n"
          ]
        }
      ]
    },
    {
      "cell_type": "markdown",
      "source": [
        "4. Check if the set is a subset of {2, 3, 5, 7, 11}."
      ],
      "metadata": {
        "id": "HHMUXgBn0ViD"
      }
    },
    {
      "cell_type": "code",
      "source": [
        "prime_numbers = {2, 3, 5, 7, 11}\n",
        "main_set = {2, 3, 5, 7, 11}\n",
        "is_subset = prime_numbers.issubset(main_set)\n",
        "print(is_subset)"
      ],
      "metadata": {
        "colab": {
          "base_uri": "https://localhost:8080/"
        },
        "id": "qF7b0Bwd0Ysx",
        "outputId": "4187ace8-4790-400a-aed6-203ce43f5ab9"
      },
      "execution_count": 14,
      "outputs": [
        {
          "output_type": "stream",
          "name": "stdout",
          "text": [
            "True\n"
          ]
        }
      ]
    },
    {
      "cell_type": "markdown",
      "source": [
        "5. Find the union of the set with {7, 11, 13}."
      ],
      "metadata": {
        "id": "Y6LNkhpC0cbU"
      }
    },
    {
      "cell_type": "code",
      "source": [
        "original_set = {2, 3, 5, 7}\n",
        "union_set = original_set.union({7, 11, 13})\n",
        "print(\"Union:\", union_set)\n"
      ],
      "metadata": {
        "colab": {
          "base_uri": "https://localhost:8080/"
        },
        "id": "Hrcy-Mf50gXl",
        "outputId": "67c2c444-9066-4f10-a058-8ae01431b52e"
      },
      "execution_count": 15,
      "outputs": [
        {
          "output_type": "stream",
          "name": "stdout",
          "text": [
            "Union: {2, 3, 5, 7, 11, 13}\n"
          ]
        }
      ]
    },
    {
      "cell_type": "markdown",
      "source": [
        "6. Create a frozen set from the original set."
      ],
      "metadata": {
        "id": "UvY0ObXU0iyx"
      }
    },
    {
      "cell_type": "code",
      "source": [
        "frozen = frozenset(original_set)\n",
        "print(\"Frozen set:\", frozen)\n"
      ],
      "metadata": {
        "colab": {
          "base_uri": "https://localhost:8080/"
        },
        "id": "XFx8HzNv0oU4",
        "outputId": "26f3b9e2-073c-4954-fe81-13540a2ae030"
      },
      "execution_count": 16,
      "outputs": [
        {
          "output_type": "stream",
          "name": "stdout",
          "text": [
            "Frozen set: frozenset({2, 3, 5, 7})\n"
          ]
        }
      ]
    },
    {
      "cell_type": "markdown",
      "source": [
        "7. Check if the set has any common elements with {1, 4, 9}."
      ],
      "metadata": {
        "id": "qmSMi0H80nu0"
      }
    },
    {
      "cell_type": "code",
      "source": [
        "has_common = not original_set.isdisjoint({1, 4, 9})\n",
        "print(\"Has common elements with {1, 4, 9}:\", has_common)"
      ],
      "metadata": {
        "colab": {
          "base_uri": "https://localhost:8080/"
        },
        "id": "ReqilLl90u9v",
        "outputId": "61fdc7c5-f411-49b1-d92b-4afa33304e4e"
      },
      "execution_count": 17,
      "outputs": [
        {
          "output_type": "stream",
          "name": "stdout",
          "text": [
            "Has common elements with {1, 4, 9}: False\n"
          ]
        }
      ]
    },
    {
      "cell_type": "markdown",
      "source": [
        "8. Remove all elements from the set."
      ],
      "metadata": {
        "id": "E0M2iiD_0xOV"
      }
    },
    {
      "cell_type": "code",
      "source": [
        "original_set.clear()\n",
        "print(\"After clearing:\", original_set)\n"
      ],
      "metadata": {
        "colab": {
          "base_uri": "https://localhost:8080/"
        },
        "id": "5NKtir6u00c4",
        "outputId": "dca80d88-5ab4-4070-a2b4-05b3cffe7975"
      },
      "execution_count": 18,
      "outputs": [
        {
          "output_type": "stream",
          "name": "stdout",
          "text": [
            "After clearing: set()\n"
          ]
        }
      ]
    },
    {
      "cell_type": "markdown",
      "source": [
        "9. Create a set of your favorite fruits and find the intersection with { 'apple', 'banana', 'orange' }."
      ],
      "metadata": {
        "id": "BIM_cu0h08Xg"
      }
    },
    {
      "cell_type": "code",
      "source": [
        "my_fruits = {'apple', 'mango', 'grape'}\n",
        "common_fruits = my_fruits.intersection({'apple', 'banana', 'orange'})\n",
        "print(\"Common fruits:\", common_fruits)\n"
      ],
      "metadata": {
        "colab": {
          "base_uri": "https://localhost:8080/"
        },
        "id": "aYc_9kKK1AqA",
        "outputId": "4e0c6107-a207-4e2e-fe26-2336c9373ebb"
      },
      "execution_count": 19,
      "outputs": [
        {
          "output_type": "stream",
          "name": "stdout",
          "text": [
            "Common fruits: {'apple'}\n"
          ]
        }
      ]
    },
    {
      "cell_type": "markdown",
      "source": [
        "10. Use set comprehension to create a set of squares for numbers 1 to 10."
      ],
      "metadata": {
        "id": "cQDWskdz06i5"
      }
    },
    {
      "cell_type": "code",
      "source": [
        "squares = {x**2 for x in range(1, 11)}\n",
        "print(\"Squares from 1 to 10:\", squares)"
      ],
      "metadata": {
        "colab": {
          "base_uri": "https://localhost:8080/"
        },
        "id": "uqfW7X0h1DIP",
        "outputId": "b0ed0978-d495-401b-e585-8bc1ba972a27"
      },
      "execution_count": 20,
      "outputs": [
        {
          "output_type": "stream",
          "name": "stdout",
          "text": [
            "Squares from 1 to 10: {64, 1, 4, 36, 100, 9, 16, 49, 81, 25}\n"
          ]
        }
      ]
    }
  ]
}