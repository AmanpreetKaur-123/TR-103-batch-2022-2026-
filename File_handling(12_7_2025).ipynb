{
  "cells": [
    {
      "cell_type": "markdown",
      "metadata": {
        "id": "view-in-github",
        "colab_type": "text"
      },
      "source": [
        "<a href=\"https://colab.research.google.com/github/AmanpreetKaur-123/TR-103-batch-2022-2026-/blob/main/File_handling(12_7_2025).ipynb\" target=\"_parent\"><img src=\"https://colab.research.google.com/assets/colab-badge.svg\" alt=\"Open In Colab\"/></a>"
      ]
    },
    {
      "cell_type": "markdown",
      "metadata": {
        "id": "w9iHIGby85Gw"
      },
      "source": [
        "# File Handling"
      ]
    },
    {
      "cell_type": "markdown",
      "metadata": {
        "id": "kOpy9Z6FKG_B"
      },
      "source": [
        "\n",
        "\n",
        "## 📁 File Handling in Python – Complete Notes\n",
        "\n",
        "---\n",
        "\n",
        "## 🔸 What is File Handling?\n",
        "\n",
        "File handling allows you to **read**, **write**, **append**, and **modify** files stored on your system using Python. It is a crucial skill for data processing, logging, and more.\n",
        "\n",
        "---\n",
        "\n",
        "## 🔹 Why Use File Handling?\n",
        "\n",
        "- To **store data persistently**\n",
        "- For **reading configuration files**\n",
        "- For **data analysis** from logs or datasets\n",
        "- To generate **reports**, **invoices**, etc.\n",
        "\n",
        "---\n",
        "\n",
        "## 🔸 Opening a File\n",
        "\n",
        "```python\n",
        "file = open(\"filename.txt\", \"mode\")\n",
        "```\n",
        "\n",
        "### Common Modes:\n",
        "\n",
        "| Mode | Description                       |\n",
        "|------|-----------------------------------|\n",
        "| `'r'`  | Read (default). File must exist.         |\n",
        "| `'w'`  | Write. Creates new file or truncates.    |\n",
        "| `'a'`  | Append. Adds to end if file exists.      |\n",
        "| `'x'`  | Exclusive creation. Error if exists.     |\n",
        "| `'b'`  | Binary mode (e.g., `'rb'`, `'wb'`)       |\n",
        "| `'t'`  | Text mode (default)                      |\n",
        "| `'r+'` | Read and write                          |\n",
        "| `'w+'` | Write and read                          |\n",
        "| `'a+'` | Append and read                         |\n",
        "\n",
        "---\n",
        "\n",
        "## 🔹 Reading from a File\n",
        "\n",
        "### 1. `read()`\n",
        "\n",
        "```python\n",
        "file = open(\"data.txt\", \"r\")\n",
        "content = file.read()\n",
        "print(content)\n",
        "file.close()\n",
        "```\n",
        "\n",
        "### 2. `readline()` – Reads one line at a time\n",
        "\n",
        "```python\n",
        "file = open(\"data.txt\", \"r\")\n",
        "line1 = file.readline()\n",
        "line2 = file.readline()\n",
        "file.close()\n",
        "```\n",
        "\n",
        "### 3. `readlines()` – Returns list of lines\n",
        "\n",
        "```python\n",
        "file = open(\"data.txt\", \"r\")\n",
        "lines = file.readlines()\n",
        "print(lines)\n",
        "file.close()\n",
        "```\n",
        "\n",
        "---\n",
        "\n",
        "## 🔹 Writing to a File\n",
        "\n",
        "### 1. `write()`\n",
        "\n",
        "```python\n",
        "file = open(\"data.txt\", \"w\")\n",
        "file.write(\"Hello, world!\\n\")\n",
        "file.close()\n",
        "```\n",
        "\n",
        "### 2. `writelines()` – Writes list of strings\n",
        "\n",
        "```python\n",
        "file = open(\"data.txt\", \"w\")\n",
        "file.writelines([\"Line1\\n\", \"Line2\\n\"])\n",
        "file.close()\n",
        "```\n",
        "\n",
        "> 🔥 Note: `'w'` mode **overwrites** the existing file!\n",
        "\n",
        "---\n",
        "\n",
        "## 🔹 Appending to a File\n",
        "\n",
        "```python\n",
        "file = open(\"data.txt\", \"a\")\n",
        "file.write(\"Another line\\n\")\n",
        "file.close()\n",
        "```\n",
        "\n",
        "---\n",
        "\n",
        "## 🔹 Using `with` Statement (Best Practice)\n",
        "\n",
        "The `with` statement automatically closes the file.\n",
        "\n",
        "```python\n",
        "with open(\"data.txt\", \"r\") as file:\n",
        "    data = file.read()\n",
        "    print(data)\n",
        "```\n",
        "\n",
        "✅ No need to use `file.close()` – it's done automatically.\n",
        "\n",
        "---\n",
        "\n",
        "## 🔹 File Methods\n",
        "\n",
        "| Method             | Description                        |\n",
        "|-------------------|------------------------------------|\n",
        "| `read(size)`      | Reads up to `size` bytes           |\n",
        "| `readline()`      | Reads a single line                |\n",
        "| `readlines()`     | Reads all lines into a list        |\n",
        "| `write(str)`      | Writes string to file              |\n",
        "| `writelines(list)`| Writes a list of strings           |\n",
        "| `seek(offset)`    | Moves file pointer to given offset |\n",
        "| `tell()`          | Returns current position of pointer|\n",
        "| `close()`         | Closes the file                    |\n",
        "\n",
        "---\n",
        "\n",
        "## 🔸 File Pointer Methods\n",
        "\n",
        "### `tell()` – Shows the current file position\n",
        "\n",
        "```python\n",
        "with open(\"data.txt\", \"r\") as f:\n",
        "    print(f.tell())  # 0 at beginning\n",
        "    f.read(5)\n",
        "    print(f.tell())  # 5 after reading 5 chars\n",
        "```\n",
        "\n",
        "### `seek()` – Move the file pointer\n",
        "\n",
        "```python\n",
        "with open(\"data.txt\", \"r\") as f:\n",
        "    f.seek(7)\n",
        "    print(f.read())  # Starts reading from 8th character\n",
        "```\n",
        "\n",
        "---\n",
        "\n",
        "\n",
        "---\n",
        "\n",
        "## ✅ Summary: Best Practices\n",
        "\n",
        "- Always use `with open()` to ensure file is closed\n",
        "- Check file existence using `os.path.exists()`\n",
        "- Use appropriate file modes (`r`, `w`, `a`, etc.)\n",
        "- Handle exceptions using `try-except`\n",
        "- Use `seek()` and `tell()` to manage file pointer if needed\n",
        "\n",
        "---\n",
        "\n"
      ]
    },
    {
      "cell_type": "code",
      "execution_count": null,
      "metadata": {
        "colab": {
          "base_uri": "https://localhost:8080/"
        },
        "id": "Gugs7WlKJc8a",
        "outputId": "8924bafd-53d5-4df8-9bfd-854a8b00d428"
      },
      "outputs": [
        {
          "name": "stdout",
          "output_type": "stream",
          "text": [
            "Hello world\n",
            "This is sample file\n",
            "used for testing\n",
            "hi\n"
          ]
        }
      ],
      "source": [
        "f = open('file.txt', 'r')\n",
        "\n",
        "print(f.read())"
      ]
    },
    {
      "cell_type": "code",
      "execution_count": null,
      "metadata": {
        "colab": {
          "base_uri": "https://localhost:8080/"
        },
        "id": "TAohkf-89YaT",
        "outputId": "504420be-5ea3-4dfe-bd56-0ae9bbdae366"
      },
      "outputs": [
        {
          "name": "stdout",
          "output_type": "stream",
          "text": [
            "hello\n",
            "This is\n",
            "a sample text\n"
          ]
        }
      ],
      "source": [
        "f = open('/content/file.txt', 'r')\n",
        "\n",
        "\n",
        "content = f.read()\n",
        "\n",
        "print(content)"
      ]
    },
    {
      "cell_type": "code",
      "execution_count": null,
      "metadata": {
        "colab": {
          "base_uri": "https://localhost:8080/"
        },
        "id": "H2m_9o7d37eB",
        "outputId": "e07643a5-964a-44ef-f6c5-dbab0e67107d"
      },
      "outputs": [
        {
          "name": "stdout",
          "output_type": "stream",
          "text": [
            "Hello world\n",
            "\n",
            "This is sample file\n",
            "\n"
          ]
        }
      ],
      "source": [
        "f = open('/content/file.txt', 'r')\n",
        "\n",
        "line1 = f.readline()\n",
        "line2 = f.readline()\n",
        "\n",
        "print(line1)\n",
        "print(line2)"
      ]
    },
    {
      "cell_type": "code",
      "execution_count": null,
      "metadata": {
        "colab": {
          "base_uri": "https://localhost:8080/"
        },
        "id": "xzCrcaw84Emp",
        "outputId": "4ede25de-6461-4c5f-8b0b-52e430599314"
      },
      "outputs": [
        {
          "name": "stdout",
          "output_type": "stream",
          "text": [
            "['Hello world\\n', 'This is sample file\\n', 'used for testing\\n', 'hi']\n"
          ]
        }
      ],
      "source": [
        "f = open('/content/file.txt', 'r')\n",
        "\n",
        "lines = f.readlines()\n",
        "\n",
        "print(lines)\n",
        "\n",
        "f.close()"
      ]
    },
    {
      "cell_type": "code",
      "execution_count": null,
      "metadata": {
        "id": "VrabETUf4hDY"
      },
      "outputs": [],
      "source": [
        "file = open(\"file.txt\", \"w\")\n",
        "file.write(\"Hello, world!\\n\")\n",
        "file.close()"
      ]
    },
    {
      "cell_type": "code",
      "execution_count": null,
      "metadata": {
        "id": "9IwUIpaT4ysm"
      },
      "outputs": [],
      "source": [
        "file = open(\"data.txt\", \"w\")\n",
        "file.writelines([\"This is\", \"second line\", 'Third line'])\n",
        "file.close()"
      ]
    },
    {
      "cell_type": "code",
      "execution_count": null,
      "metadata": {
        "id": "YZr0lzeT48mA"
      },
      "outputs": [],
      "source": [
        "file = open(\"data.txt\", \"a\")\n",
        "file.writelines([\"This is\\n\", \"a new line\\n\"])\n",
        "file.close()"
      ]
    },
    {
      "cell_type": "code",
      "execution_count": null,
      "metadata": {
        "colab": {
          "base_uri": "https://localhost:8080/"
        },
        "id": "l2tVQiHo5WGN",
        "outputId": "0586186c-e967-4bbb-ddc0-5dfbf8206c77"
      },
      "outputs": [
        {
          "name": "stdout",
          "output_type": "stream",
          "text": [
            "This is\n",
            "second line\n",
            "This is\n",
            "a new line\n",
            "This is\n",
            "a new line\n",
            "\n"
          ]
        }
      ],
      "source": [
        "with open('data.txt', 'r') as f:\n",
        "  data = f.read()\n",
        "  print(data)"
      ]
    },
    {
      "cell_type": "code",
      "execution_count": null,
      "metadata": {
        "colab": {
          "base_uri": "https://localhost:8080/"
        },
        "id": "OQmmp3HA58gG",
        "outputId": "610e34b2-758b-45d5-fdc7-e7ddcc2fda71"
      },
      "outputs": [
        {
          "name": "stdout",
          "output_type": "stream",
          "text": [
            "0\n",
            "This \n",
            "5\n"
          ]
        }
      ],
      "source": [
        "with open(\"data.txt\", \"r\") as f:\n",
        "    print(f.tell())  # 0 at beginning\n",
        "    print(f.read(5))\n",
        "    print(f.tell())  # 5 after reading 5 chars"
      ]
    },
    {
      "cell_type": "code",
      "execution_count": null,
      "metadata": {
        "colab": {
          "base_uri": "https://localhost:8080/"
        },
        "id": "ej6jsL4x6CUm",
        "outputId": "c3f3e7e1-d234-4ad5-e460-cb0faa4486ae"
      },
      "outputs": [
        {
          "name": "stdout",
          "output_type": "stream",
          "text": [
            "second lineThird lineThis is\n",
            "a new line\n",
            "\n"
          ]
        }
      ],
      "source": [
        "with open(\"data.txt\", \"r\") as f:\n",
        "    f.seek(7)\n",
        "    print(f.read())"
      ]
    },
    {
      "cell_type": "code",
      "execution_count": null,
      "metadata": {
        "colab": {
          "base_uri": "https://localhost:8080/"
        },
        "id": "A5tVsCCQ6kPD",
        "outputId": "ea7bed9a-305d-43b9-999a-6c78b3e47604"
      },
      "outputs": [
        {
          "name": "stdout",
          "output_type": "stream",
          "text": [
            "Hello\n",
            "This is sample file \n",
            "Used for File Handling\n",
            "Some new content\n"
          ]
        }
      ],
      "source": [
        "file = open(\"File.txt\", 'r')\n",
        "\n",
        "content = file.read()\n",
        "\n",
        "print(content)\n",
        "\n",
        "file.close()"
      ]
    },
    {
      "cell_type": "code",
      "execution_count": null,
      "metadata": {
        "colab": {
          "base_uri": "https://localhost:8080/"
        },
        "id": "YQ2F_Gy5XjFF",
        "outputId": "9eedb81a-0e5e-497d-a016-d0f83414320b"
      },
      "outputs": [
        {
          "name": "stdout",
          "output_type": "stream",
          "text": [
            "Hello\n",
            "\n",
            "This is sample file \n",
            "\n"
          ]
        }
      ],
      "source": [
        "file = open(\"File.txt\", 'r')\n",
        "\n",
        "line1 = file.readline()\n",
        "line2 = file.readline()\n",
        "\n",
        "print(line1)\n",
        "print(line2)\n",
        "\n",
        "file.close()\n"
      ]
    },
    {
      "cell_type": "code",
      "execution_count": null,
      "metadata": {
        "colab": {
          "base_uri": "https://localhost:8080/"
        },
        "id": "fdcKMS5RYNvX",
        "outputId": "096497ac-bd67-4666-e3bf-67d6c398f19e"
      },
      "outputs": [
        {
          "name": "stdout",
          "output_type": "stream",
          "text": [
            "['Hello\\n', 'This is sample file \\n', 'Used for File Handling\\n', 'Some new content\\n', 'abc']\n"
          ]
        }
      ],
      "source": [
        "file = open(\"File.txt\", 'r')\n",
        "\n",
        "lines = file.readlines()\n",
        "\n",
        "\n",
        "print(lines)\n",
        "\n",
        "\n",
        "file.close()\n"
      ]
    },
    {
      "cell_type": "code",
      "execution_count": null,
      "metadata": {
        "id": "RWDL40RdZFGr"
      },
      "outputs": [],
      "source": [
        "f = open(\"File.txt\", 'w')\n",
        "\n",
        "content = [\"Some content added ...\\n\", \"Another line added\\n\", \"One more line..\"]\n",
        "\n",
        "\n",
        "f.writelines(content)\n",
        "\n",
        "f.close()"
      ]
    },
    {
      "cell_type": "code",
      "execution_count": null,
      "metadata": {
        "colab": {
          "base_uri": "https://localhost:8080/"
        },
        "id": "9OK2KOjuZ6Ng",
        "outputId": "032fa196-9505-4ef6-f0a5-ace2c8016903"
      },
      "outputs": [
        {
          "name": "stdout",
          "output_type": "stream",
          "text": [
            "Some content added ...\n",
            "Another line added\n",
            "One more line..\n"
          ]
        }
      ],
      "source": [
        "\n",
        "\n",
        "with open('File.txt', 'r') as f:\n",
        "  data = f.read()\n",
        "  print(data)"
      ]
    },
    {
      "cell_type": "code",
      "execution_count": null,
      "metadata": {
        "colab": {
          "base_uri": "https://localhost:8080/"
        },
        "id": "B9OPoCzSawHj",
        "outputId": "b0e63e3e-e257-49ca-ecab-82312e7cc5a9"
      },
      "outputs": [
        {
          "name": "stdout",
          "output_type": "stream",
          "text": [
            "0\n",
            "Some \n",
            "5\n"
          ]
        }
      ],
      "source": [
        "with open(\"File.txt\", \"r\") as f:\n",
        "    print(f.tell())\n",
        "\n",
        "    print(f.read(5))\n",
        "\n",
        "    print(f.tell())"
      ]
    },
    {
      "cell_type": "code",
      "execution_count": null,
      "metadata": {
        "colab": {
          "base_uri": "https://localhost:8080/"
        },
        "id": "UiTCy6_ebTfD",
        "outputId": "beab947a-3056-41d4-94ec-7b50708217b0"
      },
      "outputs": [
        {
          "name": "stdout",
          "output_type": "stream",
          "text": [
            "ntent added ...\n",
            "Another line added\n",
            "One more line..\n"
          ]
        }
      ],
      "source": [
        "with open(\"File.txt\", \"r\") as f:\n",
        "    f.seek(7)\n",
        "    print(f.read())"
      ]
    },
    {
      "cell_type": "markdown",
      "metadata": {
        "id": "fcNslErRaUlN"
      },
      "source": [
        "# Exception Handling"
      ]
    },
    {
      "cell_type": "markdown",
      "metadata": {
        "id": "seikvekjafzc"
      },
      "source": [
        "\n",
        "\n",
        "## 📘 Exception Handling in Python\n",
        "\n",
        "---\n",
        "\n",
        "## 🔹 1. Introduction to Exceptions\n",
        "\n",
        "### ✅ Theory:\n",
        "An **exception** is an event that occurs during the execution of a program that disrupts its normal flow. Exception handling allows your program to **handle errors gracefully**, without crashing.\n",
        "\n",
        "### 💡 Example:\n",
        "```python\n",
        "print(10 / 0)  # This will raise a ZeroDivisionError\n",
        "```\n",
        "\n",
        "---\n",
        "\n",
        "## 🔹 2. Why Use Exception Handling?\n",
        "\n",
        "### ✅ Theory:\n",
        "- Prevent program crashes\n",
        "- Handle unexpected input or system issues\n",
        "- Create user-friendly error messages\n",
        "- Clean up resources (e.g., closing files or DBs)\n",
        "\n",
        "---\n",
        "\n",
        "## 🔹 3. Try and Except Block\n",
        "\n",
        "### ✅ Theory:\n",
        "Use `try` to wrap code that might cause an exception, and `except` to catch and handle the error.\n",
        "\n",
        "### 💡 Example:\n",
        "```python\n",
        "try:\n",
        "    x = 10 / 0\n",
        "except ZeroDivisionError:\n",
        "    print(\"You can't divide by zero!\")\n",
        "```\n",
        "\n",
        "---\n",
        "\n",
        "## 🔹 4. Catching Multiple Exceptions\n",
        "\n",
        "### ✅ Theory:\n",
        "You can handle **multiple types of exceptions** with multiple `except` blocks.\n",
        "\n",
        "### 💡 Example:\n",
        "```python\n",
        "try:\n",
        "    num = int(input(\"Enter a number: \"))\n",
        "    print(10 / num)\n",
        "except ValueError:\n",
        "    print(\"Invalid input! Enter a number.\")\n",
        "except ZeroDivisionError:\n",
        "    print(\"Cannot divide by zero!\")\n",
        "```\n",
        "\n",
        "---\n",
        "\n",
        "## 🔹 5. Catching All Exceptions\n",
        "\n",
        "### ✅ Theory:\n",
        "You can catch **any exception** using a generic `except Exception` block. Useful for debugging.\n",
        "\n",
        "### 💡 Example:\n",
        "```python\n",
        "try:\n",
        "    a = \"hello\" + 5\n",
        "except Exception as e:\n",
        "    print(\"An error occurred:\", e)\n",
        "```\n",
        "\n",
        "---\n",
        "\n",
        "## 🔹 6. Else Clause\n",
        "\n",
        "### ✅ Theory:\n",
        "The `else` block is executed **if no exception occurs** in the try block.\n",
        "\n",
        "### 💡 Example:\n",
        "```python\n",
        "try:\n",
        "    num = int(input(\"Enter a number: \"))\n",
        "except ValueError:\n",
        "    print(\"That's not a number.\")\n",
        "else:\n",
        "    print(\"You entered:\", num)\n",
        "```\n",
        "\n",
        "---\n",
        "\n",
        "## 🔹 7. Finally Clause\n",
        "\n",
        "### ✅ Theory:\n",
        "The `finally` block **always executes**, no matter if an exception occurred or not. It's used for **cleanup actions**.\n",
        "\n",
        "### 💡 Example:\n",
        "```python\n",
        "try:\n",
        "    file = open(\"sample.txt\", \"r\")\n",
        "    content = file.read()\n",
        "except FileNotFoundError:\n",
        "    print(\"File not found.\")\n",
        "finally:\n",
        "    print(\"Execution completed.\")\n",
        "```\n",
        "\n",
        "---\n",
        "\n",
        "## 🔹 8. Raising Exceptions Manually\n",
        "\n",
        "### ✅ Theory:\n",
        "You can use the `raise` keyword to **throw an exception** manually.\n",
        "\n",
        "### 💡 Example:\n",
        "```python\n",
        "age = int(input(\"Enter your age: \"))\n",
        "if age < 0:\n",
        "    raise ValueError(\"Age cannot be negative!\")\n",
        "```\n",
        "\n",
        "---\n",
        "\n",
        "## 🔹 9. Creating Custom Exceptions\n",
        "\n",
        "### ✅ Theory:\n",
        "You can define your own exceptions by creating a new class that inherits from `Exception`.\n",
        "\n",
        "### 💡 Example:\n",
        "```python\n",
        "class NegativeNumberError(Exception):\n",
        "    pass\n",
        "\n",
        "def check_number(n):\n",
        "    if n < 0:\n",
        "        raise NegativeNumberError(\"Number is negative!\")\n",
        "\n",
        "try:\n",
        "    check_number(-10)\n",
        "except NegativeNumberError as e:\n",
        "    print(\"Custom Error:\", e)\n",
        "```\n",
        "\n",
        "---\n",
        "\n",
        "## 🔹 10. Exception Hierarchy in Python\n",
        "\n",
        "### ✅ Theory:\n",
        "All exceptions are derived from the `BaseException` class.\n",
        "\n",
        "```\n",
        "BaseException\n",
        " ├── SystemExit\n",
        " ├── KeyboardInterrupt\n",
        " └── Exception\n",
        "     ├── ArithmeticError\n",
        "     ├── ValueError\n",
        "     ├── TypeError\n",
        "     ├── IndexError\n",
        "     └── ...\n",
        "```\n",
        "\n",
        "---\n",
        "\n",
        "## 🔹 11. Common Exceptions\n",
        "\n",
        "| Exception          | Example Code                                 | Meaning                           |\n",
        "|-------------------|----------------------------------------------|-----------------------------------|\n",
        "| `ZeroDivisionError` | `10/0`                                      | Division by zero                  |\n",
        "| `ValueError`       | `int(\"abc\")`                                 | Invalid literal for data type     |\n",
        "| `TypeError`        | `\"abc\" + 10`                                 | Unsupported operand types         |\n",
        "| `IndexError`       | `list[10]` (when list has < 10 elements)     | Index out of range                |\n",
        "| `KeyError`         | `dict[\"missing_key\"]`                        | Key not found in dictionary       |\n",
        "| `FileNotFoundError`| `open(\"no_file.txt\")`                        | File does not exist               |\n",
        "\n",
        "---\n",
        "\n",
        "## 🔹 12. Best Practices for Exception Handling\n",
        "\n",
        "### ✅ Theory:\n",
        "- **Be specific** about which exception to catch.\n",
        "- Use `finally` for resource cleanup.\n",
        "- Avoid using **bare `except:`** unless absolutely needed.\n",
        "- Use **custom exceptions** for app-specific errors.\n",
        "- **Log errors** if needed for debugging or monitoring.\n",
        "\n",
        "---\n",
        "\n",
        "## 🔹 13. Full Example – With All Concepts\n",
        "\n",
        "```python\n",
        "class InvalidAge(Exception):\n",
        "    pass\n",
        "\n",
        "def get_age():\n",
        "    try:\n",
        "        age = int(input(\"Enter age: \"))\n",
        "        if age < 0:\n",
        "            raise InvalidAge(\"Age cannot be negative\")\n",
        "    except ValueError:\n",
        "        print(\"Please enter a valid number.\")\n",
        "    except InvalidAge as e:\n",
        "        print(\"Custom Error:\", e)\n",
        "    else:\n",
        "        print(\"Age entered:\", age)\n",
        "    finally:\n",
        "        print(\"Function executed.\")\n",
        "\n",
        "get_age()\n",
        "```\n",
        "\n",
        "---\n",
        "\n",
        "## ✅ Summary Table\n",
        "\n",
        "| Block     | Purpose                                    |\n",
        "|-----------|--------------------------------------------|\n",
        "| `try`     | Code that might raise an exception         |\n",
        "| `except`  | Handle specific or general exceptions      |\n",
        "| `else`    | Runs if no exception occurred              |\n",
        "| `finally` | Always runs (used for cleanup)             |\n",
        "| `raise`   | Raise your own exception                   |\n",
        "\n",
        "\n",
        "\n"
      ]
    },
    {
      "cell_type": "code",
      "execution_count": null,
      "metadata": {
        "colab": {
          "base_uri": "https://localhost:8080/",
          "height": 211
        },
        "id": "khb8XFLjgZvn",
        "outputId": "b47287a7-340e-4297-ec10-b186dd2de183"
      },
      "outputs": [
        {
          "ename": "ZeroDivisionError",
          "evalue": "division by zero",
          "output_type": "error",
          "traceback": [
            "\u001b[0;31m---------------------------------------------------------------------------\u001b[0m",
            "\u001b[0;31mZeroDivisionError\u001b[0m                         Traceback (most recent call last)",
            "\u001b[0;32m<ipython-input-9-601ce191f334>\u001b[0m in \u001b[0;36m<cell line: 0>\u001b[0;34m()\u001b[0m\n\u001b[1;32m      2\u001b[0m \u001b[0mb\u001b[0m \u001b[0;34m=\u001b[0m \u001b[0;36m0\u001b[0m\u001b[0;34m\u001b[0m\u001b[0;34m\u001b[0m\u001b[0m\n\u001b[1;32m      3\u001b[0m \u001b[0;34m\u001b[0m\u001b[0m\n\u001b[0;32m----> 4\u001b[0;31m \u001b[0mc\u001b[0m \u001b[0;34m=\u001b[0m \u001b[0ma\u001b[0m \u001b[0;34m/\u001b[0m \u001b[0mb\u001b[0m\u001b[0;34m\u001b[0m\u001b[0;34m\u001b[0m\u001b[0m\n\u001b[0m\u001b[1;32m      5\u001b[0m \u001b[0;34m\u001b[0m\u001b[0m\n\u001b[1;32m      6\u001b[0m \u001b[0mprint\u001b[0m\u001b[0;34m(\u001b[0m\u001b[0mc\u001b[0m\u001b[0;34m)\u001b[0m\u001b[0;34m\u001b[0m\u001b[0;34m\u001b[0m\u001b[0m\n",
            "\u001b[0;31mZeroDivisionError\u001b[0m: division by zero"
          ]
        }
      ],
      "source": [
        "a = 8\n",
        "b = 0\n",
        "\n",
        "c = a / b\n",
        "\n",
        "print(c)\n",
        "\n",
        "print('End of operation')"
      ]
    },
    {
      "cell_type": "code",
      "execution_count": null,
      "metadata": {
        "colab": {
          "base_uri": "https://localhost:8080/"
        },
        "id": "7QFUCcZsgB1y",
        "outputId": "92c74b31-4fc0-4c80-8037-4d0a3b9a0af5"
      },
      "outputs": [
        {
          "name": "stdout",
          "output_type": "stream",
          "text": [
            "1.1428571428571428\n",
            "End of operation\n"
          ]
        }
      ],
      "source": [
        "a = 8\n",
        "b = 7\n",
        "\n",
        "try:\n",
        "  c = a / b\n",
        "\n",
        "except Exception as e:\n",
        "  print(\"Error:\", e)\n",
        "\n",
        "else:\n",
        "  print(c)\n",
        "\n",
        "finally:\n",
        "  print('End of operation')"
      ]
    },
    {
      "cell_type": "code",
      "execution_count": null,
      "metadata": {
        "colab": {
          "base_uri": "https://localhost:8080/"
        },
        "id": "3BjrbrNwbs2G",
        "outputId": "2234bef2-662f-4c77-a5a1-fdde86f289b3"
      },
      "outputs": [
        {
          "name": "stdout",
          "output_type": "stream",
          "text": [
            "0.4444444444444444\n"
          ]
        }
      ],
      "source": [
        "\n",
        "a = 4\n",
        "b = 9\n",
        "\n",
        "try:\n",
        "    c = a / b\n",
        "\n",
        "except ZeroDivisionError:\n",
        "    print(\"Cannot divide by zero.\")\n",
        "\n",
        "else:\n",
        "  print(c)\n"
      ]
    },
    {
      "cell_type": "code",
      "execution_count": null,
      "metadata": {
        "colab": {
          "base_uri": "https://localhost:8080/"
        },
        "id": "cwCbqOxMa_8c",
        "outputId": "54fc9a22-6bed-4ed0-ea36-b97b15063f09"
      },
      "outputs": [
        {
          "name": "stdout",
          "output_type": "stream",
          "text": [
            "Invalid value provided. unsupported operand type(s) for /: 'str' and 'int'\n"
          ]
        }
      ],
      "source": [
        "num = \"34\"\n",
        "\n",
        "try:\n",
        "    sol = num / 2\n",
        "except TypeError as e:\n",
        "    print(\"Invalid value provided.\", e)\n"
      ]
    },
    {
      "cell_type": "code",
      "execution_count": null,
      "metadata": {
        "colab": {
          "base_uri": "https://localhost:8080/",
          "height": 176
        },
        "id": "uYB7Wc45jLYN",
        "outputId": "022d4843-0b1f-4c02-f9f1-6b22b5ff0e4b"
      },
      "outputs": [
        {
          "ename": "TypeError",
          "evalue": "unsupported operand type(s) for /: 'str' and 'int'",
          "output_type": "error",
          "traceback": [
            "\u001b[0;31m---------------------------------------------------------------------------\u001b[0m",
            "\u001b[0;31mTypeError\u001b[0m                                 Traceback (most recent call last)",
            "\u001b[0;32m<ipython-input-17-4d0a6793c904>\u001b[0m in \u001b[0;36m<cell line: 0>\u001b[0;34m()\u001b[0m\n\u001b[1;32m      1\u001b[0m \u001b[0mnum\u001b[0m \u001b[0;34m=\u001b[0m \u001b[0;34m'78'\u001b[0m\u001b[0;34m\u001b[0m\u001b[0;34m\u001b[0m\u001b[0m\n\u001b[1;32m      2\u001b[0m \u001b[0;34m\u001b[0m\u001b[0m\n\u001b[0;32m----> 3\u001b[0;31m \u001b[0mprint\u001b[0m\u001b[0;34m(\u001b[0m\u001b[0mnum\u001b[0m \u001b[0;34m/\u001b[0m \u001b[0;36m6\u001b[0m\u001b[0;34m)\u001b[0m\u001b[0;34m\u001b[0m\u001b[0;34m\u001b[0m\u001b[0m\n\u001b[0m",
            "\u001b[0;31mTypeError\u001b[0m: unsupported operand type(s) for /: 'str' and 'int'"
          ]
        }
      ],
      "source": [
        "num = '78'\n",
        "\n",
        "print(num / 6)"
      ]
    },
    {
      "cell_type": "code",
      "execution_count": null,
      "metadata": {
        "colab": {
          "base_uri": "https://localhost:8080/"
        },
        "id": "EPNdYjJ8bL8O",
        "outputId": "812f5162-47aa-4dd1-c81d-cffa76410e69"
      },
      "outputs": [
        {
          "name": "stdout",
          "output_type": "stream",
          "text": [
            "10\n"
          ]
        }
      ],
      "source": [
        "lst = [4, 6, 8, 7, 9, 10]\n",
        "\n",
        "try:\n",
        "    print(lst[5])\n",
        "\n",
        "\n",
        "except IndexError:\n",
        "    print(\"Index is out of range.\")\n"
      ]
    },
    {
      "cell_type": "code",
      "execution_count": null,
      "metadata": {
        "colab": {
          "base_uri": "https://localhost:8080/"
        },
        "id": "MpRNwuUkbsfS",
        "outputId": "e8152f7b-fe46-4600-ae6c-cdcf5c559371"
      },
      "outputs": [
        {
          "name": "stdout",
          "output_type": "stream",
          "text": [
            "Key not found in dictionary.\n"
          ]
        }
      ],
      "source": [
        "dct = {'name': 'David', 'marks': 78}\n",
        "\n",
        "try:\n",
        "    print(dct[\"age\"])\n",
        "\n",
        "except KeyError:\n",
        "    print(\"Key not found in dictionary.\")\n"
      ]
    },
    {
      "cell_type": "code",
      "execution_count": null,
      "metadata": {
        "colab": {
          "base_uri": "https://localhost:8080/"
        },
        "id": "CsyqS7epcBgx",
        "outputId": "19d46632-4274-4358-bd8b-d20de9078ecc"
      },
      "outputs": [
        {
          "name": "stdout",
          "output_type": "stream",
          "text": [
            "'str' object has no attribute 'rev'\n"
          ]
        }
      ],
      "source": [
        "name = \"Python\"\n",
        "\n",
        "try:\n",
        "    name.rev()\n",
        "\n",
        "\n",
        "except AttributeError as e:\n",
        "    print(e)\n"
      ]
    },
    {
      "cell_type": "code",
      "execution_count": null,
      "metadata": {
        "colab": {
          "base_uri": "https://localhost:8080/"
        },
        "id": "iM-aRYavcJqn",
        "outputId": "3709deb4-980d-4913-a0da-fbc1d2866830"
      },
      "outputs": [
        {
          "name": "stdout",
          "output_type": "stream",
          "text": [
            "name 'x' is not defined\n"
          ]
        }
      ],
      "source": [
        "try:\n",
        "    print(x)\n",
        "\n",
        "except NameError as e:\n",
        "    print(e)\n"
      ]
    },
    {
      "cell_type": "code",
      "execution_count": null,
      "metadata": {
        "colab": {
          "base_uri": "https://localhost:8080/"
        },
        "id": "_S9Reuf6ceFu",
        "outputId": "b2d67c4b-411a-4f5c-8feb-ad2dd4671941"
      },
      "outputs": [
        {
          "name": "stdout",
          "output_type": "stream",
          "text": [
            "invalid literal for int() with base 10: 'dd56'\n"
          ]
        }
      ],
      "source": [
        "num = \"dd56\"\n",
        "\n",
        "try:\n",
        "    num = int(num)\n",
        "\n",
        "\n",
        "except ValueError as e:\n",
        "    print(e)\n",
        "\n",
        "\n",
        "else:\n",
        "  print(num)"
      ]
    },
    {
      "cell_type": "code",
      "execution_count": null,
      "metadata": {
        "colab": {
          "base_uri": "https://localhost:8080/"
        },
        "id": "ReqddKU_eUJc",
        "outputId": "3a3a03ec-663d-4055-b725-e98978214c7b"
      },
      "outputs": [
        {
          "name": "stdout",
          "output_type": "stream",
          "text": [
            "ValueError:\n"
          ]
        }
      ],
      "source": [
        "num = \"abc\"\n",
        "\n",
        "try:\n",
        "    num = int(\"abc\")\n",
        "    print(num)\n",
        "\n",
        "except ValueError as e:\n",
        "    print(\"ValueError:\")\n",
        "\n",
        "else:\n",
        "  print(\"No Exception occurs\")"
      ]
    },
    {
      "cell_type": "code",
      "execution_count": null,
      "metadata": {
        "colab": {
          "base_uri": "https://localhost:8080/"
        },
        "id": "nr0zSwjHeahD",
        "outputId": "ad471d57-b309-4f1d-cc64-6749bb1a857c"
      },
      "outputs": [
        {
          "name": "stdout",
          "output_type": "stream",
          "text": [
            "ValueError\n"
          ]
        }
      ],
      "source": [
        "# Generic Name for Exception\n",
        "num = \"abc\"\n",
        "\n",
        "try:\n",
        "    num = int(\"abc\")\n",
        "    print(num)\n",
        "\n",
        "except Exception as e:\n",
        "    print(\"ValueError\")\n",
        "\n",
        "else:\n",
        "  print(\"No Exception occurs\")\n",
        "\n",
        "\n",
        "\n"
      ]
    },
    {
      "cell_type": "code",
      "execution_count": null,
      "metadata": {
        "id": "z2_rBmuDfgxk"
      },
      "outputs": [],
      "source": []
    },
    {
      "cell_type": "code",
      "execution_count": null,
      "metadata": {
        "colab": {
          "base_uri": "https://localhost:8080/"
        },
        "id": "2IY--zHQghRW",
        "outputId": "eec4a77e-cb34-4c02-bea8-f3757b1a3757"
      },
      "outputs": [
        {
          "name": "stdout",
          "output_type": "stream",
          "text": [
            "2.0\n"
          ]
        }
      ],
      "source": [
        "# Zero Division Error\n",
        "a = 4\n",
        "b = 2\n",
        "\n",
        "\n",
        "try:\n",
        "  c = a / b\n",
        "\n",
        "\n",
        "\n",
        "except ZeroDivisionError as e:\n",
        "  print(\"Undefined\")\n",
        "\n",
        "\n",
        "else:\n",
        "  print(c)\n",
        "\n",
        "\n",
        "# finally:\n",
        "#   print(\"Executed...\")\n",
        "\n",
        "\n"
      ]
    },
    {
      "cell_type": "code",
      "execution_count": null,
      "metadata": {
        "colab": {
          "base_uri": "https://localhost:8080/"
        },
        "id": "vZN5ZNhWghhc",
        "outputId": "bfc28804-683d-434d-d585-2d5d74bc96e2"
      },
      "outputs": [
        {
          "name": "stdout",
          "output_type": "stream",
          "text": [
            "Invalid value provided ..\n"
          ]
        }
      ],
      "source": [
        "# Type Error\n",
        "num = \"34\"\n",
        "# num = 34\n",
        "\n",
        "\n",
        "try:\n",
        "    sol = num / 2\n",
        "\n",
        "\n",
        "\n",
        "except TypeError as e:\n",
        "    print(\"Invalid value provided ..\")\n",
        "\n",
        "\n",
        "else:\n",
        "  print(sol)\n"
      ]
    },
    {
      "cell_type": "code",
      "execution_count": null,
      "metadata": {
        "colab": {
          "base_uri": "https://localhost:8080/"
        },
        "id": "U0NkHrQnlm13",
        "outputId": "38aef952-01b1-412c-dd89-9783ca61e26d"
      },
      "outputs": [
        {
          "name": "stdout",
          "output_type": "stream",
          "text": [
            "78\n"
          ]
        }
      ],
      "source": [
        "# IndexError\n",
        "\n",
        "lst = [3, 78, 9.5]\n",
        "\n",
        "\n",
        "try:\n",
        "  d = lst[1]\n",
        "\n",
        "\n",
        "\n",
        "except IndexError as e:\n",
        "  print(\"Index is out of range.\")\n",
        "\n",
        "\n",
        "else:\n",
        "  print(d)\n",
        "\n",
        "\n",
        "\n"
      ]
    },
    {
      "cell_type": "code",
      "execution_count": null,
      "metadata": {
        "colab": {
          "base_uri": "https://localhost:8080/"
        },
        "id": "LuweM0P8nMCe",
        "outputId": "05d6c034-14ed-4f40-ac88-8a810325de88"
      },
      "outputs": [
        {
          "name": "stdout",
          "output_type": "stream",
          "text": [
            "78\n"
          ]
        }
      ],
      "source": [
        "dct = {'name': 'David', 'marks': 78}\n",
        "\n",
        "\n",
        "\n",
        "try:\n",
        "    print(dct[\"marks\"])\n",
        "\n",
        "\n",
        "\n",
        "except KeyError:\n",
        "    print(\"Key not found in dictionary.\")\n"
      ]
    },
    {
      "cell_type": "code",
      "execution_count": null,
      "metadata": {
        "colab": {
          "base_uri": "https://localhost:8080/"
        },
        "id": "A3S-ypzhmnTq",
        "outputId": "58bb079b-d3e8-4898-a40b-35019987d56a"
      },
      "outputs": [
        {
          "name": "stdout",
          "output_type": "stream",
          "text": [
            "Attribute does not exist for this object.\n"
          ]
        }
      ],
      "source": [
        "name = \"Python\"\n",
        "\n",
        "\n",
        "try:\n",
        "    name.rev()\n",
        "\n",
        "\n",
        "except AttributeError:\n",
        "    print(\"Attribute does not exist for this object.\")\n"
      ]
    },
    {
      "cell_type": "code",
      "execution_count": null,
      "metadata": {
        "colab": {
          "base_uri": "https://localhost:8080/"
        },
        "id": "fvykn_8AoLAh",
        "outputId": "afab9ef2-97e7-48aa-8866-ee2241825320"
      },
      "outputs": [
        {
          "name": "stdout",
          "output_type": "stream",
          "text": [
            "Variable is not defined.\n"
          ]
        }
      ],
      "source": [
        "# NameError\n",
        "try:\n",
        "  print(y)\n",
        "\n",
        "\n",
        "\n",
        "except NameError:\n",
        "  print(\"Variable is not defined.\")"
      ]
    },
    {
      "cell_type": "code",
      "execution_count": null,
      "metadata": {
        "colab": {
          "base_uri": "https://localhost:8080/"
        },
        "id": "8ZoyzC41obDS",
        "outputId": "e02b82fa-e86b-45b0-941c-807eb290ece7"
      },
      "outputs": [
        {
          "name": "stdout",
          "output_type": "stream",
          "text": [
            "45\n",
            "No Exception occurs\n"
          ]
        }
      ],
      "source": [
        "num = \"45\"\n",
        "\n",
        "try:\n",
        "    num = int(num)\n",
        "    print(num)\n",
        "\n",
        "\n",
        "\n",
        "except ValueError as e:\n",
        "    print(\"ValueError occurs\")\n",
        "\n",
        "\n",
        "\n",
        "else:\n",
        "  print(\"No Exception occurs\")"
      ]
    },
    {
      "cell_type": "code",
      "execution_count": null,
      "metadata": {
        "colab": {
          "base_uri": "https://localhost:8080/"
        },
        "id": "1my-aMv4o7yA",
        "outputId": "a8d1613b-8a6a-4d3a-da3a-16f88f095eb1"
      },
      "outputs": [
        {
          "name": "stdout",
          "output_type": "stream",
          "text": [
            "56\n"
          ]
        }
      ],
      "source": [
        "num = 56\n",
        "\n",
        "try:\n",
        "    num = int(num)\n",
        "    print(num)\n",
        "\n",
        "\n",
        "\n",
        "except Exception as e:\n",
        "    print(\"ValueError occurs\")\n",
        "\n",
        "\n"
      ]
    },
    {
      "cell_type": "markdown",
      "metadata": {
        "id": "VVO6XNqJfln1"
      },
      "source": [
        "\n",
        "\n",
        "---\n",
        "\n",
        "### **1. Artificial Intelligence (AI)**\n",
        "\n",
        "**Definition:**\n",
        "Artificial Intelligence is a broad field of computer science focused on creating systems capable of performing tasks that normally require human intelligence. These tasks include reasoning, problem-solving, perception, language understanding, and decision-making.\n",
        "\n",
        "**Examples:**\n",
        "- Chatbots like ChatGPT or Siri\n",
        "- Self-driving cars\n",
        "- Facial recognition systems\n",
        "- Recommendation systems (Netflix, Amazon)\n",
        "\n",
        "**Technologies/Tools:**\n",
        "- Python, Java, R\n",
        "- TensorFlow, PyTorch\n",
        "- OpenCV (for vision-based AI)\n",
        "- Natural Language Toolkit (NLTK), spaCy (for NLP)\n",
        "- Robotics frameworks (ROS)\n",
        "\n",
        "---\n",
        "\n",
        "### **2. Machine Learning (ML)**\n",
        "\n",
        "**Definition:**\n",
        "Machine Learning is a subset of AI that focuses on developing algorithms that allow computers to learn from data and make predictions or decisions without being explicitly programmed for specific tasks.\n",
        "\n",
        "**Examples:**\n",
        "- Email spam filters\n",
        "- Credit scoring systems\n",
        "- Stock price prediction\n",
        "- Product recommendations\n",
        "\n",
        "**Technologies/Tools:**\n",
        "- Scikit-learn, XGBoost, LightGBM\n",
        "- Pandas, NumPy (for data handling)\n",
        "- Jupyter Notebooks\n",
        "- MLflow (for tracking experiments)\n",
        "- Google Colab, Amazon SageMaker\n",
        "\n",
        "---\n",
        "\n",
        "### **3. Deep Learning (DL)**\n",
        "\n",
        "**Definition:**\n",
        "Deep Learning is a specialized subfield of Machine Learning that uses artificial neural networks with many layers (deep neural networks) to model complex patterns in large amounts of data, especially unstructured data like images, audio, and text.\n",
        "\n",
        "**Examples:**\n",
        "- Image classification (e.g., identifying cats and dogs)\n",
        "- Speech recognition (e.g., Google Assistant)\n",
        "- Language translation (e.g., Google Translate)\n",
        "- Deepfake generation\n",
        "\n",
        "**Technologies/Tools:**\n",
        "- TensorFlow, Keras, PyTorch\n",
        "- OpenCV (for image processing)\n",
        "- Hugging Face Transformers (for NLP)\n",
        "- CUDA (for GPU acceleration)\n",
        "- NVIDIA GPUs (hardware)\n",
        "\n",
        "---\n",
        "\n",
        "### **4. Data Science (DS)**\n",
        "\n",
        "**Definition:**\n",
        "Data Science is an interdisciplinary field that uses scientific methods, processes, algorithms, and systems to extract knowledge and insights from structured and unstructured data. It combines domain knowledge, statistics, and computing to solve real-world problems.\n",
        "\n",
        "**Examples:**\n",
        "- Business intelligence dashboards\n",
        "- Customer segmentation analysis\n",
        "- Fraud detection systems\n",
        "- Predictive analytics in healthcare\n",
        "\n",
        "**Technologies/Tools:**\n",
        "- Python, R, SQL\n",
        "- Tableau, Power BI (visualization)\n",
        "- Jupyter, Zeppelin (notebooks)\n",
        "- Apache Spark, Hadoop (big data)\n",
        "- Matplotlib, Seaborn (visualization)\n",
        "\n",
        "---\n",
        "\n",
        "### **Hierarchy Visualization:**\n",
        "```\n",
        "Artificial Intelligence\n",
        "│\n",
        "├── Machine Learning\n",
        "│   └── Deep Learning\n",
        "│\n",
        "└── Data Science (overlaps with AI/ML)\n",
        "```\n",
        "\n",
        "\n",
        "<img src=\"https://www.deviq.io/hubfs/DevIQ%20website%20active%20images/ai-ml-dl-ds-venn-diagram-deviq.png\" width=500px>"
      ]
    },
    {
      "cell_type": "code",
      "execution_count": 16,
      "metadata": {
        "id": "4gt3ZsP5gaaD"
      },
      "outputs": [],
      "source": [
        "# A Perceptron is the simplest type of artificial neural network\n",
        "# It is a binary classifier that decides whether an input belongs to one class or another (e.g., yes/no, 0/1, spam/not spam)."
      ]
    },
    {
      "cell_type": "code",
      "execution_count": 16,
      "metadata": {
        "id": "GbxvJrMctmyt"
      },
      "outputs": [],
      "source": []
    },
    {
      "cell_type": "code",
      "execution_count": 16,
      "metadata": {
        "id": "nxPdd5JktnOo"
      },
      "outputs": [],
      "source": []
    },
    {
      "cell_type": "markdown",
      "metadata": {
        "id": "4nZ1hQWhtTVX"
      },
      "source": [
        "**Perceptron**\n",
        "<br>\n",
        "A Perceptron is the simplest type of artificial neural network\n",
        "It is a binary classifier that decides whether an input belongs to one class or another (e.g., yes/no, 0/1, spam/not spam).\n",
        "\n",
        "\n",
        "<img src=\"https://miro.medium.com/v2/resize:fit:940/1*6HtyqOTYyYUzUeERVXL8Ag.png\" width=600px>"
      ]
    },
    {
      "cell_type": "code",
      "execution_count": 17,
      "metadata": {
        "colab": {
          "base_uri": "https://localhost:8080/"
        },
        "id": "yoNzM7WdskRY",
        "outputId": "894b5499-c10e-479c-b916-6c506b2e9942"
      },
      "outputs": [
        {
          "output_type": "stream",
          "name": "stdout",
          "text": [
            "Output: 0\n"
          ]
        }
      ],
      "source": [
        "# One example:\n",
        "#  input [1, 1] -> expected output is 1 (AND gate)\n",
        "#  input [1, 0] -> expected output is 0 (AND gate)\n",
        "#  input [0, 1] -> expected output is 0 (AND gate)\n",
        "#  input [0, 0] -> expected output is 1 (AND gate)\n",
        "\n",
        "# Inputs\n",
        "x1 = 0\n",
        "x2 = 1\n",
        "\n",
        "# Weights and bias (you can change these to see what happens)\n",
        "w1 = 1\n",
        "w2 = 1\n",
        "b = -1.5\n",
        "\n",
        "# Weighted sum\n",
        "z = x1 * w1 + x2 * w2 + b\n",
        "\n",
        "# Step activation function\n",
        "if z >= 0:\n",
        "    output = 1\n",
        "else:\n",
        "    output = 0\n",
        "\n",
        "print(\"Output:\", output)\n"
      ]
    },
    {
      "cell_type": "code",
      "execution_count": 18,
      "metadata": {
        "id": "0xPDOVJ8G-rp",
        "colab": {
          "base_uri": "https://localhost:8080/"
        },
        "outputId": "e7beea45-4943-4e5c-a860-4e75bca59105"
      },
      "outputs": [
        {
          "output_type": "stream",
          "name": "stdout",
          "text": [
            "0, 0, 0 => 0\n",
            "0, 1, 1 => 0\n",
            "1, 0, 1 => 0\n",
            "1, 1, 1 => 1\n"
          ]
        }
      ],
      "source": [
        "# 3-input perceptron example (AND logic)\n",
        "\n",
        "# Inputs and expected outputs\n",
        "inputs = [\n",
        "    [0, 0, 0],\n",
        "    [0, 1, 1],\n",
        "    [1, 0, 1],\n",
        "    [1, 1, 1]\n",
        "]\n",
        "outputs = [0, 0, 0, 1]\n",
        "\n",
        "# Weights and bias\n",
        "w1 = 1\n",
        "w2 = 1\n",
        "w3 = 1\n",
        "b = -2.5\n",
        "\n",
        "# Step function\n",
        "def step(x):\n",
        "    return 1 if x >= 0 else 0\n",
        "\n",
        "# Testing\n",
        "for x1, x2, x3 in inputs:\n",
        "    z = x1 * w1 + x2 * w2 + x3 * w3 + b\n",
        "    y_pred = step(z)\n",
        "    print(f\"{x1}, {x2}, {x3} => {y_pred}\")\n"
      ]
    }
  ],
  "metadata": {
    "colab": {
      "collapsed_sections": [
        "z2LTw_GlCZQE",
        "5cSsriLgj9Nb",
        "r4EFIy923vEt",
        "PQFc6HqTQSyj",
        "QGZNInu9UeGN",
        "Msa1uS3alJfb",
        "9d8sXAPW3jPr",
        "VYMvpBYiA-Ty",
        "dXQMqToB_3xm",
        "w9iHIGby85Gw",
        "fcNslErRaUlN",
        "FtxPmkzVgcpb",
        "VVO6XNqJfln1",
        "MQr2ptivpdwl",
        "xCivnVCyyGMc",
        "5W6Vah8u69Ad",
        "3p217ot7GOPE",
        "q3p7OZ5xGXIU",
        "9KQW0gdI-SfA",
        "MhN8H5O0_qtf",
        "sZWszaRsuaU9",
        "7m_KwJWMqgcU",
        "pSVUna54_yz4",
        "l1GDwTuB_3Ky",
        "wqUK1x38GnaH",
        "wrDfTwXgDvV-",
        "qq08vZHvE0dt",
        "8gmIjiMv6dkb",
        "A_J4pPXdNiKl",
        "ZFaXGpoPawW1",
        "JDCt8yzaWH6X",
        "m6GB3VlHbmwX",
        "gMAH-RDtbzxZ",
        "VuRr1rKNUmbA",
        "RNROPfIJKVS2",
        "cs_MNju02C2-",
        "Gs18FGUeMo6A",
        "gTyuuj5JvIEq",
        "ZMC04O3se9_q",
        "IWfetVnDXAdL"
      ],
      "provenance": [],
      "include_colab_link": true
    },
    "kernelspec": {
      "display_name": "Python 3",
      "name": "python3"
    },
    "language_info": {
      "name": "python"
    }
  },
  "nbformat": 4,
  "nbformat_minor": 0
}