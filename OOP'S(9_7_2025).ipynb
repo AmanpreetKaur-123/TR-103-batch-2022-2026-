{
  "nbformat": 4,
  "nbformat_minor": 0,
  "metadata": {
    "colab": {
      "provenance": [],
      "authorship_tag": "ABX9TyPrBbeWqbZDMPVntt/hwBef",
      "include_colab_link": true
    },
    "kernelspec": {
      "name": "python3",
      "display_name": "Python 3"
    },
    "language_info": {
      "name": "python"
    }
  },
  "cells": [
    {
      "cell_type": "markdown",
      "metadata": {
        "id": "view-in-github",
        "colab_type": "text"
      },
      "source": [
        "<a href=\"https://colab.research.google.com/github/AmanpreetKaur-123/TR-103-batch-2022-2026-/blob/main/OOP'S(9_7_2025).ipynb\" target=\"_parent\"><img src=\"https://colab.research.google.com/assets/colab-badge.svg\" alt=\"Open In Colab\"/></a>"
      ]
    },
    {
      "cell_type": "markdown",
      "source": [
        "**DATE 9.7.2025**"
      ],
      "metadata": {
        "id": "90Cbpvz9dl_4"
      }
    },
    {
      "cell_type": "markdown",
      "source": [
        "*`*TOPIC : OOP's *`*"
      ],
      "metadata": {
        "id": "MzvYLeNWdsVC"
      }
    },
    {
      "cell_type": "markdown",
      "source": [
        "Object Oriented Programming is a fundamental concept in Python, empowering developers to build modular, maintainable, and scalable applications. By understanding the core OOP principles (classes, objects, inheritance, encapsulation, polymorphism, and abstraction), programmers can leverage the full potential of Python OOP capabilities to design elegant and efficient solutions to complex problems.\n",
        "\n",
        "OOPs is a way of organizing code that uses objects and classes to represent real-world entities and their behavior. In OOPs, object has attributes thing that has specific data and can perform certain actions using methods.\n",
        "\n",
        "# **OOPs Concepts in Python **\n",
        "* Class in Python\n",
        "* Objects in Python\n",
        "* Polymorphism in Python\n",
        "* Encapsulation in Python\n",
        "* Inheritance in Python\n",
        "* Data Abstraction in Python\n",
        "\n",
        "# **Python Class**:\n",
        "A class is a collection of objects. Classes are blueprints for creating objects. A class defines a set of attributes and methods that the created objects (instances) can have.\n",
        "\n",
        "**Some points on Python class:**  \n",
        "\n",
        "* Classes are created by keyword class.\n",
        "* Attributes are the variables that belong to a class.\n",
        "* Attributes are always public and can be accessed using the dot (.) operator.\n",
        "\n",
        "1. Example: Myclass.Myattribute\n",
        "**Creating a Class**\n",
        "*Here, the class keyword indicates that we are creating a class followed by name of the class (Dog in this case).*\n",
        "\n",
        "\n",
        "**class Dog:**\n",
        "    species = \"Canine\"  # Class attribute\n",
        "\n",
        "    def __init__(self, name, age):\n",
        "        self.name = name  # Instance attribute\n",
        "        self.age = age  # Instance attribute\n",
        "**Explanation:**\n",
        "\n",
        "class Dog: Defines a class named Dog.\n",
        "species: A class attribute shared by all instances of the class.\n",
        "__init__ method: Initializes the name and age attributes when a new object is created.\n",
        "Note: For more information, refer to python classes.\n",
        "\n"
      ],
      "metadata": {
        "id": "qkjD3ROUemKb"
      }
    },
    {
      "cell_type": "markdown",
      "source": [
        "# **Python Objects**\n",
        "An Object is an instance of a Class. It represents a specific implementation of the class and holds its own data.\n",
        "\n",
        "**An object consists of:**\n",
        "\n",
        "1. State: It is represented by the attributes and reflects the properties of an object.\n",
        "2. Behavior: It is represented by the methods of an object and reflects the response of an object to other objects.\n",
        "3. Identity: It gives a unique name to an object and enables one object to interact with other objects.\n",
        "**Creating Object :**\n",
        "Creating an object in Python involves instantiating a class to create a new instance of that class. This process is also referred to as object instantiation.\n",
        "\n",
        "\n",
        "\n",
        "\n",
        "*class Dog:*\n",
        "\n",
        "    species = \"Canine\"  # Class attribute\n",
        "\n",
        "    def __init__(self, name, age):\n",
        "        self.name = name  # Instance attribute\n",
        "        self.age = age  # Instance attribute\n",
        "        dog1 = Dog(\"Buddy\", 3)\n",
        "        print(dog1.name)\n",
        "        print(dog1.species)\n",
        "\n",
        "        Output\n",
        "        Buddy\n",
        "        Canine\n",
        "\n",
        "**Explanation:**\n",
        "\n",
        "* dog1 = Dog(\"Buddy\", 3): Creates an object of the Dog class with name as \"Buddy\" and age as 3.\n",
        "* dog1.name: Accesses the instance attribute name of the dog1 object.\n",
        "* dog1.species: Accesses the class attribute species of the dog1 object.\n",
        "**Note:**  For more information, refer to python objects.\n",
        "\n"
      ],
      "metadata": {
        "id": "wv1DxHUagM9H"
      }
    },
    {
      "cell_type": "markdown",
      "source": [
        "# **Self Parameter**\n",
        "self parameter is a reference to the current instance of the class. It allows us to access the attributes and methods of the object.\n",
        "\n",
        "\n",
        "\n",
        "\n",
        "**class Dog:**\n",
        "    species = \"Canine\"  # Class attribute\n",
        "\n",
        "    def __init__(self, name, age):\n",
        "        self.name = name  # Instance attribute\n",
        "        self.age = age  # Instance attribute\n",
        "\n",
        "        dog1 = Dog(\"Buddy\", 3)  # Create an instance of Dog\n",
        "        dog2 = Dog(\"Charlie\", 5)  # Create another instance of Dog\n",
        "\n",
        "        print(dog1.name, dog1.age, dog1.species)  # Access instance and class attributes\n",
        "        print(dog2.name, dog2.age, dog2.species)  # Access instance and class attributes\n",
        "        print(Dog.species)  # Access class attribute directly\n",
        "\n",
        "        Output\n",
        "        Buddy 3 Canine\n",
        "        Charlie 5 Canine\n",
        "        Canine\n",
        "**Explanation:**\n",
        "\n",
        "* self.name: Refers to the name attribute of the object (dog1) calling the method.\n",
        "* dog1.bark(): Calls the bark method on dog1."
      ],
      "metadata": {
        "id": "23t8umrohAh4"
      }
    },
    {
      "cell_type": "markdown",
      "source": [
        "# **Mini-Project**"
      ],
      "metadata": {
        "id": "xXBAKmcMizWx"
      }
    },
    {
      "cell_type": "markdown",
      "source": [
        "Create a calculator name class and this class has to perform multiple types of calculations like(calculate body mass, simple calculator,  simple interest calculator,  tax calculator and so on as you wish.\n",
        "But calculator should be more than 4"
      ],
      "metadata": {
        "id": "FpirC0rqw3_X"
      }
    },
    {
      "cell_type": "code",
      "source": [
        "class calculator:\n",
        "  def simple_calculator(self):\n",
        "    a = int(input(\"enter the first number:\"))\n",
        "    b = int(input(\"enter the second number:\"))\n",
        "    operation = input(\"enter the operation:\")\n",
        "    if operation == 'add':\n",
        "      return a+b\n",
        "    elif operation == 'sub':\n",
        "      return a-b\n",
        "    elif operation == 'mul':\n",
        "      return a*b\n",
        "    elif operation == 'div':\n",
        "      if b!=0:\n",
        "        return a/b\n",
        "      else:\n",
        "        print(\"not valid(cannot divide by zero)\")\n",
        "    else:\n",
        "      print(\"invalid operation!\")\n",
        "calc = calculator()\n",
        "result = calc.simple_calculator()\n",
        "print(\"simple_calculator result is:\",result )\n"
      ],
      "metadata": {
        "colab": {
          "base_uri": "https://localhost:8080/"
        },
        "id": "rQDjWzclw5eJ",
        "outputId": "c4529344-4af9-48a6-ce76-ee58913fcab5"
      },
      "execution_count": 22,
      "outputs": [
        {
          "output_type": "stream",
          "name": "stdout",
          "text": [
            "enter the first number:10\n",
            "enter the second number:30\n",
            "enter the operation:add\n",
            "simple_calculator result is: 40\n"
          ]
        }
      ]
    },
    {
      "cell_type": "code",
      "source": [
        "class Calculator:\n",
        "     def calculate_bmi(self, weight_kg, height_m):\n",
        "        if height_m <= 0:\n",
        "            return \"Invalid height\"\n",
        "        bmi = weight_kg / (height_m ** 2)\n",
        "        return round(bmi, 2)\n",
        "\n",
        "\n",
        "calc = Calculator()\n",
        "\n",
        "print(\"BMI (Weight=70kg, Height=1.75m):\", calc.calculate_bmi(70, 1.75))\n"
      ],
      "metadata": {
        "colab": {
          "base_uri": "https://localhost:8080/"
        },
        "id": "5xcOBtnL0fyh",
        "outputId": "e738b197-05af-4972-9720-7af29a310ea7"
      },
      "execution_count": 23,
      "outputs": [
        {
          "output_type": "stream",
          "name": "stdout",
          "text": [
            "BMI (Weight=70kg, Height=1.75m): 22.86\n"
          ]
        }
      ]
    },
    {
      "cell_type": "code",
      "source": [
        "class Calculator:\n",
        "\n",
        "   def calculate_simple_interest(self, principal, rate, time):\n",
        "        interest = (principal * rate * time) / 100\n",
        "        return round(interest, 2)\n",
        "\n",
        "calc = Calculator()\n",
        "print(\"Simple Interest (P=1000, R=5%, T=2 years):\", calc.calculate_simple_interest(1000, 5, 2))\n"
      ],
      "metadata": {
        "colab": {
          "base_uri": "https://localhost:8080/"
        },
        "id": "MA_wgAPU1Kqo",
        "outputId": "67d31e01-1576-4919-e329-6307037cff95"
      },
      "execution_count": 30,
      "outputs": [
        {
          "output_type": "stream",
          "name": "stdout",
          "text": [
            "Simple Interest (P=1000, R=5%, T=2 years): 100.0\n"
          ]
        }
      ]
    },
    {
      "cell_type": "code",
      "source": [
        "class Calculator:\n",
        "  def calculate_tax(self, income, tax_rate_percent):\n",
        "        tax = (income * tax_rate_percent) / 100\n",
        "        return round(tax, 2)\n",
        "calc = Calculator()\n",
        "print(\"Tax (Income=50000, Tax Rate=10%):\", calc.calculate_tax(50000, 10))\n"
      ],
      "metadata": {
        "colab": {
          "base_uri": "https://localhost:8080/"
        },
        "id": "0NvDS5P_1cdF",
        "outputId": "d5041523-635d-4361-da93-0b5255ab8d63"
      },
      "execution_count": 31,
      "outputs": [
        {
          "output_type": "stream",
          "name": "stdout",
          "text": [
            "Tax (Income=50000, Tax Rate=10%): 5000.0\n"
          ]
        }
      ]
    },
    {
      "cell_type": "code",
      "source": [
        "class Calculator:\n",
        "  def calculate_area(self, shape, *dimensions):\n",
        "        if shape == \"circle\" and len(dimensions) == 1:\n",
        "            radius = dimensions[0]\n",
        "            return round(math.pi * radius ** 2, 2)\n",
        "        elif shape == \"square\" and len(dimensions) == 1:\n",
        "            side = dimensions[0]\n",
        "            return side * side\n",
        "        elif shape == \"rectangle\" and len(dimensions) == 2:\n",
        "            length, width = dimensions\n",
        "            return length * width\n",
        "        else:\n",
        "            return \"Invalid shape or dimensions\"\n",
        "calc = Calculator()\n",
        "print(\"Area of Circle (Radius=5):\", calc.calculate_area(\"circle\", 5))\n",
        "print(\"Area of Rectangle (L=10, W=4):\", calc.calculate_area(\"rectangle\", 10, 4))"
      ],
      "metadata": {
        "colab": {
          "base_uri": "https://localhost:8080/"
        },
        "id": "7hlVKUTR1gwH",
        "outputId": "40132623-3b57-4ac1-9061-a51567e98f98"
      },
      "execution_count": 35,
      "outputs": [
        {
          "output_type": "stream",
          "name": "stdout",
          "text": [
            "Area of Circle (Radius=5): 78.54\n",
            "Area of Rectangle (L=10, W=4): 40\n"
          ]
        }
      ]
    },
    {
      "cell_type": "code",
      "source": [
        "import math\n",
        "\n",
        "class Calculator:\n",
        "\n",
        "    # 1. Simple Calculator\n",
        "    def simple_calculator(self, a, b, operation):\n",
        "        if operation == \"add\":\n",
        "            return a + b\n",
        "        elif operation == \"subtract\":\n",
        "            return a - b\n",
        "        elif operation == \"multiply\":\n",
        "            return a * b\n",
        "        elif operation == \"divide\":\n",
        "            if b != 0:\n",
        "                return a / b\n",
        "            else:\n",
        "                return \"Cannot divide by zero\"\n",
        "        else:\n",
        "            return \"Invalid operation\"\n",
        "\n",
        "    # 2. Body Mass Index (BMI) Calculator\n",
        "    def calculate_bmi(self, weight_kg, height_m):\n",
        "        if height_m <= 0:\n",
        "            return \"Invalid height\"\n",
        "        bmi = weight_kg / (height_m ** 2)\n",
        "        return round(bmi, 2)\n",
        "\n",
        "\n",
        "    def calculate_simple_interest(self, principal, rate, time):\n",
        "        interest = (principal * rate * time) / 100\n",
        "        return round(interest, 2)\n",
        "\n",
        "\n",
        "    def calculate_tax(self, income, tax_rate_percent):\n",
        "        tax = (income * tax_rate_percent) / 100\n",
        "        return round(tax, 2)\n",
        "\n",
        "\n",
        "    def calculate_area(self, shape, *dimensions):\n",
        "        if shape == \"circle\" and len(dimensions) == 1:\n",
        "            radius = dimensions[0]\n",
        "            return round(math.pi * radius ** 2, 2)\n",
        "        elif shape == \"square\" and len(dimensions) == 1:\n",
        "            side = dimensions[0]\n",
        "            return side * side\n",
        "        elif shape == \"rectangle\" and len(dimensions) == 2:\n",
        "            length, width = dimensions\n",
        "            return length * width\n",
        "        else:\n",
        "            return \"Invalid shape or dimensions\"\n",
        "\n",
        "\n",
        "calc = Calculator()\n",
        "\n",
        "print(\"Simple Calculator:\", calc.simple_calculator(10, 5, \"add\"))\n",
        "print(\"BMI (Weight=70kg, Height=1.75m):\", calc.calculate_bmi(70, 1.75))\n",
        "print(\"Simple Interest (P=1000, R=5%, T=2 years):\", calc.calculate_simple_interest(1000, 5, 2))\n",
        "print(\"Tax (Income=50000, Tax Rate=10%):\", calc.calculate_tax(50000, 10))\n",
        "print(\"Area of Circle (Radius=5):\", calc.calculate_area(\"circle\", 5))\n",
        "print(\"Area of Rectangle (L=10, W=4):\", calc.calculate_area(\"rectangle\", 10, 4))\n"
      ],
      "metadata": {
        "colab": {
          "base_uri": "https://localhost:8080/"
        },
        "id": "uqxOQ9B83vmv",
        "outputId": "ff6bab72-3407-4432-9fbf-3ebc41e34491"
      },
      "execution_count": 37,
      "outputs": [
        {
          "output_type": "stream",
          "name": "stdout",
          "text": [
            "Simple Calculator: 15\n",
            "BMI (Weight=70kg, Height=1.75m): 22.86\n",
            "Simple Interest (P=1000, R=5%, T=2 years): 100.0\n",
            "Tax (Income=50000, Tax Rate=10%): 5000.0\n",
            "Area of Circle (Radius=5): 78.54\n",
            "Area of Rectangle (L=10, W=4): 40\n"
          ]
        }
      ]
    }
  ]
}