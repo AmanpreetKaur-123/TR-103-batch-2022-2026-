{
  "nbformat": 4,
  "nbformat_minor": 0,
  "metadata": {
    "colab": {
      "provenance": [],
      "authorship_tag": "ABX9TyNvqeFAHIlRcultHCwRtcYz",
      "include_colab_link": true
    },
    "kernelspec": {
      "name": "python3",
      "display_name": "Python 3"
    },
    "language_info": {
      "name": "python"
    }
  },
  "cells": [
    {
      "cell_type": "markdown",
      "metadata": {
        "id": "view-in-github",
        "colab_type": "text"
      },
      "source": [
        "<a href=\"https://colab.research.google.com/github/AmanpreetKaur-123/TR-103-batch-2022-2026-/blob/main/Dictionary(1_7_2025).ipynb\" target=\"_parent\"><img src=\"https://colab.research.google.com/assets/colab-badge.svg\" alt=\"Open In Colab\"/></a>"
      ]
    },
    {
      "cell_type": "markdown",
      "source": [
        "DATE 1.7.2025"
      ],
      "metadata": {
        "id": "Tf42OloptJPQ"
      }
    },
    {
      "cell_type": "markdown",
      "source": [
        "# TOPIC : DICTIONARY"
      ],
      "metadata": {
        "id": "40j6usPHtLxx"
      }
    },
    {
      "cell_type": "markdown",
      "source": [
        "Python dictionary is a container of the unordered set of objects like lists. The objects are surrounded by curly braces { }. The items in a dictionary are a comma-separated list of key:value pairs where keys and values are Python data type. Each object or value accessed by key and keys are unique in the dictionary. As keys are used for indexing, they must be the immutable type (string, number, or tuple). You can create an empty dictionary using empty curly braces. values can be assigned and accessed using square brackets[]."
      ],
      "metadata": {
        "id": "V9iLaA2mtOuC"
      }
    },
    {
      "cell_type": "markdown",
      "source": [
        "dis = {'name' : 'red','age' : 10}\n",
        "\n",
        "* print(dis) # will output all the key-value pair {'name' : 'red','age' : 10}\n",
        "* print(dis['name'])# will output only value (red)\n",
        "* print(list(dis.values()))# will output list of values in dic ['red' , 10]\n",
        "* print(dis.keys())# will output only key values"
      ],
      "metadata": {
        "id": "uR80beqYtSyS"
      }
    },
    {
      "cell_type": "markdown",
      "source": [
        "**Rules for creating a dictionary**\n",
        "\n",
        "1.   every key must be unique.\n",
        "2.   it must be hasable\n",
        "3.   there is no particular order for the keys\n"
      ],
      "metadata": {
        "id": "wuPHWNmwtboE"
      }
    },
    {
      "cell_type": "markdown",
      "source": [
        "Creating a dictionary\n",
        "\n",
        "1.   literal syntax\n",
        "\n",
        "\n",
        "*   d = { }\n",
        "*   d = { 'key' : 'value'}\n",
        "\n",
        "\n",
        "2.   dict comprehension\n",
        "\n",
        "*    d = {k,v [ ('key' , 'value')]}\n",
        "3.   Modifying a dict\n",
        "\n",
        "\n",
        "*   d['H.No'] = 42\n",
        "*   it also possible to add list and dictionary as value\n",
        "\n",
        "\n",
        "*   d['new_list'] = [1,2,3]\n",
        "*   d['new_dict'] = {'nested_dict': 1}"
      ],
      "metadata": {
        "id": "51PSKhxctfRW"
      }
    },
    {
      "cell_type": "markdown",
      "source": [
        "BUILD IN METHODS:\n",
        "\n",
        "*  Python dictionaries have several built-in functions, also known as methods, that allow you to interact with and manipulate dictionary data. Key functions include len(), dict(), update(), get(), setdefault(), keys(), values(), items(), pop(), popitem(), clear(), copy(), and fromkeys(). Additionally, built-in functions like all(), any(), min(), max(), sorted(), and sum() can be used with dictionaries to perform operations based on their keys or values."
      ],
      "metadata": {
        "id": "agByA3w6tlOv"
      }
    },
    {
      "cell_type": "markdown",
      "source": [
        "1.   dictionary len() method\n",
        "2.   dictionary get() method\n",
        "3.   dictionary items() method\n",
        "4.   dictionary keys() method\n",
        "5.   dictionary values() method\n",
        "6.   dictionary update() method\n",
        "7.   dictionary pop() method\n",
        "8.   dictioanry popitem() method\n",
        "9.   dictionary sum() method\n",
        "10.   dictionary clear() method\n",
        "11.   dictionary max() method\n",
        "12.   dictionary min() method\n",
        "13.   dictionary sort() method\n"
      ],
      "metadata": {
        "id": "Rmt6bwuFtrCh"
      }
    },
    {
      "cell_type": "markdown",
      "source": [
        "# **PRACTICSE QUESTION**"
      ],
      "metadata": {
        "id": "9N9lxz0Atu8T"
      }
    },
    {
      "cell_type": "markdown",
      "source": [
        "# **Basic Dictionary Operations:**\n",
        "\n",
        "1. Create a dictionary named student with keys \"name,\" \"age,\" and \"grade,\" and assign appropriate values.\n",
        "\n",
        "\n"
      ],
      "metadata": {
        "id": "j87ot3QOt0A1"
      }
    },
    {
      "cell_type": "code",
      "source": [
        "student = {\n",
        "    \"name\": \"Aman\",\n",
        "    \"age\": 21,\n",
        "    \"grade\": \"A\"\n",
        "}"
      ],
      "metadata": {
        "id": "GpEOkQdWt9sY"
      },
      "execution_count": 1,
      "outputs": []
    },
    {
      "cell_type": "markdown",
      "source": [
        "2. Print the value associated with the \"age\" key."
      ],
      "metadata": {
        "id": "Fp_rd2C4uBHO"
      }
    },
    {
      "cell_type": "code",
      "source": [
        "print(\"Age:\", student[\"age\"])"
      ],
      "metadata": {
        "colab": {
          "base_uri": "https://localhost:8080/"
        },
        "id": "WYXz4qytuB2p",
        "outputId": "847bd3ed-2d7b-4e9f-c1a9-ac646dd9d4ba"
      },
      "execution_count": 2,
      "outputs": [
        {
          "output_type": "stream",
          "name": "stdout",
          "text": [
            "Age: 21\n"
          ]
        }
      ]
    },
    {
      "cell_type": "markdown",
      "source": [
        "3. Update the \"grade\" to a new value."
      ],
      "metadata": {
        "id": "Ktu5zlRUuI4z"
      }
    },
    {
      "cell_type": "code",
      "source": [
        "student[\"grade\"] = \"A\""
      ],
      "metadata": {
        "id": "pXIQC--LuPTp"
      },
      "execution_count": 3,
      "outputs": []
    },
    {
      "cell_type": "markdown",
      "source": [
        "4. Add a new key-value pair for \"subject\" and its corresponding value."
      ],
      "metadata": {
        "id": "kpEx1mySuSS9"
      }
    },
    {
      "cell_type": "code",
      "source": [
        "student[\"subject\"] = \"Computer Science\"\n",
        "print(student)"
      ],
      "metadata": {
        "colab": {
          "base_uri": "https://localhost:8080/"
        },
        "id": "g6cj8PTZuTgp",
        "outputId": "e0667002-daba-4998-96d2-8c87f2b203b5"
      },
      "execution_count": 4,
      "outputs": [
        {
          "output_type": "stream",
          "name": "stdout",
          "text": [
            "{'name': 'Aman', 'age': 21, 'grade': 'A', 'subject': 'Computer Science'}\n"
          ]
        }
      ]
    },
    {
      "cell_type": "markdown",
      "source": [
        "# **Dictionary Manipulation:**"
      ],
      "metadata": {
        "id": "_Qn0HbLfuYM6"
      }
    },
    {
      "cell_type": "markdown",
      "source": [
        "1. Create two dictinary , dict1 and dict2, with atleast three key value pair each"
      ],
      "metadata": {
        "id": "o5pQ7grFuc-c"
      }
    },
    {
      "cell_type": "code",
      "source": [
        "dict1={'Name':'AMAN','branch':'CSE','Age': 21}\n",
        "dict2={'Name':'JOT','branch':'CSE','Age': 22}\n",
        "print(dict1)\n",
        "print(list(dict1.values()))\n",
        "print(dict1.keys())\n",
        "print(dict2)\n",
        "print(list(dict2.values()))\n",
        "print(dict2.keys())"
      ],
      "metadata": {
        "colab": {
          "base_uri": "https://localhost:8080/"
        },
        "id": "RtjagTF3uXq5",
        "outputId": "febb7220-6de5-45da-f772-1780088bded2"
      },
      "execution_count": 5,
      "outputs": [
        {
          "output_type": "stream",
          "name": "stdout",
          "text": [
            "{'Name': 'AMAN', 'branch': 'CSE', 'Age': 21}\n",
            "['AMAN', 'CSE', 21]\n",
            "dict_keys(['Name', 'branch', 'Age'])\n",
            "{'Name': 'JOT', 'branch': 'CSE', 'Age': 22}\n",
            "['JOT', 'CSE', 22]\n",
            "dict_keys(['Name', 'branch', 'Age'])\n"
          ]
        }
      ]
    },
    {
      "cell_type": "markdown",
      "source": [
        "2. Merge these dictionaries into a new dictionary called merged_dict ."
      ],
      "metadata": {
        "id": "Jm6pnatMuoyk"
      }
    },
    {
      "cell_type": "code",
      "source": [
        "dict1={'Name':'AMAN','branch':'CSE','Age': 21}\n",
        "dict2={'Name':'JOT','branch':'CSE','Age': 22, 'Rollno.':2215011}\n",
        "merged_dict = {**dict1, **dict2}\n",
        "\n",
        "print( merged_dict)"
      ],
      "metadata": {
        "colab": {
          "base_uri": "https://localhost:8080/"
        },
        "id": "hk8mnwNpup-P",
        "outputId": "f6f8f347-1c5b-4f39-e9de-c51dbb46055c"
      },
      "execution_count": 6,
      "outputs": [
        {
          "output_type": "stream",
          "name": "stdout",
          "text": [
            "{'Name': 'JOT', 'branch': 'CSE', 'Age': 22, 'Rollno.': 2215011}\n"
          ]
        }
      ]
    },
    {
      "cell_type": "markdown",
      "source": [
        "3. Remove a key from merged_dict"
      ],
      "metadata": {
        "id": "WjWatd4jut6y"
      }
    },
    {
      "cell_type": "code",
      "source": [
        "dict1={'Name':'AMAN','branch':'CSE','Age': 21}\n",
        "dict2={'Name':'JOT','branch':'CSE','Age': 22, 'Rollno.':2215011}\n",
        "del merged_dict[\"branch\"]\n",
        "\n",
        "print(merged_dict)"
      ],
      "metadata": {
        "colab": {
          "base_uri": "https://localhost:8080/"
        },
        "id": "HRhVh274uxeg",
        "outputId": "6aa6c93b-094a-46d4-b6d3-671372c2d6c7"
      },
      "execution_count": 7,
      "outputs": [
        {
          "output_type": "stream",
          "name": "stdout",
          "text": [
            "{'Name': 'JOT', 'Age': 22, 'Rollno.': 2215011}\n"
          ]
        }
      ]
    },
    {
      "cell_type": "markdown",
      "source": [
        "4. Check if a specific key exists in dict1 ."
      ],
      "metadata": {
        "id": "To2uvJHJu0yk"
      }
    },
    {
      "cell_type": "code",
      "source": [
        "dict1 = {'Name': 'AMAN', 'branch': 'CSE', 'Age': 21}\n",
        "\n",
        "if 'Age' in dict1:\n",
        "    print(\"exists\")\n",
        "else:\n",
        "    print(\"not exist \")\n"
      ],
      "metadata": {
        "colab": {
          "base_uri": "https://localhost:8080/"
        },
        "id": "bh5tip_Xu5ky",
        "outputId": "b740b02b-e333-4c6c-f30d-becf56691a64"
      },
      "execution_count": 8,
      "outputs": [
        {
          "output_type": "stream",
          "name": "stdout",
          "text": [
            "exists\n"
          ]
        }
      ]
    },
    {
      "cell_type": "markdown",
      "source": [
        "# **Iterating Through a Dictionary:**"
      ],
      "metadata": {
        "id": "DXUXcFsTu_dL"
      }
    },
    {
      "cell_type": "markdown",
      "source": [
        "1. Use a loop to print all keys in the student dictionary."
      ],
      "metadata": {
        "id": "y4x_A1kBu5DR"
      }
    },
    {
      "cell_type": "code",
      "source": [
        "student = {\n",
        "    \"name\": \"Aman\",\n",
        "    \"age\": 20,\n",
        "    \"grade\": \"A\",\n",
        "    \"subject\": \"Computer Science\"\n",
        "}\n",
        "print(\"Keys:\")\n",
        "for key in student.keys():\n",
        "    print(key)"
      ],
      "metadata": {
        "colab": {
          "base_uri": "https://localhost:8080/"
        },
        "id": "oGbXrG4_vFyF",
        "outputId": "c2bc3565-99f6-4ba3-a358-ee58dd481f19"
      },
      "execution_count": 9,
      "outputs": [
        {
          "output_type": "stream",
          "name": "stdout",
          "text": [
            "Keys:\n",
            "name\n",
            "age\n",
            "grade\n",
            "subject\n"
          ]
        }
      ]
    },
    {
      "cell_type": "markdown",
      "source": [
        "2. Use another loop to print all values in the student dictionary."
      ],
      "metadata": {
        "id": "4kDS8KsuvLVR"
      }
    },
    {
      "cell_type": "code",
      "source": [
        "print(\"\\nValues:\")\n",
        "for value in student.values():\n",
        "    print(value)"
      ],
      "metadata": {
        "colab": {
          "base_uri": "https://localhost:8080/"
        },
        "id": "-FLy0H5rvNEQ",
        "outputId": "58cd00bb-2ed7-450a-a57a-d88ba9908d70"
      },
      "execution_count": 10,
      "outputs": [
        {
          "output_type": "stream",
          "name": "stdout",
          "text": [
            "\n",
            "Values:\n",
            "Aman\n",
            "20\n",
            "A\n",
            "Computer Science\n"
          ]
        }
      ]
    },
    {
      "cell_type": "markdown",
      "source": [
        "3. Write a loop to print each key-value pair in the student dictionary"
      ],
      "metadata": {
        "id": "NfbyY9_UvRQY"
      }
    },
    {
      "cell_type": "code",
      "source": [
        "student = {\n",
        "    \"name\": \"Aman\",\n",
        "    \"age\": 20,\n",
        "    \"grade\": \"A\",\n",
        "    \"subject\": \"Computer Science\"\n",
        "}\n",
        "\n",
        "for key, value in student.items():\n",
        "    print(f\"{key}: {value}\")\n"
      ],
      "metadata": {
        "colab": {
          "base_uri": "https://localhost:8080/"
        },
        "id": "wMvKe8dMvQ1p",
        "outputId": "158d9212-1d38-4e25-fd32-c5c06764c58a"
      },
      "execution_count": 11,
      "outputs": [
        {
          "output_type": "stream",
          "name": "stdout",
          "text": [
            "name: Aman\n",
            "age: 20\n",
            "grade: A\n",
            "subject: Computer Science\n"
          ]
        }
      ]
    },
    {
      "cell_type": "markdown",
      "source": [
        "# **Dictionary Comprehension:**"
      ],
      "metadata": {
        "id": "NKdjoAWovZgU"
      }
    },
    {
      "cell_type": "markdown",
      "source": [
        "1. Create a dictionary comprehension to generate a dictionary of squares from 1 to 10."
      ],
      "metadata": {
        "id": "Q-E4PY74vcjv"
      }
    },
    {
      "cell_type": "code",
      "source": [
        "squares = {x: x**2 for x in range(1, 11)}\n",
        "print(squares)\n"
      ],
      "metadata": {
        "colab": {
          "base_uri": "https://localhost:8080/"
        },
        "id": "3xjU9GFxvhPZ",
        "outputId": "73ffdecd-bc4c-43d0-c146-8b9014cb4104"
      },
      "execution_count": 12,
      "outputs": [
        {
          "output_type": "stream",
          "name": "stdout",
          "text": [
            "{1: 1, 2: 4, 3: 9, 4: 16, 5: 25, 6: 36, 7: 49, 8: 64, 9: 81, 10: 100}\n"
          ]
        }
      ]
    },
    {
      "cell_type": "markdown",
      "source": [
        "2. Filter the above dictionary to include only even squares."
      ],
      "metadata": {
        "id": "Vbv1MvZhvfUA"
      }
    },
    {
      "cell_type": "code",
      "source": [
        "even_squares = {x: square for x, square in squares.items() if square % 2 == 0}\n",
        "print(even_squares)"
      ],
      "metadata": {
        "colab": {
          "base_uri": "https://localhost:8080/"
        },
        "id": "SXUHbh0Qvoe_",
        "outputId": "ff54c863-f691-4b9a-aded-406b5d4069bb"
      },
      "execution_count": 13,
      "outputs": [
        {
          "output_type": "stream",
          "name": "stdout",
          "text": [
            "{2: 4, 4: 16, 6: 36, 8: 64, 10: 100}\n"
          ]
        }
      ]
    },
    {
      "cell_type": "markdown",
      "source": [
        "# **Nested Dictionaries:**"
      ],
      "metadata": {
        "id": "TX_SXXBEvuIz"
      }
    },
    {
      "cell_type": "markdown",
      "source": [
        "1. Create a dictionary named school with multiple students (nested dictionaries)."
      ],
      "metadata": {
        "id": "LQbl3lNhvx0z"
      }
    },
    {
      "cell_type": "code",
      "source": [
        "school = {\n",
        "    \"student1\": {\n",
        "        \"name\": \"Aman\",\n",
        "        \"age\": 16,\n",
        "        \"grade\": \"10th\",\n",
        "        \"subjects\": [\"Math\", \"Science\", \"English\"]\n",
        "    },\n",
        "    \"student2\": {\n",
        "        \"name\": \"Jaspreet\",\n",
        "        \"age\": 17,\n",
        "        \"grade\": \"11th\",\n",
        "        \"subjects\": [\"Biology\", \"Chemistry\", \"Physics\"]\n",
        "    },\n",
        "    \"student3\": {\n",
        "        \"name\": \"Simran\",\n",
        "        \"age\": 15,\n",
        "        \"grade\": \"9th\",\n",
        "        \"subjects\": [\"History\", \"Geography\", \"Civics\"]\n",
        "    }\n",
        "}\n"
      ],
      "metadata": {
        "id": "nOeGLkhkv3K2"
      },
      "execution_count": 14,
      "outputs": []
    },
    {
      "cell_type": "markdown",
      "source": [
        "2. Access and print information about a specific student within the school dictionary."
      ],
      "metadata": {
        "id": "Dq7TFi1wv9Hs"
      }
    },
    {
      "cell_type": "code",
      "source": [
        "student_id = \"student2\"\n",
        "student_info = school[student_id]\n",
        "\n",
        "print(f\"Information for {student_id}:\")\n",
        "for key, value in student_info.items():\n",
        "    print(f\"{key.capitalize()}: {value}\")"
      ],
      "metadata": {
        "colab": {
          "base_uri": "https://localhost:8080/"
        },
        "id": "UDJ3gdpdv-P0",
        "outputId": "4e11b559-48ff-402a-b922-73c44003f86a"
      },
      "execution_count": 15,
      "outputs": [
        {
          "output_type": "stream",
          "name": "stdout",
          "text": [
            "Information for student2:\n",
            "Name: Jaspreet\n",
            "Age: 17\n",
            "Grade: 11th\n",
            "Subjects: ['Biology', 'Chemistry', 'Physics']\n"
          ]
        }
      ]
    },
    {
      "cell_type": "markdown",
      "source": [
        "# **Dictionary Functions:**"
      ],
      "metadata": {
        "id": "ENX_2ku1wFuA"
      }
    },
    {
      "cell_type": "markdown",
      "source": [
        "1. Use the len() function to find the number of items in a dictionary."
      ],
      "metadata": {
        "id": "0fALJEa7wGR5"
      }
    },
    {
      "cell_type": "code",
      "source": [
        "student = {\n",
        "    \"name\": \"Aman\",\n",
        "    \"age\": 16,\n",
        "    \"grade\": \"10th\",\n",
        "    \"subjects\": [\"Math\", \"Science\", \"English\"]\n",
        "}\n",
        "\n",
        "print(len(student))"
      ],
      "metadata": {
        "colab": {
          "base_uri": "https://localhost:8080/"
        },
        "id": "Jy1Hsu0EwNEi",
        "outputId": "da5d74d7-42c3-45bc-973b-b624bc634004"
      },
      "execution_count": 16,
      "outputs": [
        {
          "output_type": "stream",
          "name": "stdout",
          "text": [
            "4\n"
          ]
        }
      ]
    },
    {
      "cell_type": "markdown",
      "source": [
        "2. Use the keys() , values() , and items() methods on a dictionary and print the results."
      ],
      "metadata": {
        "id": "dQ5swe-QwPph"
      }
    },
    {
      "cell_type": "code",
      "source": [
        "print(\"Keys:\", student.keys())\n",
        "print(\"Values:\", student.values())\n",
        "print(\"Items:\", student.items())"
      ],
      "metadata": {
        "colab": {
          "base_uri": "https://localhost:8080/"
        },
        "id": "b1Gkk0sWwStb",
        "outputId": "571d998c-8026-48f5-d37e-f66e988680b1"
      },
      "execution_count": 17,
      "outputs": [
        {
          "output_type": "stream",
          "name": "stdout",
          "text": [
            "Keys: dict_keys(['name', 'age', 'grade', 'subjects'])\n",
            "Values: dict_values(['Aman', 16, '10th', ['Math', 'Science', 'English']])\n",
            "Items: dict_items([('name', 'Aman'), ('age', 16), ('grade', '10th'), ('subjects', ['Math', 'Science', 'English'])])\n"
          ]
        }
      ]
    },
    {
      "cell_type": "markdown",
      "source": [
        "# **Sorting a Dictionary:**"
      ],
      "metadata": {
        "id": "TKa00HNGwW_2"
      }
    },
    {
      "cell_type": "markdown",
      "source": [
        "1. Create a dictionary with unsorted keys."
      ],
      "metadata": {
        "id": "xv2AxFF4wblq"
      }
    },
    {
      "cell_type": "code",
      "source": [
        "student_info = {\n",
        "    \"grade\": \"10th\",\n",
        "    \"name\": \"Aman\",\n",
        "    \"subjects\": [\"Math\", \"Science\", \"English\"],\n",
        "    \"age\": 16\n",
        "}\n",
        "print(student_info.keys())"
      ],
      "metadata": {
        "colab": {
          "base_uri": "https://localhost:8080/"
        },
        "id": "DP9_hy37weJO",
        "outputId": "bb9ab5aa-0af3-4d5b-95c6-be8067a4890f"
      },
      "execution_count": 18,
      "outputs": [
        {
          "output_type": "stream",
          "name": "stdout",
          "text": [
            "dict_keys(['grade', 'name', 'subjects', 'age'])\n"
          ]
        }
      ]
    },
    {
      "cell_type": "markdown",
      "source": [
        "2. Use the sorted() function to print the keys in alphabetical order"
      ],
      "metadata": {
        "id": "n8YdOrKrwmOh"
      }
    },
    {
      "cell_type": "code",
      "source": [
        "sorted_keys = sorted(student_info.keys())\n",
        "print(sorted_keys)"
      ],
      "metadata": {
        "colab": {
          "base_uri": "https://localhost:8080/"
        },
        "id": "ySiDcJ40wnhl",
        "outputId": "2437b6fc-a532-4b04-9069-72eb5792f103"
      },
      "execution_count": 19,
      "outputs": [
        {
          "output_type": "stream",
          "name": "stdout",
          "text": [
            "['age', 'grade', 'name', 'subjects']\n"
          ]
        }
      ]
    },
    {
      "cell_type": "markdown",
      "source": [
        "# **Dictionary Methods:**"
      ],
      "metadata": {
        "id": "x8D6C_j-wqqR"
      }
    },
    {
      "cell_type": "markdown",
      "source": [
        "1. Use the get() method to retrieve a value with a default if the key doesn't exist."
      ],
      "metadata": {
        "id": "Hsmkqqlywv_h"
      }
    },
    {
      "cell_type": "code",
      "source": [
        "student = {\n",
        "    \"name\": \"Aman\",\n",
        "    \"age\": 16,\n",
        "    \"grade\": \"10th\"\n",
        "}\n",
        "\n",
        "subjects = student.get(\"subjects\", \"No subjects listed\")\n",
        "print(subjects)\n"
      ],
      "metadata": {
        "colab": {
          "base_uri": "https://localhost:8080/"
        },
        "id": "kgpsSFd4w2Lb",
        "outputId": "c3429bf8-8d3e-4843-a300-c6d02724203c"
      },
      "execution_count": 20,
      "outputs": [
        {
          "output_type": "stream",
          "name": "stdout",
          "text": [
            "No subjects listed\n"
          ]
        }
      ]
    },
    {
      "cell_type": "markdown",
      "source": [
        "2. Use the pop() method to remove and return a specific key-value pair."
      ],
      "metadata": {
        "id": "V4uOIxmAw9vv"
      }
    },
    {
      "cell_type": "code",
      "source": [
        "removed_value = student.pop(\"age\")\n",
        "print(removed_value)\n",
        "\n",
        "print(student)"
      ],
      "metadata": {
        "id": "Tf41b7CUw-4P",
        "outputId": "e451c18b-a41a-4116-9ae2-ca3cf9b57c4d",
        "colab": {
          "base_uri": "https://localhost:8080/"
        }
      },
      "execution_count": 21,
      "outputs": [
        {
          "output_type": "stream",
          "name": "stdout",
          "text": [
            "16\n",
            "{'name': 'Aman', 'grade': '10th'}\n"
          ]
        }
      ]
    }
  ]
}